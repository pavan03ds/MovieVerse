{
 "cells": [
  {
   "cell_type": "code",
   "execution_count": 20,
   "id": "65c58610-1e7d-4fe7-b40c-39f408a40667",
   "metadata": {},
   "outputs": [],
   "source": [
    "import pandas as pd\n",
    "import numpy as np\n",
    "import time\n",
    "import os\n",
    "import pickle\n",
    "from sklearn.feature_extraction.text import TfidfVectorizer\n",
    "from sklearn.metrics.pairwise import cosine_similarity"
   ]
  },
  {
   "cell_type": "code",
   "execution_count": 26,
   "id": "34127f3d-8a88-41a2-8c33-7bd8a4d692af",
   "metadata": {},
   "outputs": [],
   "source": [
    "df = pd.read_csv(r\"C:\\Users\\P PAVAN REDDY\\Documents\\My Files\\Projects\\Recommendation System - Movies\\movies.csv\")"
   ]
  },
  {
   "cell_type": "code",
   "execution_count": 27,
   "id": "484a516e-92e8-469c-817e-29c6ee8aace4",
   "metadata": {},
   "outputs": [],
   "source": [
    "movies = df.copy()"
   ]
  },
  {
   "cell_type": "code",
   "execution_count": 28,
   "id": "9de05439-933b-460e-b5c0-5eb2849e06aa",
   "metadata": {},
   "outputs": [
    {
     "name": "stdout",
     "output_type": "stream",
     "text": [
      "<class 'pandas.core.frame.DataFrame'>\n",
      "RangeIndex: 6147 entries, 0 to 6146\n",
      "Data columns (total 15 columns):\n",
      " #   Column                        Non-Null Count  Dtype \n",
      "---  ------                        --------------  ----- \n",
      " 0   title                         6147 non-null   object\n",
      " 1   release_year                  6147 non-null   int64 \n",
      " 2   imdb_id                       6147 non-null   object\n",
      " 3   poster                        6147 non-null   object\n",
      " 4   tmdb_id                       6147 non-null   int64 \n",
      " 5   cast                          6147 non-null   object\n",
      " 6   director                      6147 non-null   object\n",
      " 7   genres                        6147 non-null   object\n",
      " 8   production_companies          6147 non-null   object\n",
      " 9   cast_display                  6147 non-null   object\n",
      " 10  director_display              6147 non-null   object\n",
      " 11  genres_display                6147 non-null   object\n",
      " 12  production_companies_display  6147 non-null   object\n",
      " 13  title_search                  6147 non-null   object\n",
      " 14  document                      6147 non-null   object\n",
      "dtypes: int64(2), object(13)\n",
      "memory usage: 720.5+ KB\n"
     ]
    }
   ],
   "source": [
    "movies.info()"
   ]
  },
  {
   "cell_type": "code",
   "execution_count": 39,
   "id": "4cdb31c6",
   "metadata": {},
   "outputs": [
    {
     "data": {
      "text/plain": [
       "0                         29thStreet\n",
       "1                    TheAddamsFamily\n",
       "2               AllIWantforChristmas\n",
       "3                  AmericanKickboxer\n",
       "4       AnAmericanTailFievelGoesWest\n",
       "                    ...             \n",
       "6142                        IronMan3\n",
       "6143             AvatarTheWayofWater\n",
       "6144         StarWarsTheForceAwakens\n",
       "6145             StarWarsTheLastJedi\n",
       "6146                        Furious7\n",
       "Name: title, Length: 6147, dtype: object"
      ]
     },
     "execution_count": 39,
     "metadata": {},
     "output_type": "execute_result"
    }
   ],
   "source": [
    "movies['title'].apply(lambda s : s.translate({ord(i): '' for i in \" +:-,;$!|&*%\"}))"
   ]
  },
  {
   "cell_type": "code",
   "execution_count": 44,
   "id": "b9a8d894",
   "metadata": {},
   "outputs": [
    {
     "name": "stdout",
     "output_type": "stream",
     "text": [
      "helloworld\n"
     ]
    }
   ],
   "source": [
    "def remove_special_characters(string):\n",
    "    # Define the set of special characters to remove\n",
    "    special_characters = \" !@#$%^&*()_+=-{}[]|\\:;\\\"'<>?,./\"\n",
    "\n",
    "    # Iterate over each character in the string and filter out the special characters\n",
    "    cleaned_string = ''.join(char for char in string if char not in special_characters)\n",
    "\n",
    "    return cleaned_string.lower()\n",
    "\n",
    "# Example usage\n",
    "string_with_special_chars = \"H@e*llo# W&or%ld!\"\n",
    "cleaned_string = remove_special_characters(string_with_special_chars)\n",
    "print(cleaned_string)  # Output: Hello World\n"
   ]
  },
  {
   "cell_type": "code",
   "execution_count": 46,
   "id": "d981d476",
   "metadata": {},
   "outputs": [
    {
     "data": {
      "text/plain": [
       "0                         29thstreet\n",
       "1                    theaddamsfamily\n",
       "2               alliwantforchristmas\n",
       "3                  americankickboxer\n",
       "4       anamericantailfievelgoeswest\n",
       "                    ...             \n",
       "6142                        ironman3\n",
       "6143             avatarthewayofwater\n",
       "6144         starwarstheforceawakens\n",
       "6145             starwarsthelastjedi\n",
       "6146                        furious7\n",
       "Name: title_search, Length: 6147, dtype: object"
      ]
     },
     "execution_count": 46,
     "metadata": {},
     "output_type": "execute_result"
    }
   ],
   "source": [
    "movies['title_search'] "
   ]
  },
  {
   "cell_type": "code",
   "execution_count": 47,
   "id": "3c54c02a",
   "metadata": {},
   "outputs": [],
   "source": [
    "movies['title_search'] = movies['title'].apply(remove_special_characters)"
   ]
  },
  {
   "cell_type": "code",
   "execution_count": 49,
   "id": "d41c47cb",
   "metadata": {},
   "outputs": [],
   "source": [
    "movies.to_csv('movies.csv', index=False)"
   ]
  },
  {
   "cell_type": "markdown",
   "id": "b0a30d93-feeb-4002-a61c-4cca57c5c073",
   "metadata": {},
   "source": [
    "creating tags column by concatinating 'cast', 'director', 'genres', 'production_companies'"
   ]
  },
  {
   "cell_type": "code",
   "execution_count": 24,
   "id": "964919bb-c894-433b-8cd4-4ddafdc1453d",
   "metadata": {},
   "outputs": [],
   "source": [
    "movies['tags'] = (movies['cast'] + \" \" + movies['director'] + \" \" \n",
    "                       + movies['genres'] + movies['production_companies']\n",
    "                      )"
   ]
  },
  {
   "cell_type": "code",
   "execution_count": 13,
   "id": "66a093c8-a35f-469b-b86e-d457b37f80bc",
   "metadata": {},
   "outputs": [
    {
     "data": {
      "text/html": [
       "<div>\n",
       "<style scoped>\n",
       "    .dataframe tbody tr th:only-of-type {\n",
       "        vertical-align: middle;\n",
       "    }\n",
       "\n",
       "    .dataframe tbody tr th {\n",
       "        vertical-align: top;\n",
       "    }\n",
       "\n",
       "    .dataframe thead th {\n",
       "        text-align: right;\n",
       "    }\n",
       "</style>\n",
       "<table border=\"1\" class=\"dataframe\">\n",
       "  <thead>\n",
       "    <tr style=\"text-align: right;\">\n",
       "      <th></th>\n",
       "      <th>title</th>\n",
       "      <th>release_year</th>\n",
       "      <th>imdb_id</th>\n",
       "      <th>poster</th>\n",
       "      <th>tmdb_id</th>\n",
       "      <th>cast</th>\n",
       "      <th>director</th>\n",
       "      <th>genres</th>\n",
       "      <th>production_companies</th>\n",
       "      <th>tags</th>\n",
       "    </tr>\n",
       "  </thead>\n",
       "  <tbody>\n",
       "    <tr>\n",
       "      <th>0</th>\n",
       "      <td>29th Street</td>\n",
       "      <td>1991</td>\n",
       "      <td>tt0101252</td>\n",
       "      <td>https://m.media-amazon.com/images/M/MV5BMWY2MT...</td>\n",
       "      <td>43267</td>\n",
       "      <td>AnthonyLaPaglia DannyAiello LainieKazan FrankP...</td>\n",
       "      <td>GeorgeGallo</td>\n",
       "      <td>Comedy</td>\n",
       "      <td>20thCenturyFox</td>\n",
       "      <td>AnthonyLaPaglia DannyAiello LainieKazan FrankP...</td>\n",
       "    </tr>\n",
       "    <tr>\n",
       "      <th>1</th>\n",
       "      <td>The Addams Family</td>\n",
       "      <td>1991</td>\n",
       "      <td>tt0101272</td>\n",
       "      <td>https://m.media-amazon.com/images/M/MV5BODc1Nm...</td>\n",
       "      <td>2907</td>\n",
       "      <td>RaúlJuliá AnjelicaHuston ChristopherLloyd Chri...</td>\n",
       "      <td>BarrySonnenfeld</td>\n",
       "      <td>Comedy Fantasy</td>\n",
       "      <td>ScottRudinProductions OrionPictures Paramount</td>\n",
       "      <td>RaúlJuliá AnjelicaHuston ChristopherLloyd Chri...</td>\n",
       "    </tr>\n",
       "    <tr>\n",
       "      <th>2</th>\n",
       "      <td>All I Want for Christmas</td>\n",
       "      <td>1991</td>\n",
       "      <td>tt0101301</td>\n",
       "      <td>https://m.media-amazon.com/images/M/MV5BMTk3Mj...</td>\n",
       "      <td>13644</td>\n",
       "      <td>HarleyJaneKozak JameySheridan ThoraBirch Ethan...</td>\n",
       "      <td>RobLieberman</td>\n",
       "      <td>Family Drama Comedy</td>\n",
       "      <td>Paramount</td>\n",
       "      <td>HarleyJaneKozak JameySheridan ThoraBirch Ethan...</td>\n",
       "    </tr>\n",
       "    <tr>\n",
       "      <th>3</th>\n",
       "      <td>American Kickboxer</td>\n",
       "      <td>1991</td>\n",
       "      <td>tt0101325</td>\n",
       "      <td>https://m.media-amazon.com/images/M/MV5BM2E2Nm...</td>\n",
       "      <td>110830</td>\n",
       "      <td>JohnBarrett KeithVitali TerryNorton BradMorris...</td>\n",
       "      <td>FransNel</td>\n",
       "      <td>Action</td>\n",
       "      <td>GlobalPictures DistantHorizon CannonGroup</td>\n",
       "      <td>JohnBarrett KeithVitali TerryNorton BradMorris...</td>\n",
       "    </tr>\n",
       "    <tr>\n",
       "      <th>4</th>\n",
       "      <td>An American Tail: Fievel Goes West</td>\n",
       "      <td>1991</td>\n",
       "      <td>tt0101329</td>\n",
       "      <td>https://m.media-amazon.com/images/M/MV5BZmUyOT...</td>\n",
       "      <td>10380</td>\n",
       "      <td>PhillipGlasser JamesStewart EricaYohn CathyCav...</td>\n",
       "      <td>SimonWells</td>\n",
       "      <td>Adventure Animation Family Western</td>\n",
       "      <td>AmblinEntertainment UniversalPictures Amblimation</td>\n",
       "      <td>PhillipGlasser JamesStewart EricaYohn CathyCav...</td>\n",
       "    </tr>\n",
       "  </tbody>\n",
       "</table>\n",
       "</div>"
      ],
      "text/plain": [
       "                                title  release_year    imdb_id  \\\n",
       "0                         29th Street          1991  tt0101252   \n",
       "1                   The Addams Family          1991  tt0101272   \n",
       "2            All I Want for Christmas          1991  tt0101301   \n",
       "3                  American Kickboxer          1991  tt0101325   \n",
       "4  An American Tail: Fievel Goes West          1991  tt0101329   \n",
       "\n",
       "                                              poster  tmdb_id  \\\n",
       "0  https://m.media-amazon.com/images/M/MV5BMWY2MT...    43267   \n",
       "1  https://m.media-amazon.com/images/M/MV5BODc1Nm...     2907   \n",
       "2  https://m.media-amazon.com/images/M/MV5BMTk3Mj...    13644   \n",
       "3  https://m.media-amazon.com/images/M/MV5BM2E2Nm...   110830   \n",
       "4  https://m.media-amazon.com/images/M/MV5BZmUyOT...    10380   \n",
       "\n",
       "                                                cast         director  \\\n",
       "0  AnthonyLaPaglia DannyAiello LainieKazan FrankP...      GeorgeGallo   \n",
       "1  RaúlJuliá AnjelicaHuston ChristopherLloyd Chri...  BarrySonnenfeld   \n",
       "2  HarleyJaneKozak JameySheridan ThoraBirch Ethan...     RobLieberman   \n",
       "3  JohnBarrett KeithVitali TerryNorton BradMorris...         FransNel   \n",
       "4  PhillipGlasser JamesStewart EricaYohn CathyCav...       SimonWells   \n",
       "\n",
       "                               genres  \\\n",
       "0                              Comedy   \n",
       "1                      Comedy Fantasy   \n",
       "2                 Family Drama Comedy   \n",
       "3                              Action   \n",
       "4  Adventure Animation Family Western   \n",
       "\n",
       "                                production_companies  \\\n",
       "0                                     20thCenturyFox   \n",
       "1      ScottRudinProductions OrionPictures Paramount   \n",
       "2                                          Paramount   \n",
       "3          GlobalPictures DistantHorizon CannonGroup   \n",
       "4  AmblinEntertainment UniversalPictures Amblimation   \n",
       "\n",
       "                                                tags  \n",
       "0  AnthonyLaPaglia DannyAiello LainieKazan FrankP...  \n",
       "1  RaúlJuliá AnjelicaHuston ChristopherLloyd Chri...  \n",
       "2  HarleyJaneKozak JameySheridan ThoraBirch Ethan...  \n",
       "3  JohnBarrett KeithVitali TerryNorton BradMorris...  \n",
       "4  PhillipGlasser JamesStewart EricaYohn CathyCav...  "
      ]
     },
     "execution_count": 13,
     "metadata": {},
     "output_type": "execute_result"
    }
   ],
   "source": [
    "movies.head()"
   ]
  },
  {
   "cell_type": "markdown",
   "id": "1251c71c-464f-4030-af91-351835910476",
   "metadata": {},
   "source": [
    "* TfidfVectorizer"
   ]
  },
  {
   "cell_type": "code",
   "execution_count": 39,
   "id": "b33c5280",
   "metadata": {},
   "outputs": [
    {
     "data": {
      "text/html": [
       "<div>\n",
       "<style scoped>\n",
       "    .dataframe tbody tr th:only-of-type {\n",
       "        vertical-align: middle;\n",
       "    }\n",
       "\n",
       "    .dataframe tbody tr th {\n",
       "        vertical-align: top;\n",
       "    }\n",
       "\n",
       "    .dataframe thead th {\n",
       "        text-align: right;\n",
       "    }\n",
       "</style>\n",
       "<table border=\"1\" class=\"dataframe\">\n",
       "  <thead>\n",
       "    <tr style=\"text-align: right;\">\n",
       "      <th></th>\n",
       "      <th>title</th>\n",
       "      <th>release_year</th>\n",
       "      <th>imdb_id</th>\n",
       "      <th>poster</th>\n",
       "      <th>tmdb_id</th>\n",
       "      <th>cast</th>\n",
       "      <th>director</th>\n",
       "      <th>genres</th>\n",
       "      <th>production_companies</th>\n",
       "      <th>tags</th>\n",
       "    </tr>\n",
       "  </thead>\n",
       "  <tbody>\n",
       "    <tr>\n",
       "      <th>3254</th>\n",
       "      <td>Iron Man</td>\n",
       "      <td>2008</td>\n",
       "      <td>tt0371746</td>\n",
       "      <td>https://m.media-amazon.com/images/M/MV5BMTczNT...</td>\n",
       "      <td>1726</td>\n",
       "      <td>RobertDowneyJr TerrenceHoward JeffBridges Gwyn...</td>\n",
       "      <td>JonFavreau</td>\n",
       "      <td>Action ScienceFiction Adventure</td>\n",
       "      <td>MarvelStudios</td>\n",
       "      <td>RobertDowneyJr TerrenceHoward JeffBridges Gwyn...</td>\n",
       "    </tr>\n",
       "  </tbody>\n",
       "</table>\n",
       "</div>"
      ],
      "text/plain": [
       "         title  release_year    imdb_id  \\\n",
       "3254  Iron Man          2008  tt0371746   \n",
       "\n",
       "                                                 poster  tmdb_id  \\\n",
       "3254  https://m.media-amazon.com/images/M/MV5BMTczNT...     1726   \n",
       "\n",
       "                                                   cast    director  \\\n",
       "3254  RobertDowneyJr TerrenceHoward JeffBridges Gwyn...  JonFavreau   \n",
       "\n",
       "                               genres production_companies  \\\n",
       "3254  Action ScienceFiction Adventure        MarvelStudios   \n",
       "\n",
       "                                                   tags  \n",
       "3254  RobertDowneyJr TerrenceHoward JeffBridges Gwyn...  "
      ]
     },
     "execution_count": 39,
     "metadata": {},
     "output_type": "execute_result"
    }
   ],
   "source": [
    "movies[movies['title'] == 'Iron Man']"
   ]
  },
  {
   "cell_type": "code",
   "execution_count": 15,
   "id": "12066b69-e393-4123-98a7-f455e4dabe0d",
   "metadata": {},
   "outputs": [
    {
     "data": {
      "text/html": [
       "<style>#sk-container-id-1 {color: black;background-color: white;}#sk-container-id-1 pre{padding: 0;}#sk-container-id-1 div.sk-toggleable {background-color: white;}#sk-container-id-1 label.sk-toggleable__label {cursor: pointer;display: block;width: 100%;margin-bottom: 0;padding: 0.3em;box-sizing: border-box;text-align: center;}#sk-container-id-1 label.sk-toggleable__label-arrow:before {content: \"▸\";float: left;margin-right: 0.25em;color: #696969;}#sk-container-id-1 label.sk-toggleable__label-arrow:hover:before {color: black;}#sk-container-id-1 div.sk-estimator:hover label.sk-toggleable__label-arrow:before {color: black;}#sk-container-id-1 div.sk-toggleable__content {max-height: 0;max-width: 0;overflow: hidden;text-align: left;background-color: #f0f8ff;}#sk-container-id-1 div.sk-toggleable__content pre {margin: 0.2em;color: black;border-radius: 0.25em;background-color: #f0f8ff;}#sk-container-id-1 input.sk-toggleable__control:checked~div.sk-toggleable__content {max-height: 200px;max-width: 100%;overflow: auto;}#sk-container-id-1 input.sk-toggleable__control:checked~label.sk-toggleable__label-arrow:before {content: \"▾\";}#sk-container-id-1 div.sk-estimator input.sk-toggleable__control:checked~label.sk-toggleable__label {background-color: #d4ebff;}#sk-container-id-1 div.sk-label input.sk-toggleable__control:checked~label.sk-toggleable__label {background-color: #d4ebff;}#sk-container-id-1 input.sk-hidden--visually {border: 0;clip: rect(1px 1px 1px 1px);clip: rect(1px, 1px, 1px, 1px);height: 1px;margin: -1px;overflow: hidden;padding: 0;position: absolute;width: 1px;}#sk-container-id-1 div.sk-estimator {font-family: monospace;background-color: #f0f8ff;border: 1px dotted black;border-radius: 0.25em;box-sizing: border-box;margin-bottom: 0.5em;}#sk-container-id-1 div.sk-estimator:hover {background-color: #d4ebff;}#sk-container-id-1 div.sk-parallel-item::after {content: \"\";width: 100%;border-bottom: 1px solid gray;flex-grow: 1;}#sk-container-id-1 div.sk-label:hover label.sk-toggleable__label {background-color: #d4ebff;}#sk-container-id-1 div.sk-serial::before {content: \"\";position: absolute;border-left: 1px solid gray;box-sizing: border-box;top: 0;bottom: 0;left: 50%;z-index: 0;}#sk-container-id-1 div.sk-serial {display: flex;flex-direction: column;align-items: center;background-color: white;padding-right: 0.2em;padding-left: 0.2em;position: relative;}#sk-container-id-1 div.sk-item {position: relative;z-index: 1;}#sk-container-id-1 div.sk-parallel {display: flex;align-items: stretch;justify-content: center;background-color: white;position: relative;}#sk-container-id-1 div.sk-item::before, #sk-container-id-1 div.sk-parallel-item::before {content: \"\";position: absolute;border-left: 1px solid gray;box-sizing: border-box;top: 0;bottom: 0;left: 50%;z-index: -1;}#sk-container-id-1 div.sk-parallel-item {display: flex;flex-direction: column;z-index: 1;position: relative;background-color: white;}#sk-container-id-1 div.sk-parallel-item:first-child::after {align-self: flex-end;width: 50%;}#sk-container-id-1 div.sk-parallel-item:last-child::after {align-self: flex-start;width: 50%;}#sk-container-id-1 div.sk-parallel-item:only-child::after {width: 0;}#sk-container-id-1 div.sk-dashed-wrapped {border: 1px dashed gray;margin: 0 0.4em 0.5em 0.4em;box-sizing: border-box;padding-bottom: 0.4em;background-color: white;}#sk-container-id-1 div.sk-label label {font-family: monospace;font-weight: bold;display: inline-block;line-height: 1.2em;}#sk-container-id-1 div.sk-label-container {text-align: center;}#sk-container-id-1 div.sk-container {/* jupyter's `normalize.less` sets `[hidden] { display: none; }` but bootstrap.min.css set `[hidden] { display: none !important; }` so we also need the `!important` here to be able to override the default hidden behavior on the sphinx rendered scikit-learn.org. See: https://github.com/scikit-learn/scikit-learn/issues/21755 */display: inline-block !important;position: relative;}#sk-container-id-1 div.sk-text-repr-fallback {display: none;}</style><div id=\"sk-container-id-1\" class=\"sk-top-container\"><div class=\"sk-text-repr-fallback\"><pre>TfidfVectorizer()</pre><b>In a Jupyter environment, please rerun this cell to show the HTML representation or trust the notebook. <br />On GitHub, the HTML representation is unable to render, please try loading this page with nbviewer.org.</b></div><div class=\"sk-container\" hidden><div class=\"sk-item\"><div class=\"sk-estimator sk-toggleable\"><input class=\"sk-toggleable__control sk-hidden--visually\" id=\"sk-estimator-id-1\" type=\"checkbox\" checked><label for=\"sk-estimator-id-1\" class=\"sk-toggleable__label sk-toggleable__label-arrow\">TfidfVectorizer</label><div class=\"sk-toggleable__content\"><pre>TfidfVectorizer()</pre></div></div></div></div></div>"
      ],
      "text/plain": [
       "TfidfVectorizer()"
      ]
     },
     "execution_count": 15,
     "metadata": {},
     "output_type": "execute_result"
    }
   ],
   "source": [
    "tfidf_tags = TfidfVectorizer()   #for tags\n",
    "tfidf_tags"
   ]
  },
  {
   "cell_type": "code",
   "execution_count": 16,
   "id": "5f57b43e-d4af-41c5-aef7-e231df304523",
   "metadata": {},
   "outputs": [
    {
     "data": {
      "text/plain": [
       "<6147x24390 sparse matrix of type '<class 'numpy.float64'>'\n",
       "\twith 73040 stored elements in Compressed Sparse Row format>"
      ]
     },
     "execution_count": 16,
     "metadata": {},
     "output_type": "execute_result"
    }
   ],
   "source": [
    "tfidf_tags_matrix = tfidf_tags.fit_transform(movies['tags'])  #tags -> tfidf vector\n",
    "tfidf_tags_matrix"
   ]
  },
  {
   "cell_type": "markdown",
   "id": "99224c33-b096-4fe4-af9d-047f79654d47",
   "metadata": {},
   "source": [
    "* cosine similariry"
   ]
  },
  {
   "cell_type": "code",
   "execution_count": 17,
   "id": "0dcdf742-fc9d-4b5c-8443-96cc766af18e",
   "metadata": {},
   "outputs": [
    {
     "data": {
      "text/plain": [
       "array([[1.        , 0.        , 0.        , ..., 0.        , 0.        ,\n",
       "        0.        ],\n",
       "       [0.        , 1.        , 0.        , ..., 0.        , 0.        ,\n",
       "        0.        ],\n",
       "       [0.        , 0.        , 1.        , ..., 0.        , 0.        ,\n",
       "        0.        ],\n",
       "       ...,\n",
       "       [0.        , 0.        , 0.        , ..., 1.        , 0.72649311,\n",
       "        0.0135681 ],\n",
       "       [0.        , 0.        , 0.        , ..., 0.72649311, 1.        ,\n",
       "        0.01421929],\n",
       "       [0.        , 0.        , 0.        , ..., 0.0135681 , 0.01421929,\n",
       "        1.        ]])"
      ]
     },
     "execution_count": 17,
     "metadata": {},
     "output_type": "execute_result"
    }
   ],
   "source": [
    "tags_similarity_array = cosine_similarity(tfidf_tags_matrix)\n",
    "tags_similarity_array"
   ]
  },
  {
   "cell_type": "code",
   "execution_count": 22,
   "id": "645d0ff8",
   "metadata": {},
   "outputs": [],
   "source": [
    "#pickle.dump(tags_similarity_array, open('similarity_array.pkl', 'wb'))"
   ]
  },
  {
   "cell_type": "markdown",
   "id": "6b480f4d-436c-4fbd-bbb7-5a364de2f3d2",
   "metadata": {},
   "source": [
    "* building function"
   ]
  },
  {
   "cell_type": "code",
   "execution_count": 53,
   "id": "cddb04aa-6897-43ea-9b86-7652eb2377e6",
   "metadata": {},
   "outputs": [],
   "source": [
    "def recommend(t):\n",
    "    \n",
    "    if t not in movies['title'].values:\n",
    "        print(\"The movie title you entered is not in our database. Please try entering a different title.\")\n",
    "        \n",
    "    else:\n",
    "    \n",
    "        if len(movies.loc[movies['title']==t]) > 1:\n",
    "        \n",
    "            #printing release year of movies with same name\n",
    "            print(movies.loc[movies['title']==t]['release_year'].values)\n",
    "            print('please provide release year...from above')\n",
    "        \n",
    "            r_year = int(input('Enter the release year :'))\n",
    "        \n",
    "            if r_year not in movies.loc[movies['title']==t]['release_year'].values:\n",
    "                print(\"\\n The release year {} you entered is not correct. We have taken the movie that was released first.\".format(r_year))\n",
    "                \n",
    "                idx =  movies.loc[movies['title']== t].index[0]\n",
    "                \n",
    "            else:\n",
    "                idx =  movies.loc[(movies['title'] == t) & (movies['release_year'] == r_year)].index[0]\n",
    "    \n",
    "    \n",
    "        else:\n",
    "            idx =  movies.loc[movies['title']== t].index[0]\n",
    "        \n",
    "        \n",
    "        score_lst = list(enumerate(tags_similarity_array[idx]))   #give index and score\n",
    "        score_lst = sorted(score_lst, key = lambda x:x[1] ,reverse=True)     #sorting descending\n",
    "        score_lst = score_lst[1:17] #excluding first item since it's the requested movie itself and giving top10\n",
    "    \n",
    "        rcmd_lst = []                                             \n",
    "        for i in range(len(score_lst)):\n",
    "            a = score_lst[i][0]\n",
    "            rcmd_lst.append(movies.iloc[a]['title']) \n",
    "        \n",
    "        \n",
    "        print('\\n Here are the recommendations for the movie: {}'.format(t))\n",
    "        \n",
    "        return rcmd_lst"
   ]
  },
  {
   "cell_type": "code",
   "execution_count": 54,
   "id": "a5176aea-28c8-48ce-99f6-33cb0a38abb7",
   "metadata": {},
   "outputs": [
    {
     "name": "stdout",
     "output_type": "stream",
     "text": [
      "[1998 2012]\n",
      "please provide release year...from above\n",
      "\n",
      " Here are the recommendations for the movie: The Avengers\n"
     ]
    },
    {
     "data": {
      "text/plain": [
       "['Avengers: Age of Ultron',\n",
       " 'Avengers: Endgame',\n",
       " 'Avengers: Infinity War',\n",
       " 'Captain America: Civil War',\n",
       " 'Iron Man',\n",
       " 'Captain America: The Winter Soldier',\n",
       " 'Ant-Man',\n",
       " 'Iron Man 2',\n",
       " 'Guardians of the Galaxy',\n",
       " 'Serenity',\n",
       " 'The Incredible Hulk',\n",
       " 'Zodiac',\n",
       " 'Eternals',\n",
       " 'The Perfect Score',\n",
       " 'The Nanny Diaries',\n",
       " 'Thor: Ragnarok']"
      ]
     },
     "execution_count": 54,
     "metadata": {},
     "output_type": "execute_result"
    }
   ],
   "source": [
    "recommend('The Avengers')"
   ]
  },
  {
   "cell_type": "code",
   "execution_count": 12,
   "id": "079e9779-1f16-4eb0-8992-260c44b6c6d5",
   "metadata": {
    "tags": []
   },
   "outputs": [
    {
     "data": {
      "text/plain": [
       "4035"
      ]
     },
     "execution_count": 12,
     "metadata": {},
     "output_type": "execute_result"
    }
   ],
   "source": [
    "movies.loc[(movies['title'] =='The Avengers') & (movies['release_year'] == 2012) ].index[0]"
   ]
  },
  {
   "cell_type": "code",
   "execution_count": 13,
   "id": "291d4949-53af-457c-8295-8ec333814a5f",
   "metadata": {},
   "outputs": [
    {
     "data": {
      "text/plain": [
       "'https://m.media-amazon.com/images/M/MV5BMWY2MTY1NWUtN2E1NC00MTg2LWFkOWQtNmE0ODJlMDZhYzUyXkEyXkFqcGdeQXVyNjMwMjk0MTQ@._V1_.jpg'"
      ]
     },
     "execution_count": 13,
     "metadata": {},
     "output_type": "execute_result"
    }
   ],
   "source": [
    "movies['poster'][0]"
   ]
  },
  {
   "cell_type": "markdown",
   "id": "65409351-6356-41b3-9b76-af6ce4143c76",
   "metadata": {},
   "source": [
    "building engine with different weitages for different features"
   ]
  },
  {
   "cell_type": "markdown",
   "id": "10a416c1-dbea-4e5e-8fdd-518a7ac16070",
   "metadata": {},
   "source": [
    "* genres"
   ]
  },
  {
   "cell_type": "code",
   "execution_count": 14,
   "id": "86f311f3-ea13-49b2-91d5-e1b5ae654e7d",
   "metadata": {},
   "outputs": [
    {
     "data": {
      "text/html": [
       "<style>#sk-container-id-2 {color: black;background-color: white;}#sk-container-id-2 pre{padding: 0;}#sk-container-id-2 div.sk-toggleable {background-color: white;}#sk-container-id-2 label.sk-toggleable__label {cursor: pointer;display: block;width: 100%;margin-bottom: 0;padding: 0.3em;box-sizing: border-box;text-align: center;}#sk-container-id-2 label.sk-toggleable__label-arrow:before {content: \"▸\";float: left;margin-right: 0.25em;color: #696969;}#sk-container-id-2 label.sk-toggleable__label-arrow:hover:before {color: black;}#sk-container-id-2 div.sk-estimator:hover label.sk-toggleable__label-arrow:before {color: black;}#sk-container-id-2 div.sk-toggleable__content {max-height: 0;max-width: 0;overflow: hidden;text-align: left;background-color: #f0f8ff;}#sk-container-id-2 div.sk-toggleable__content pre {margin: 0.2em;color: black;border-radius: 0.25em;background-color: #f0f8ff;}#sk-container-id-2 input.sk-toggleable__control:checked~div.sk-toggleable__content {max-height: 200px;max-width: 100%;overflow: auto;}#sk-container-id-2 input.sk-toggleable__control:checked~label.sk-toggleable__label-arrow:before {content: \"▾\";}#sk-container-id-2 div.sk-estimator input.sk-toggleable__control:checked~label.sk-toggleable__label {background-color: #d4ebff;}#sk-container-id-2 div.sk-label input.sk-toggleable__control:checked~label.sk-toggleable__label {background-color: #d4ebff;}#sk-container-id-2 input.sk-hidden--visually {border: 0;clip: rect(1px 1px 1px 1px);clip: rect(1px, 1px, 1px, 1px);height: 1px;margin: -1px;overflow: hidden;padding: 0;position: absolute;width: 1px;}#sk-container-id-2 div.sk-estimator {font-family: monospace;background-color: #f0f8ff;border: 1px dotted black;border-radius: 0.25em;box-sizing: border-box;margin-bottom: 0.5em;}#sk-container-id-2 div.sk-estimator:hover {background-color: #d4ebff;}#sk-container-id-2 div.sk-parallel-item::after {content: \"\";width: 100%;border-bottom: 1px solid gray;flex-grow: 1;}#sk-container-id-2 div.sk-label:hover label.sk-toggleable__label {background-color: #d4ebff;}#sk-container-id-2 div.sk-serial::before {content: \"\";position: absolute;border-left: 1px solid gray;box-sizing: border-box;top: 0;bottom: 0;left: 50%;z-index: 0;}#sk-container-id-2 div.sk-serial {display: flex;flex-direction: column;align-items: center;background-color: white;padding-right: 0.2em;padding-left: 0.2em;position: relative;}#sk-container-id-2 div.sk-item {position: relative;z-index: 1;}#sk-container-id-2 div.sk-parallel {display: flex;align-items: stretch;justify-content: center;background-color: white;position: relative;}#sk-container-id-2 div.sk-item::before, #sk-container-id-2 div.sk-parallel-item::before {content: \"\";position: absolute;border-left: 1px solid gray;box-sizing: border-box;top: 0;bottom: 0;left: 50%;z-index: -1;}#sk-container-id-2 div.sk-parallel-item {display: flex;flex-direction: column;z-index: 1;position: relative;background-color: white;}#sk-container-id-2 div.sk-parallel-item:first-child::after {align-self: flex-end;width: 50%;}#sk-container-id-2 div.sk-parallel-item:last-child::after {align-self: flex-start;width: 50%;}#sk-container-id-2 div.sk-parallel-item:only-child::after {width: 0;}#sk-container-id-2 div.sk-dashed-wrapped {border: 1px dashed gray;margin: 0 0.4em 0.5em 0.4em;box-sizing: border-box;padding-bottom: 0.4em;background-color: white;}#sk-container-id-2 div.sk-label label {font-family: monospace;font-weight: bold;display: inline-block;line-height: 1.2em;}#sk-container-id-2 div.sk-label-container {text-align: center;}#sk-container-id-2 div.sk-container {/* jupyter's `normalize.less` sets `[hidden] { display: none; }` but bootstrap.min.css set `[hidden] { display: none !important; }` so we also need the `!important` here to be able to override the default hidden behavior on the sphinx rendered scikit-learn.org. See: https://github.com/scikit-learn/scikit-learn/issues/21755 */display: inline-block !important;position: relative;}#sk-container-id-2 div.sk-text-repr-fallback {display: none;}</style><div id=\"sk-container-id-2\" class=\"sk-top-container\"><div class=\"sk-text-repr-fallback\"><pre>TfidfVectorizer()</pre><b>In a Jupyter environment, please rerun this cell to show the HTML representation or trust the notebook. <br />On GitHub, the HTML representation is unable to render, please try loading this page with nbviewer.org.</b></div><div class=\"sk-container\" hidden><div class=\"sk-item\"><div class=\"sk-estimator sk-toggleable\"><input class=\"sk-toggleable__control sk-hidden--visually\" id=\"sk-estimator-id-2\" type=\"checkbox\" checked><label for=\"sk-estimator-id-2\" class=\"sk-toggleable__label sk-toggleable__label-arrow\">TfidfVectorizer</label><div class=\"sk-toggleable__content\"><pre>TfidfVectorizer()</pre></div></div></div></div></div>"
      ],
      "text/plain": [
       "TfidfVectorizer()"
      ]
     },
     "execution_count": 14,
     "metadata": {},
     "output_type": "execute_result"
    }
   ],
   "source": [
    "#tfidf\n",
    "genres_tfidf = TfidfVectorizer()\n",
    "genres_tfidf"
   ]
  },
  {
   "cell_type": "code",
   "execution_count": 15,
   "id": "66af769d-3d75-4ada-9704-964844adceba",
   "metadata": {},
   "outputs": [
    {
     "data": {
      "text/plain": [
       "<6141x23 sparse matrix of type '<class 'numpy.float64'>'\n",
       "\twith 15445 stored elements in Compressed Sparse Row format>"
      ]
     },
     "execution_count": 15,
     "metadata": {},
     "output_type": "execute_result"
    }
   ],
   "source": [
    "tfidf_genres_matrix = genres_tfidf.fit_transform(movies['genres'])  #tags -> tfidf vector\n",
    "tfidf_genres_matrix"
   ]
  },
  {
   "cell_type": "code",
   "execution_count": 16,
   "id": "e844b96b-d89c-43e7-82fd-aecf0fcca268",
   "metadata": {},
   "outputs": [
    {
     "data": {
      "text/plain": [
       "array([[1.        , 0.49176832, 0.4693157 , ..., 0.        , 0.33940566,\n",
       "        0.34926628],\n",
       "       [0.49176832, 1.        , 0.23079459, ..., 0.        , 0.16690895,\n",
       "        0.17175809],\n",
       "       [0.4693157 , 0.23079459, 1.        , ..., 0.13670472, 0.58723263,\n",
       "        0.16391615],\n",
       "       ...,\n",
       "       [0.        , 0.        , 0.13670472, ..., 1.        , 0.        ,\n",
       "        0.57973215],\n",
       "       [0.33940566, 0.16690895, 0.58723263, ..., 0.        , 1.        ,\n",
       "        0.11854295],\n",
       "       [0.34926628, 0.17175809, 0.16391615, ..., 0.57973215, 0.11854295,\n",
       "        1.        ]])"
      ]
     },
     "execution_count": 16,
     "metadata": {},
     "output_type": "execute_result"
    }
   ],
   "source": [
    "genres_similarity_array = cosine_similarity(tfidf_genres_matrix)\n",
    "genres_similarity_array"
   ]
  },
  {
   "cell_type": "markdown",
   "id": "37296d02-e71d-41e6-8d6e-a176229dc6e9",
   "metadata": {},
   "source": [
    "* other tags"
   ]
  },
  {
   "cell_type": "code",
   "execution_count": 17,
   "id": "02043d31-3c6f-4631-8c80-f4d906a180a0",
   "metadata": {},
   "outputs": [],
   "source": [
    "movies['other_tags'] = movies['cast'] + \" \" + movies['director'] + \" \" + movies['production_companies']"
   ]
  },
  {
   "cell_type": "code",
   "execution_count": 18,
   "id": "c7eec811-02e4-43fa-b5c1-b68c4bb69bb9",
   "metadata": {},
   "outputs": [
    {
     "data": {
      "text/plain": [
       "<6141x21686 sparse matrix of type '<class 'numpy.float64'>'\n",
       "\twith 63656 stored elements in Compressed Sparse Row format>"
      ]
     },
     "execution_count": 18,
     "metadata": {},
     "output_type": "execute_result"
    }
   ],
   "source": [
    "tfidf_othertags_matrix = tfidf_tags.fit_transform(movies['other_tags'])  #tags -> tfidf vector\n",
    "tfidf_othertags_matrix"
   ]
  },
  {
   "cell_type": "code",
   "execution_count": 19,
   "id": "566869bb-de19-4e2d-9736-49b8f6ea029e",
   "metadata": {},
   "outputs": [
    {
     "data": {
      "text/plain": [
       "array([[1.        , 0.        , 0.        , ..., 0.        , 0.        ,\n",
       "        0.        ],\n",
       "       [0.        , 1.        , 0.03396061, ..., 0.        , 0.        ,\n",
       "        0.        ],\n",
       "       [0.        , 0.03396061, 1.        , ..., 0.        , 0.        ,\n",
       "        0.        ],\n",
       "       ...,\n",
       "       [0.        , 0.        , 0.        , ..., 1.        , 0.        ,\n",
       "        0.        ],\n",
       "       [0.        , 0.        , 0.        , ..., 0.        , 1.        ,\n",
       "        0.        ],\n",
       "       [0.        , 0.        , 0.        , ..., 0.        , 0.        ,\n",
       "        1.        ]])"
      ]
     },
     "execution_count": 19,
     "metadata": {},
     "output_type": "execute_result"
    }
   ],
   "source": [
    "othertags_similarity_array = cosine_similarity(tfidf_othertags_matrix)\n",
    "othertags_similarity_array"
   ]
  },
  {
   "cell_type": "markdown",
   "id": "f12002c9-ce48-424a-9dd0-da8c4eb75471",
   "metadata": {},
   "source": [
    "* building function"
   ]
  },
  {
   "cell_type": "code",
   "execution_count": 20,
   "id": "d03d9f80-415f-4a6a-8d3f-cb1584613a80",
   "metadata": {},
   "outputs": [],
   "source": [
    "def weighted_recommend(t):\n",
    "    \n",
    "    if t not in movies['title'].values:\n",
    "        print(\"The movie title you entered is not in our database. Please try entering a different title.\")\n",
    "        \n",
    "    else:\n",
    "    \n",
    "        if len(movies.loc[movies['title']==t]) > 1:\n",
    "        \n",
    "            #printing release year of movies with same name\n",
    "            print(movies.loc[movies['title']==t]['release_year'].values)\n",
    "            print('please provide release year...from above')\n",
    "        \n",
    "            r_year = int(input('Enter the release year :'))\n",
    "            \n",
    "            if r_year not in movies.loc[movies['title']==t]['release_year'].values:\n",
    "                print(\"Please try to select a valid release year for the movie from above\")\n",
    "                \n",
    "            else:\n",
    "                idx =  movies.loc[(movies['title'] == t) & (movies['release_year'] == r_year)].index[0]\n",
    "    \n",
    "        else:\n",
    "            idx =  movies.loc[movies['title']== t].index[0]\n",
    "        \n",
    "        \n",
    "        score_lst = (genres_similarity_array[idx] * 0.4 + othertags_similarity_array[idx] * 0.6)\n",
    "        score_lst = list(enumerate(score_lst))   #give index and score\n",
    "        score_lst = sorted(score_lst, key = lambda x:x[1] ,reverse=True)     #sorting descending\n",
    "        score_lst = score_lst[1:15] #excluding first item since it's the requested movie itself and giving top10\n",
    "    \n",
    "        rcmd_lst = []                                             \n",
    "        for i in range(len(score_lst)):\n",
    "            a = score_lst[i][0]\n",
    "            rcmd_lst.append(movies['title'][a]) \n",
    "        \n",
    "        \n",
    "        print('\\n Here are the recommendations for the movie: {}'.format(t))\n",
    "        \n",
    "        return rcmd_lst"
   ]
  },
  {
   "cell_type": "code",
   "execution_count": 21,
   "id": "5fc37cb4-26f7-4909-97a0-c1a9ae552639",
   "metadata": {},
   "outputs": [
    {
     "name": "stdout",
     "output_type": "stream",
     "text": [
      "\n",
      " Here are the recommendations for the movie: I, Robot\n"
     ]
    },
    {
     "data": {
      "text/plain": [
       "['Battle: Los Angeles',\n",
       " 'Terminator: Dark Fate',\n",
       " 'After Earth',\n",
       " 'Cyborg Cop',\n",
       " 'Monolith',\n",
       " 'Cyborg Cop II',\n",
       " 'Black Scorpion',\n",
       " 'Barb Wire',\n",
       " 'Space Marines',\n",
       " 'Toad Warrior',\n",
       " 'Double Team',\n",
       " 'Soldier',\n",
       " 'The Matrix',\n",
       " 'Universal Soldier: The Return']"
      ]
     },
     "execution_count": 21,
     "metadata": {},
     "output_type": "execute_result"
    }
   ],
   "source": [
    "weighted_recommend('I, Robot')"
   ]
  },
  {
   "cell_type": "code",
   "execution_count": 22,
   "id": "0a401c46-79ef-4b08-ada8-3e110141525c",
   "metadata": {},
   "outputs": [
    {
     "name": "stdout",
     "output_type": "stream",
     "text": [
      "\n",
      " Here are the recommendations for the movie: I, Robot\n"
     ]
    },
    {
     "data": {
      "text/plain": [
       "['Welcome to Mooseport',\n",
       " 'Bright',\n",
       " 'Seven Pounds',\n",
       " 'Hitch',\n",
       " 'After Earth',\n",
       " 'The Pursuit of Happyness',\n",
       " 'Bad Boys for Life',\n",
       " 'Collateral Beauty',\n",
       " 'Ali',\n",
       " '28 Days',\n",
       " 'King Richard',\n",
       " 'Hancock',\n",
       " 'I Am Legend',\n",
       " 'This Means War']"
      ]
     },
     "execution_count": 22,
     "metadata": {},
     "output_type": "execute_result"
    }
   ],
   "source": [
    "recommend('I, Robot')"
   ]
  },
  {
   "cell_type": "code",
   "execution_count": 23,
   "id": "e199e920-5add-4409-afc4-44ff7efa80d4",
   "metadata": {},
   "outputs": [],
   "source": [
    "def recommend(t):\n",
    "    \n",
    "    if t not in movies['title'].values:\n",
    "        print(\"The movie title you entered is not in our database. Please try entering a different title.\")\n",
    "        \n",
    "    else:\n",
    "    \n",
    "        if len(movies.loc[movies['title']==t]) > 1:\n",
    "        \n",
    "            #printing release year of movies with same name\n",
    "            print(movies.loc[movies['title']==t]['release_year'].values)\n",
    "            print('please provide release year...from above')\n",
    "        \n",
    "            r_year = int(input('Enter the release year :'))\n",
    "        \n",
    "            if r_year not in movies.loc[movies['title']==t]['release_year'].values:\n",
    "                print(\"\\n The release year {} you entered is not correct. We have taken the movie that was released first.\".format(r_year))\n",
    "                \n",
    "                idx =  movies.loc[movies['title']== t].index[0]\n",
    "                \n",
    "            else:\n",
    "                idx =  movies.loc[(movies['title'] == t) & (movies['release_year'] == r_year)].index[0]\n",
    "    \n",
    "    \n",
    "        else:\n",
    "            idx =  movies.loc[movies['title']== t].index[0]\n",
    "        \n",
    "        \n",
    "        score_lst = list(enumerate(tags_similarity_array[idx]))   #give index and score\n",
    "        score_lst = sorted(score_lst, key = lambda x:x[1] ,reverse=True)     #sorting descending\n",
    "        score_lst = score_lst[1:15] #excluding first item since it's the requested movie itself and giving top10\n",
    "    \n",
    "        rcmd_lst = []                                             \n",
    "        for i in range(len(score_lst)):\n",
    "            a = score_lst[i][0]\n",
    "            rcmd_lst.append(movies['title'][a]) \n",
    "        \n",
    "        \n",
    "        print('\\n Here are the recommendations for the movie: {}'.format(t))\n",
    "        \n",
    "        return rcmd_lst"
   ]
  },
  {
   "cell_type": "code",
   "execution_count": 24,
   "id": "92e84135-9577-47c8-bca8-9563e62803c6",
   "metadata": {},
   "outputs": [
    {
     "name": "stdout",
     "output_type": "stream",
     "text": [
      "[1998 2012]\n",
      "please provide release year...from above\n"
     ]
    },
    {
     "name": "stdout",
     "output_type": "stream",
     "text": [
      "Enter the release year : 2012\n"
     ]
    },
    {
     "name": "stdout",
     "output_type": "stream",
     "text": [
      "\n",
      " Here are the recommendations for the movie: The Avengers\n"
     ]
    },
    {
     "data": {
      "text/plain": [
       "['Avengers: Age of Ultron',\n",
       " 'Avengers: Endgame',\n",
       " 'Avengers: Infinity War',\n",
       " 'Captain America: Civil War',\n",
       " 'Iron Man',\n",
       " 'Captain America: The Winter Soldier',\n",
       " 'Ant-Man',\n",
       " 'Iron Man 2',\n",
       " 'Guardians of the Galaxy',\n",
       " 'Serenity',\n",
       " 'The Incredible Hulk',\n",
       " 'Zodiac',\n",
       " 'Eternals',\n",
       " 'The Perfect Score']"
      ]
     },
     "execution_count": 24,
     "metadata": {},
     "output_type": "execute_result"
    }
   ],
   "source": [
    "recommend(\"The Avengers\")"
   ]
  },
  {
   "cell_type": "code",
   "execution_count": null,
   "id": "fff8205c",
   "metadata": {},
   "outputs": [],
   "source": []
  }
 ],
 "metadata": {
  "kernelspec": {
   "display_name": "Python 3 (ipykernel)",
   "language": "python",
   "name": "python3"
  },
  "language_info": {
   "codemirror_mode": {
    "name": "ipython",
    "version": 3
   },
   "file_extension": ".py",
   "mimetype": "text/x-python",
   "name": "python",
   "nbconvert_exporter": "python",
   "pygments_lexer": "ipython3",
   "version": "3.9.16"
  },
  "toc-autonumbering": false,
  "toc-showmarkdowntxt": true
 },
 "nbformat": 4,
 "nbformat_minor": 5
}
