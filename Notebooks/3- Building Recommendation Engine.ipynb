{
 "cells": [
  {
   "cell_type": "markdown",
   "id": "5c7dd4d4",
   "metadata": {},
   "source": [
    "importing "
   ]
  },
  {
   "cell_type": "code",
   "execution_count": 114,
   "id": "65c58610-1e7d-4fe7-b40c-39f408a40667",
   "metadata": {},
   "outputs": [],
   "source": [
    "import pandas as pd\n",
    "import numpy as np\n",
    "import time\n",
    "import os\n",
    "import pickle\n",
    "from sklearn.feature_extraction.text import TfidfVectorizer, CountVectorizer\n",
    "from sklearn.metrics.pairwise import cosine_similarity"
   ]
  },
  {
   "cell_type": "code",
   "execution_count": 115,
   "id": "34127f3d-8a88-41a2-8c33-7bd8a4d692af",
   "metadata": {},
   "outputs": [],
   "source": [
    "df = pd.read_csv(r\"C:\\Users\\P PAVAN REDDY\\Documents\\My Files\\Projects\\Recommendation System - Movies\\movies.csv\")"
   ]
  },
  {
   "cell_type": "code",
   "execution_count": 116,
   "id": "484a516e-92e8-469c-817e-29c6ee8aace4",
   "metadata": {},
   "outputs": [],
   "source": [
    "movies = df.copy()"
   ]
  },
  {
   "cell_type": "code",
   "execution_count": 117,
   "id": "9de05439-933b-460e-b5c0-5eb2849e06aa",
   "metadata": {},
   "outputs": [
    {
     "name": "stdout",
     "output_type": "stream",
     "text": [
      "<class 'pandas.core.frame.DataFrame'>\n",
      "RangeIndex: 6147 entries, 0 to 6146\n",
      "Data columns (total 15 columns):\n",
      " #   Column                        Non-Null Count  Dtype \n",
      "---  ------                        --------------  ----- \n",
      " 0   title                         6147 non-null   object\n",
      " 1   release_year                  6147 non-null   int64 \n",
      " 2   imdb_id                       6147 non-null   object\n",
      " 3   poster                        6147 non-null   object\n",
      " 4   tmdb_id                       6147 non-null   int64 \n",
      " 5   cast                          6147 non-null   object\n",
      " 6   director                      6147 non-null   object\n",
      " 7   genres                        6147 non-null   object\n",
      " 8   production_companies          6147 non-null   object\n",
      " 9   cast_display                  6147 non-null   object\n",
      " 10  director_display              6147 non-null   object\n",
      " 11  genres_display                6147 non-null   object\n",
      " 12  production_companies_display  6147 non-null   object\n",
      " 13  title_search                  6147 non-null   object\n",
      " 14  document                      6147 non-null   object\n",
      "dtypes: int64(2), object(13)\n",
      "memory usage: 720.5+ KB\n"
     ]
    }
   ],
   "source": [
    "movies.info()"
   ]
  },
  {
   "cell_type": "code",
   "execution_count": 118,
   "id": "f81d15ed",
   "metadata": {},
   "outputs": [
    {
     "data": {
      "text/plain": [
       "Index(['title', 'release_year', 'imdb_id', 'poster', 'tmdb_id', 'cast',\n",
       "       'director', 'genres', 'production_companies', 'cast_display',\n",
       "       'director_display', 'genres_display', 'production_companies_display',\n",
       "       'title_search', 'document'],\n",
       "      dtype='object')"
      ]
     },
     "execution_count": 118,
     "metadata": {},
     "output_type": "execute_result"
    }
   ],
   "source": [
    "movies.columns"
   ]
  },
  {
   "cell_type": "markdown",
   "id": "b0a30d93-feeb-4002-a61c-4cca57c5c073",
   "metadata": {},
   "source": [
    "creating tags column by concatinating 'cast', 'director', 'genres', 'production_companies'"
   ]
  },
  {
   "cell_type": "code",
   "execution_count": 133,
   "id": "964919bb-c894-433b-8cd4-4ddafdc1453d",
   "metadata": {},
   "outputs": [],
   "source": [
    "movies['tags'] = (movies['cast'] + \" \" + movies['director'] + \" \" \n",
    "                       + movies['genres'] + movies['production_companies']\n",
    "                      )"
   ]
  },
  {
   "cell_type": "code",
   "execution_count": 134,
   "id": "66a093c8-a35f-469b-b86e-d457b37f80bc",
   "metadata": {},
   "outputs": [
    {
     "data": {
      "text/html": [
       "<div>\n",
       "<style scoped>\n",
       "    .dataframe tbody tr th:only-of-type {\n",
       "        vertical-align: middle;\n",
       "    }\n",
       "\n",
       "    .dataframe tbody tr th {\n",
       "        vertical-align: top;\n",
       "    }\n",
       "\n",
       "    .dataframe thead th {\n",
       "        text-align: right;\n",
       "    }\n",
       "</style>\n",
       "<table border=\"1\" class=\"dataframe\">\n",
       "  <thead>\n",
       "    <tr style=\"text-align: right;\">\n",
       "      <th></th>\n",
       "      <th>title</th>\n",
       "      <th>release_year</th>\n",
       "      <th>imdb_id</th>\n",
       "      <th>poster</th>\n",
       "      <th>tmdb_id</th>\n",
       "      <th>cast</th>\n",
       "      <th>director</th>\n",
       "      <th>genres</th>\n",
       "      <th>production_companies</th>\n",
       "      <th>cast_display</th>\n",
       "      <th>director_display</th>\n",
       "      <th>genres_display</th>\n",
       "      <th>production_companies_display</th>\n",
       "      <th>title_search</th>\n",
       "      <th>document</th>\n",
       "      <th>tags</th>\n",
       "    </tr>\n",
       "  </thead>\n",
       "  <tbody>\n",
       "    <tr>\n",
       "      <th>0</th>\n",
       "      <td>29th Street</td>\n",
       "      <td>1991</td>\n",
       "      <td>tt0101252</td>\n",
       "      <td>https://m.media-amazon.com/images/M/MV5BMWY2MT...</td>\n",
       "      <td>43267</td>\n",
       "      <td>AnthonyLaPaglia DannyAiello LainieKazan FrankP...</td>\n",
       "      <td>GeorgeGallo</td>\n",
       "      <td>Comedy</td>\n",
       "      <td>20thCenturyFox</td>\n",
       "      <td>Anthony La Paglia,  Danny Aiello,  Lainie Kaza...</td>\n",
       "      <td>George Gallo</td>\n",
       "      <td>Comedy</td>\n",
       "      <td>20th Century Fox</td>\n",
       "      <td>29thstreet</td>\n",
       "      <td>AnthonyLaPaglia DannyAiello LainieKazan FrankP...</td>\n",
       "      <td>AnthonyLaPaglia DannyAiello LainieKazan FrankP...</td>\n",
       "    </tr>\n",
       "    <tr>\n",
       "      <th>1</th>\n",
       "      <td>The Addams Family</td>\n",
       "      <td>1991</td>\n",
       "      <td>tt0101272</td>\n",
       "      <td>https://m.media-amazon.com/images/M/MV5BODc1Nm...</td>\n",
       "      <td>2907</td>\n",
       "      <td>RaúlJuliá AnjelicaHuston ChristopherLloyd Chri...</td>\n",
       "      <td>BarrySonnenfeld</td>\n",
       "      <td>Comedy Fantasy</td>\n",
       "      <td>ScottRudinProductions OrionPictures Paramount</td>\n",
       "      <td>Raúl Juliá,  Anjelica Huston,  Christopher Llo...</td>\n",
       "      <td>Barry Sonnenfeld</td>\n",
       "      <td>Comedy,  Fantasy</td>\n",
       "      <td>Scott Rudin Productions,  Orion Pictures,  Par...</td>\n",
       "      <td>theaddamsfamily</td>\n",
       "      <td>RaúlJuliá AnjelicaHuston ChristopherLloyd Chri...</td>\n",
       "      <td>RaúlJuliá AnjelicaHuston ChristopherLloyd Chri...</td>\n",
       "    </tr>\n",
       "    <tr>\n",
       "      <th>2</th>\n",
       "      <td>All I Want for Christmas</td>\n",
       "      <td>1991</td>\n",
       "      <td>tt0101301</td>\n",
       "      <td>https://m.media-amazon.com/images/M/MV5BMTk3Mj...</td>\n",
       "      <td>13644</td>\n",
       "      <td>HarleyJaneKozak JameySheridan ThoraBirch Ethan...</td>\n",
       "      <td>RobLieberman</td>\n",
       "      <td>Family Drama Comedy</td>\n",
       "      <td>Paramount</td>\n",
       "      <td>Harley Jane Kozak,  Jamey Sheridan,  Thora Bir...</td>\n",
       "      <td>Rob Lieberman</td>\n",
       "      <td>Family,  Drama,  Comedy</td>\n",
       "      <td>Paramount</td>\n",
       "      <td>alliwantforchristmas</td>\n",
       "      <td>HarleyJaneKozak JameySheridan ThoraBirch Ethan...</td>\n",
       "      <td>HarleyJaneKozak JameySheridan ThoraBirch Ethan...</td>\n",
       "    </tr>\n",
       "    <tr>\n",
       "      <th>3</th>\n",
       "      <td>American Kickboxer</td>\n",
       "      <td>1991</td>\n",
       "      <td>tt0101325</td>\n",
       "      <td>https://m.media-amazon.com/images/M/MV5BM2E2Nm...</td>\n",
       "      <td>110830</td>\n",
       "      <td>JohnBarrett KeithVitali TerryNorton BradMorris...</td>\n",
       "      <td>FransNel</td>\n",
       "      <td>Action</td>\n",
       "      <td>GlobalPictures DistantHorizon CannonGroup</td>\n",
       "      <td>John Barrett,  Keith Vitali,  Terry Norton,  B...</td>\n",
       "      <td>Frans Nel</td>\n",
       "      <td>Action</td>\n",
       "      <td>Global Pictures,  Distant Horizon,  Cannon Group</td>\n",
       "      <td>americankickboxer</td>\n",
       "      <td>JohnBarrett KeithVitali TerryNorton BradMorris...</td>\n",
       "      <td>JohnBarrett KeithVitali TerryNorton BradMorris...</td>\n",
       "    </tr>\n",
       "    <tr>\n",
       "      <th>4</th>\n",
       "      <td>An American Tail: Fievel Goes West</td>\n",
       "      <td>1991</td>\n",
       "      <td>tt0101329</td>\n",
       "      <td>https://m.media-amazon.com/images/M/MV5BZmUyOT...</td>\n",
       "      <td>10380</td>\n",
       "      <td>PhillipGlasser JamesStewart EricaYohn CathyCav...</td>\n",
       "      <td>SimonWells</td>\n",
       "      <td>Adventure Animation Family Western</td>\n",
       "      <td>AmblinEntertainment UniversalPictures Amblimation</td>\n",
       "      <td>Phillip Glasser,  James Stewart,  Erica Yohn, ...</td>\n",
       "      <td>Simon Wells</td>\n",
       "      <td>Adventure,  Animation,  Family,  Western</td>\n",
       "      <td>Amblin Entertainment,  Universal Pictures,  Am...</td>\n",
       "      <td>anamericantailfievelgoeswest</td>\n",
       "      <td>PhillipGlasser JamesStewart EricaYohn CathyCav...</td>\n",
       "      <td>PhillipGlasser JamesStewart EricaYohn CathyCav...</td>\n",
       "    </tr>\n",
       "  </tbody>\n",
       "</table>\n",
       "</div>"
      ],
      "text/plain": [
       "                                title  release_year    imdb_id  \\\n",
       "0                         29th Street          1991  tt0101252   \n",
       "1                   The Addams Family          1991  tt0101272   \n",
       "2            All I Want for Christmas          1991  tt0101301   \n",
       "3                  American Kickboxer          1991  tt0101325   \n",
       "4  An American Tail: Fievel Goes West          1991  tt0101329   \n",
       "\n",
       "                                              poster  tmdb_id  \\\n",
       "0  https://m.media-amazon.com/images/M/MV5BMWY2MT...    43267   \n",
       "1  https://m.media-amazon.com/images/M/MV5BODc1Nm...     2907   \n",
       "2  https://m.media-amazon.com/images/M/MV5BMTk3Mj...    13644   \n",
       "3  https://m.media-amazon.com/images/M/MV5BM2E2Nm...   110830   \n",
       "4  https://m.media-amazon.com/images/M/MV5BZmUyOT...    10380   \n",
       "\n",
       "                                                cast         director  \\\n",
       "0  AnthonyLaPaglia DannyAiello LainieKazan FrankP...      GeorgeGallo   \n",
       "1  RaúlJuliá AnjelicaHuston ChristopherLloyd Chri...  BarrySonnenfeld   \n",
       "2  HarleyJaneKozak JameySheridan ThoraBirch Ethan...     RobLieberman   \n",
       "3  JohnBarrett KeithVitali TerryNorton BradMorris...         FransNel   \n",
       "4  PhillipGlasser JamesStewart EricaYohn CathyCav...       SimonWells   \n",
       "\n",
       "                               genres  \\\n",
       "0                              Comedy   \n",
       "1                      Comedy Fantasy   \n",
       "2                 Family Drama Comedy   \n",
       "3                              Action   \n",
       "4  Adventure Animation Family Western   \n",
       "\n",
       "                                production_companies  \\\n",
       "0                                     20thCenturyFox   \n",
       "1      ScottRudinProductions OrionPictures Paramount   \n",
       "2                                          Paramount   \n",
       "3          GlobalPictures DistantHorizon CannonGroup   \n",
       "4  AmblinEntertainment UniversalPictures Amblimation   \n",
       "\n",
       "                                        cast_display  director_display  \\\n",
       "0  Anthony La Paglia,  Danny Aiello,  Lainie Kaza...      George Gallo   \n",
       "1  Raúl Juliá,  Anjelica Huston,  Christopher Llo...  Barry Sonnenfeld   \n",
       "2  Harley Jane Kozak,  Jamey Sheridan,  Thora Bir...     Rob Lieberman   \n",
       "3  John Barrett,  Keith Vitali,  Terry Norton,  B...         Frans Nel   \n",
       "4  Phillip Glasser,  James Stewart,  Erica Yohn, ...       Simon Wells   \n",
       "\n",
       "                             genres_display  \\\n",
       "0                                    Comedy   \n",
       "1                          Comedy,  Fantasy   \n",
       "2                   Family,  Drama,  Comedy   \n",
       "3                                    Action   \n",
       "4  Adventure,  Animation,  Family,  Western   \n",
       "\n",
       "                        production_companies_display  \\\n",
       "0                                   20th Century Fox   \n",
       "1  Scott Rudin Productions,  Orion Pictures,  Par...   \n",
       "2                                          Paramount   \n",
       "3   Global Pictures,  Distant Horizon,  Cannon Group   \n",
       "4  Amblin Entertainment,  Universal Pictures,  Am...   \n",
       "\n",
       "                   title_search  \\\n",
       "0                    29thstreet   \n",
       "1               theaddamsfamily   \n",
       "2          alliwantforchristmas   \n",
       "3             americankickboxer   \n",
       "4  anamericantailfievelgoeswest   \n",
       "\n",
       "                                            document  \\\n",
       "0  AnthonyLaPaglia DannyAiello LainieKazan FrankP...   \n",
       "1  RaúlJuliá AnjelicaHuston ChristopherLloyd Chri...   \n",
       "2  HarleyJaneKozak JameySheridan ThoraBirch Ethan...   \n",
       "3  JohnBarrett KeithVitali TerryNorton BradMorris...   \n",
       "4  PhillipGlasser JamesStewart EricaYohn CathyCav...   \n",
       "\n",
       "                                                tags  \n",
       "0  AnthonyLaPaglia DannyAiello LainieKazan FrankP...  \n",
       "1  RaúlJuliá AnjelicaHuston ChristopherLloyd Chri...  \n",
       "2  HarleyJaneKozak JameySheridan ThoraBirch Ethan...  \n",
       "3  JohnBarrett KeithVitali TerryNorton BradMorris...  \n",
       "4  PhillipGlasser JamesStewart EricaYohn CathyCav...  "
      ]
     },
     "execution_count": 134,
     "metadata": {},
     "output_type": "execute_result"
    }
   ],
   "source": [
    "movies.head()"
   ]
  },
  {
   "cell_type": "markdown",
   "id": "1251c71c-464f-4030-af91-351835910476",
   "metadata": {},
   "source": [
    "* TfidfVectorizer"
   ]
  },
  {
   "cell_type": "code",
   "execution_count": 135,
   "id": "b33c5280",
   "metadata": {},
   "outputs": [
    {
     "data": {
      "text/html": [
       "<div>\n",
       "<style scoped>\n",
       "    .dataframe tbody tr th:only-of-type {\n",
       "        vertical-align: middle;\n",
       "    }\n",
       "\n",
       "    .dataframe tbody tr th {\n",
       "        vertical-align: top;\n",
       "    }\n",
       "\n",
       "    .dataframe thead th {\n",
       "        text-align: right;\n",
       "    }\n",
       "</style>\n",
       "<table border=\"1\" class=\"dataframe\">\n",
       "  <thead>\n",
       "    <tr style=\"text-align: right;\">\n",
       "      <th></th>\n",
       "      <th>title</th>\n",
       "      <th>release_year</th>\n",
       "      <th>imdb_id</th>\n",
       "      <th>poster</th>\n",
       "      <th>tmdb_id</th>\n",
       "      <th>cast</th>\n",
       "      <th>director</th>\n",
       "      <th>genres</th>\n",
       "      <th>production_companies</th>\n",
       "      <th>cast_display</th>\n",
       "      <th>director_display</th>\n",
       "      <th>genres_display</th>\n",
       "      <th>production_companies_display</th>\n",
       "      <th>title_search</th>\n",
       "      <th>document</th>\n",
       "      <th>tags</th>\n",
       "    </tr>\n",
       "  </thead>\n",
       "  <tbody>\n",
       "    <tr>\n",
       "      <th>3254</th>\n",
       "      <td>Iron Man</td>\n",
       "      <td>2008</td>\n",
       "      <td>tt0371746</td>\n",
       "      <td>https://m.media-amazon.com/images/M/MV5BMTczNT...</td>\n",
       "      <td>1726</td>\n",
       "      <td>RobertDowneyJr TerrenceHoward JeffBridges Gwyn...</td>\n",
       "      <td>JonFavreau</td>\n",
       "      <td>Action ScienceFiction Adventure</td>\n",
       "      <td>MarvelStudios</td>\n",
       "      <td>Robert Downey Jr,  Terrence Howard,  Jeff Brid...</td>\n",
       "      <td>Jon Favreau</td>\n",
       "      <td>Action,  Science Fiction,  Adventure</td>\n",
       "      <td>Marvel Studios</td>\n",
       "      <td>ironman</td>\n",
       "      <td>RobertDowneyJr TerrenceHoward JeffBridges Gwyn...</td>\n",
       "      <td>RobertDowneyJr TerrenceHoward JeffBridges Gwyn...</td>\n",
       "    </tr>\n",
       "  </tbody>\n",
       "</table>\n",
       "</div>"
      ],
      "text/plain": [
       "         title  release_year    imdb_id  \\\n",
       "3254  Iron Man          2008  tt0371746   \n",
       "\n",
       "                                                 poster  tmdb_id  \\\n",
       "3254  https://m.media-amazon.com/images/M/MV5BMTczNT...     1726   \n",
       "\n",
       "                                                   cast    director  \\\n",
       "3254  RobertDowneyJr TerrenceHoward JeffBridges Gwyn...  JonFavreau   \n",
       "\n",
       "                               genres production_companies  \\\n",
       "3254  Action ScienceFiction Adventure        MarvelStudios   \n",
       "\n",
       "                                           cast_display director_display  \\\n",
       "3254  Robert Downey Jr,  Terrence Howard,  Jeff Brid...      Jon Favreau   \n",
       "\n",
       "                            genres_display production_companies_display  \\\n",
       "3254  Action,  Science Fiction,  Adventure               Marvel Studios   \n",
       "\n",
       "     title_search                                           document  \\\n",
       "3254      ironman  RobertDowneyJr TerrenceHoward JeffBridges Gwyn...   \n",
       "\n",
       "                                                   tags  \n",
       "3254  RobertDowneyJr TerrenceHoward JeffBridges Gwyn...  "
      ]
     },
     "execution_count": 135,
     "metadata": {},
     "output_type": "execute_result"
    }
   ],
   "source": [
    "movies[movies['title'] == 'Iron Man']"
   ]
  },
  {
   "cell_type": "code",
   "execution_count": 136,
   "id": "12066b69-e393-4123-98a7-f455e4dabe0d",
   "metadata": {},
   "outputs": [
    {
     "data": {
      "text/html": [
       "<style>#sk-container-id-1 {color: black;background-color: white;}#sk-container-id-1 pre{padding: 0;}#sk-container-id-1 div.sk-toggleable {background-color: white;}#sk-container-id-1 label.sk-toggleable__label {cursor: pointer;display: block;width: 100%;margin-bottom: 0;padding: 0.3em;box-sizing: border-box;text-align: center;}#sk-container-id-1 label.sk-toggleable__label-arrow:before {content: \"▸\";float: left;margin-right: 0.25em;color: #696969;}#sk-container-id-1 label.sk-toggleable__label-arrow:hover:before {color: black;}#sk-container-id-1 div.sk-estimator:hover label.sk-toggleable__label-arrow:before {color: black;}#sk-container-id-1 div.sk-toggleable__content {max-height: 0;max-width: 0;overflow: hidden;text-align: left;background-color: #f0f8ff;}#sk-container-id-1 div.sk-toggleable__content pre {margin: 0.2em;color: black;border-radius: 0.25em;background-color: #f0f8ff;}#sk-container-id-1 input.sk-toggleable__control:checked~div.sk-toggleable__content {max-height: 200px;max-width: 100%;overflow: auto;}#sk-container-id-1 input.sk-toggleable__control:checked~label.sk-toggleable__label-arrow:before {content: \"▾\";}#sk-container-id-1 div.sk-estimator input.sk-toggleable__control:checked~label.sk-toggleable__label {background-color: #d4ebff;}#sk-container-id-1 div.sk-label input.sk-toggleable__control:checked~label.sk-toggleable__label {background-color: #d4ebff;}#sk-container-id-1 input.sk-hidden--visually {border: 0;clip: rect(1px 1px 1px 1px);clip: rect(1px, 1px, 1px, 1px);height: 1px;margin: -1px;overflow: hidden;padding: 0;position: absolute;width: 1px;}#sk-container-id-1 div.sk-estimator {font-family: monospace;background-color: #f0f8ff;border: 1px dotted black;border-radius: 0.25em;box-sizing: border-box;margin-bottom: 0.5em;}#sk-container-id-1 div.sk-estimator:hover {background-color: #d4ebff;}#sk-container-id-1 div.sk-parallel-item::after {content: \"\";width: 100%;border-bottom: 1px solid gray;flex-grow: 1;}#sk-container-id-1 div.sk-label:hover label.sk-toggleable__label {background-color: #d4ebff;}#sk-container-id-1 div.sk-serial::before {content: \"\";position: absolute;border-left: 1px solid gray;box-sizing: border-box;top: 0;bottom: 0;left: 50%;z-index: 0;}#sk-container-id-1 div.sk-serial {display: flex;flex-direction: column;align-items: center;background-color: white;padding-right: 0.2em;padding-left: 0.2em;position: relative;}#sk-container-id-1 div.sk-item {position: relative;z-index: 1;}#sk-container-id-1 div.sk-parallel {display: flex;align-items: stretch;justify-content: center;background-color: white;position: relative;}#sk-container-id-1 div.sk-item::before, #sk-container-id-1 div.sk-parallel-item::before {content: \"\";position: absolute;border-left: 1px solid gray;box-sizing: border-box;top: 0;bottom: 0;left: 50%;z-index: -1;}#sk-container-id-1 div.sk-parallel-item {display: flex;flex-direction: column;z-index: 1;position: relative;background-color: white;}#sk-container-id-1 div.sk-parallel-item:first-child::after {align-self: flex-end;width: 50%;}#sk-container-id-1 div.sk-parallel-item:last-child::after {align-self: flex-start;width: 50%;}#sk-container-id-1 div.sk-parallel-item:only-child::after {width: 0;}#sk-container-id-1 div.sk-dashed-wrapped {border: 1px dashed gray;margin: 0 0.4em 0.5em 0.4em;box-sizing: border-box;padding-bottom: 0.4em;background-color: white;}#sk-container-id-1 div.sk-label label {font-family: monospace;font-weight: bold;display: inline-block;line-height: 1.2em;}#sk-container-id-1 div.sk-label-container {text-align: center;}#sk-container-id-1 div.sk-container {/* jupyter's `normalize.less` sets `[hidden] { display: none; }` but bootstrap.min.css set `[hidden] { display: none !important; }` so we also need the `!important` here to be able to override the default hidden behavior on the sphinx rendered scikit-learn.org. See: https://github.com/scikit-learn/scikit-learn/issues/21755 */display: inline-block !important;position: relative;}#sk-container-id-1 div.sk-text-repr-fallback {display: none;}</style><div id=\"sk-container-id-1\" class=\"sk-top-container\"><div class=\"sk-text-repr-fallback\"><pre>TfidfVectorizer()</pre><b>In a Jupyter environment, please rerun this cell to show the HTML representation or trust the notebook. <br />On GitHub, the HTML representation is unable to render, please try loading this page with nbviewer.org.</b></div><div class=\"sk-container\" hidden><div class=\"sk-item\"><div class=\"sk-estimator sk-toggleable\"><input class=\"sk-toggleable__control sk-hidden--visually\" id=\"sk-estimator-id-1\" type=\"checkbox\" checked><label for=\"sk-estimator-id-1\" class=\"sk-toggleable__label sk-toggleable__label-arrow\">TfidfVectorizer</label><div class=\"sk-toggleable__content\"><pre>TfidfVectorizer()</pre></div></div></div></div></div>"
      ],
      "text/plain": [
       "TfidfVectorizer()"
      ]
     },
     "execution_count": 136,
     "metadata": {},
     "output_type": "execute_result"
    }
   ],
   "source": [
    "tfidf_tags = TfidfVectorizer()   #for tags\n",
    "tfidf_tags"
   ]
  },
  {
   "cell_type": "code",
   "execution_count": 137,
   "id": "5f57b43e-d4af-41c5-aef7-e231df304523",
   "metadata": {},
   "outputs": [
    {
     "data": {
      "text/plain": [
       "<6147x24390 sparse matrix of type '<class 'numpy.float64'>'\n",
       "\twith 73040 stored elements in Compressed Sparse Row format>"
      ]
     },
     "execution_count": 137,
     "metadata": {},
     "output_type": "execute_result"
    }
   ],
   "source": [
    "tfidf_tags_matrix = tfidf_tags.fit_transform(movies['tags'])  #tags -> tfidf vector\n",
    "tfidf_tags_matrix"
   ]
  },
  {
   "cell_type": "markdown",
   "id": "99224c33-b096-4fe4-af9d-047f79654d47",
   "metadata": {},
   "source": [
    "* cosine similariry"
   ]
  },
  {
   "cell_type": "code",
   "execution_count": 138,
   "id": "0dcdf742-fc9d-4b5c-8443-96cc766af18e",
   "metadata": {},
   "outputs": [
    {
     "data": {
      "text/plain": [
       "array([[1.        , 0.        , 0.        , ..., 0.        , 0.        ,\n",
       "        0.        ],\n",
       "       [0.        , 1.        , 0.        , ..., 0.        , 0.        ,\n",
       "        0.        ],\n",
       "       [0.        , 0.        , 1.        , ..., 0.        , 0.        ,\n",
       "        0.        ],\n",
       "       ...,\n",
       "       [0.        , 0.        , 0.        , ..., 1.        , 0.72649311,\n",
       "        0.0135681 ],\n",
       "       [0.        , 0.        , 0.        , ..., 0.72649311, 1.        ,\n",
       "        0.01421929],\n",
       "       [0.        , 0.        , 0.        , ..., 0.0135681 , 0.01421929,\n",
       "        1.        ]])"
      ]
     },
     "execution_count": 138,
     "metadata": {},
     "output_type": "execute_result"
    }
   ],
   "source": [
    "tags_similarity_array = cosine_similarity(tfidf_tags_matrix)\n",
    "tags_similarity_array"
   ]
  },
  {
   "cell_type": "code",
   "execution_count": 139,
   "id": "645d0ff8",
   "metadata": {},
   "outputs": [],
   "source": [
    "#pickle.dump(tags_similarity_array, open('similarity_array.pkl', 'wb'))"
   ]
  },
  {
   "cell_type": "markdown",
   "id": "6b480f4d-436c-4fbd-bbb7-5a364de2f3d2",
   "metadata": {},
   "source": [
    "* building function"
   ]
  },
  {
   "cell_type": "code",
   "execution_count": 140,
   "id": "cddb04aa-6897-43ea-9b86-7652eb2377e6",
   "metadata": {},
   "outputs": [],
   "source": [
    "def recommend(t):\n",
    "    \n",
    "    if t not in movies['title'].values:\n",
    "        print(\"The movie title you entered is not in our database. Please try entering a different title.\")\n",
    "        \n",
    "    else:\n",
    "    \n",
    "        if len(movies.loc[movies['title']==t]) > 1:\n",
    "        \n",
    "            #printing release year of movies with same name\n",
    "            print(movies.loc[movies['title']==t]['release_year'].values)\n",
    "            print('please provide release year...from above')\n",
    "        \n",
    "            r_year = int(input('Enter the release year :'))\n",
    "        \n",
    "            if r_year not in movies.loc[movies['title']==t]['release_year'].values:\n",
    "                print(\"\\n The release year {} you entered is not correct. We have taken the movie that was released first.\".format(r_year))\n",
    "                \n",
    "                idx =  movies.loc[movies['title']== t].index[0]\n",
    "                \n",
    "            else:\n",
    "                idx =  movies.loc[(movies['title'] == t) & (movies['release_year'] == r_year)].index[0]\n",
    "    \n",
    "    \n",
    "        else:\n",
    "            idx =  movies.loc[movies['title']== t].index[0]\n",
    "        \n",
    "        \n",
    "        score_lst = list(enumerate(tags_similarity_array[idx]))   #give index and score\n",
    "        score_lst = sorted(score_lst, key = lambda x:x[1] ,reverse=True)     #sorting descending\n",
    "        score_lst = score_lst[1:17] #excluding first item since it's the requested movie itself and giving top10\n",
    "    \n",
    "        rcmd_lst = []                                             \n",
    "        for i in range(len(score_lst)):\n",
    "            a = score_lst[i][0]\n",
    "            rcmd_lst.append(movies.iloc[a]['title']) \n",
    "        \n",
    "        \n",
    "        print('\\n Here are the recommendations for the movie: {}'.format(t))\n",
    "        \n",
    "        return rcmd_lst"
   ]
  },
  {
   "cell_type": "code",
   "execution_count": 141,
   "id": "a5176aea-28c8-48ce-99f6-33cb0a38abb7",
   "metadata": {},
   "outputs": [
    {
     "name": "stdout",
     "output_type": "stream",
     "text": [
      "[1998 2012]\n",
      "please provide release year...from above\n"
     ]
    },
    {
     "ename": "ValueError",
     "evalue": "invalid literal for int() with base 10: ''",
     "output_type": "error",
     "traceback": [
      "\u001b[1;31m---------------------------------------------------------------------------\u001b[0m",
      "\u001b[1;31mValueError\u001b[0m                                Traceback (most recent call last)",
      "Cell \u001b[1;32mIn[141], line 1\u001b[0m\n\u001b[1;32m----> 1\u001b[0m recommend(\u001b[39m'\u001b[39;49m\u001b[39mThe Avengers\u001b[39;49m\u001b[39m'\u001b[39;49m)\n",
      "Cell \u001b[1;32mIn[140], line 14\u001b[0m, in \u001b[0;36mrecommend\u001b[1;34m(t)\u001b[0m\n\u001b[0;32m     11\u001b[0m \u001b[39mprint\u001b[39m(movies\u001b[39m.\u001b[39mloc[movies[\u001b[39m'\u001b[39m\u001b[39mtitle\u001b[39m\u001b[39m'\u001b[39m]\u001b[39m==\u001b[39mt][\u001b[39m'\u001b[39m\u001b[39mrelease_year\u001b[39m\u001b[39m'\u001b[39m]\u001b[39m.\u001b[39mvalues)\n\u001b[0;32m     12\u001b[0m \u001b[39mprint\u001b[39m(\u001b[39m'\u001b[39m\u001b[39mplease provide release year...from above\u001b[39m\u001b[39m'\u001b[39m)\n\u001b[1;32m---> 14\u001b[0m r_year \u001b[39m=\u001b[39m \u001b[39mint\u001b[39;49m(\u001b[39minput\u001b[39;49m(\u001b[39m'\u001b[39;49m\u001b[39mEnter the release year :\u001b[39;49m\u001b[39m'\u001b[39;49m))\n\u001b[0;32m     16\u001b[0m \u001b[39mif\u001b[39;00m r_year \u001b[39mnot\u001b[39;00m \u001b[39min\u001b[39;00m movies\u001b[39m.\u001b[39mloc[movies[\u001b[39m'\u001b[39m\u001b[39mtitle\u001b[39m\u001b[39m'\u001b[39m]\u001b[39m==\u001b[39mt][\u001b[39m'\u001b[39m\u001b[39mrelease_year\u001b[39m\u001b[39m'\u001b[39m]\u001b[39m.\u001b[39mvalues:\n\u001b[0;32m     17\u001b[0m     \u001b[39mprint\u001b[39m(\u001b[39m\"\u001b[39m\u001b[39m\\n\u001b[39;00m\u001b[39m The release year \u001b[39m\u001b[39m{}\u001b[39;00m\u001b[39m you entered is not correct. We have taken the movie that was released first.\u001b[39m\u001b[39m\"\u001b[39m\u001b[39m.\u001b[39mformat(r_year))\n",
      "\u001b[1;31mValueError\u001b[0m: invalid literal for int() with base 10: ''"
     ]
    }
   ],
   "source": [
    "recommend('The Avengers')"
   ]
  },
  {
   "cell_type": "code",
   "execution_count": 12,
   "id": "079e9779-1f16-4eb0-8992-260c44b6c6d5",
   "metadata": {
    "tags": []
   },
   "outputs": [
    {
     "data": {
      "text/plain": [
       "4035"
      ]
     },
     "execution_count": 12,
     "metadata": {},
     "output_type": "execute_result"
    }
   ],
   "source": [
    "movies.loc[(movies['title'] =='The Avengers') & (movies['release_year'] == 2012) ].index[0]"
   ]
  },
  {
   "cell_type": "code",
   "execution_count": 13,
   "id": "291d4949-53af-457c-8295-8ec333814a5f",
   "metadata": {},
   "outputs": [
    {
     "data": {
      "text/plain": [
       "'https://m.media-amazon.com/images/M/MV5BMWY2MTY1NWUtN2E1NC00MTg2LWFkOWQtNmE0ODJlMDZhYzUyXkEyXkFqcGdeQXVyNjMwMjk0MTQ@._V1_.jpg'"
      ]
     },
     "execution_count": 13,
     "metadata": {},
     "output_type": "execute_result"
    }
   ],
   "source": [
    "movies['poster'][0]"
   ]
  },
  {
   "cell_type": "markdown",
   "id": "65409351-6356-41b3-9b76-af6ce4143c76",
   "metadata": {},
   "source": [
    "building engine with different weitages for different features"
   ]
  },
  {
   "cell_type": "markdown",
   "id": "10a416c1-dbea-4e5e-8fdd-518a7ac16070",
   "metadata": {},
   "source": [
    "* genres"
   ]
  },
  {
   "cell_type": "code",
   "execution_count": 14,
   "id": "86f311f3-ea13-49b2-91d5-e1b5ae654e7d",
   "metadata": {},
   "outputs": [
    {
     "data": {
      "text/html": [
       "<style>#sk-container-id-2 {color: black;background-color: white;}#sk-container-id-2 pre{padding: 0;}#sk-container-id-2 div.sk-toggleable {background-color: white;}#sk-container-id-2 label.sk-toggleable__label {cursor: pointer;display: block;width: 100%;margin-bottom: 0;padding: 0.3em;box-sizing: border-box;text-align: center;}#sk-container-id-2 label.sk-toggleable__label-arrow:before {content: \"▸\";float: left;margin-right: 0.25em;color: #696969;}#sk-container-id-2 label.sk-toggleable__label-arrow:hover:before {color: black;}#sk-container-id-2 div.sk-estimator:hover label.sk-toggleable__label-arrow:before {color: black;}#sk-container-id-2 div.sk-toggleable__content {max-height: 0;max-width: 0;overflow: hidden;text-align: left;background-color: #f0f8ff;}#sk-container-id-2 div.sk-toggleable__content pre {margin: 0.2em;color: black;border-radius: 0.25em;background-color: #f0f8ff;}#sk-container-id-2 input.sk-toggleable__control:checked~div.sk-toggleable__content {max-height: 200px;max-width: 100%;overflow: auto;}#sk-container-id-2 input.sk-toggleable__control:checked~label.sk-toggleable__label-arrow:before {content: \"▾\";}#sk-container-id-2 div.sk-estimator input.sk-toggleable__control:checked~label.sk-toggleable__label {background-color: #d4ebff;}#sk-container-id-2 div.sk-label input.sk-toggleable__control:checked~label.sk-toggleable__label {background-color: #d4ebff;}#sk-container-id-2 input.sk-hidden--visually {border: 0;clip: rect(1px 1px 1px 1px);clip: rect(1px, 1px, 1px, 1px);height: 1px;margin: -1px;overflow: hidden;padding: 0;position: absolute;width: 1px;}#sk-container-id-2 div.sk-estimator {font-family: monospace;background-color: #f0f8ff;border: 1px dotted black;border-radius: 0.25em;box-sizing: border-box;margin-bottom: 0.5em;}#sk-container-id-2 div.sk-estimator:hover {background-color: #d4ebff;}#sk-container-id-2 div.sk-parallel-item::after {content: \"\";width: 100%;border-bottom: 1px solid gray;flex-grow: 1;}#sk-container-id-2 div.sk-label:hover label.sk-toggleable__label {background-color: #d4ebff;}#sk-container-id-2 div.sk-serial::before {content: \"\";position: absolute;border-left: 1px solid gray;box-sizing: border-box;top: 0;bottom: 0;left: 50%;z-index: 0;}#sk-container-id-2 div.sk-serial {display: flex;flex-direction: column;align-items: center;background-color: white;padding-right: 0.2em;padding-left: 0.2em;position: relative;}#sk-container-id-2 div.sk-item {position: relative;z-index: 1;}#sk-container-id-2 div.sk-parallel {display: flex;align-items: stretch;justify-content: center;background-color: white;position: relative;}#sk-container-id-2 div.sk-item::before, #sk-container-id-2 div.sk-parallel-item::before {content: \"\";position: absolute;border-left: 1px solid gray;box-sizing: border-box;top: 0;bottom: 0;left: 50%;z-index: -1;}#sk-container-id-2 div.sk-parallel-item {display: flex;flex-direction: column;z-index: 1;position: relative;background-color: white;}#sk-container-id-2 div.sk-parallel-item:first-child::after {align-self: flex-end;width: 50%;}#sk-container-id-2 div.sk-parallel-item:last-child::after {align-self: flex-start;width: 50%;}#sk-container-id-2 div.sk-parallel-item:only-child::after {width: 0;}#sk-container-id-2 div.sk-dashed-wrapped {border: 1px dashed gray;margin: 0 0.4em 0.5em 0.4em;box-sizing: border-box;padding-bottom: 0.4em;background-color: white;}#sk-container-id-2 div.sk-label label {font-family: monospace;font-weight: bold;display: inline-block;line-height: 1.2em;}#sk-container-id-2 div.sk-label-container {text-align: center;}#sk-container-id-2 div.sk-container {/* jupyter's `normalize.less` sets `[hidden] { display: none; }` but bootstrap.min.css set `[hidden] { display: none !important; }` so we also need the `!important` here to be able to override the default hidden behavior on the sphinx rendered scikit-learn.org. See: https://github.com/scikit-learn/scikit-learn/issues/21755 */display: inline-block !important;position: relative;}#sk-container-id-2 div.sk-text-repr-fallback {display: none;}</style><div id=\"sk-container-id-2\" class=\"sk-top-container\"><div class=\"sk-text-repr-fallback\"><pre>TfidfVectorizer()</pre><b>In a Jupyter environment, please rerun this cell to show the HTML representation or trust the notebook. <br />On GitHub, the HTML representation is unable to render, please try loading this page with nbviewer.org.</b></div><div class=\"sk-container\" hidden><div class=\"sk-item\"><div class=\"sk-estimator sk-toggleable\"><input class=\"sk-toggleable__control sk-hidden--visually\" id=\"sk-estimator-id-2\" type=\"checkbox\" checked><label for=\"sk-estimator-id-2\" class=\"sk-toggleable__label sk-toggleable__label-arrow\">TfidfVectorizer</label><div class=\"sk-toggleable__content\"><pre>TfidfVectorizer()</pre></div></div></div></div></div>"
      ],
      "text/plain": [
       "TfidfVectorizer()"
      ]
     },
     "execution_count": 14,
     "metadata": {},
     "output_type": "execute_result"
    }
   ],
   "source": [
    "#tfidf\n",
    "genres_tfidf = TfidfVectorizer()\n",
    "genres_tfidf"
   ]
  },
  {
   "cell_type": "code",
   "execution_count": 15,
   "id": "66af769d-3d75-4ada-9704-964844adceba",
   "metadata": {},
   "outputs": [
    {
     "data": {
      "text/plain": [
       "<6141x23 sparse matrix of type '<class 'numpy.float64'>'\n",
       "\twith 15445 stored elements in Compressed Sparse Row format>"
      ]
     },
     "execution_count": 15,
     "metadata": {},
     "output_type": "execute_result"
    }
   ],
   "source": [
    "tfidf_genres_matrix = genres_tfidf.fit_transform(movies['genres'])  #tags -> tfidf vector\n",
    "tfidf_genres_matrix"
   ]
  },
  {
   "cell_type": "code",
   "execution_count": 16,
   "id": "e844b96b-d89c-43e7-82fd-aecf0fcca268",
   "metadata": {},
   "outputs": [
    {
     "data": {
      "text/plain": [
       "array([[1.        , 0.49176832, 0.4693157 , ..., 0.        , 0.33940566,\n",
       "        0.34926628],\n",
       "       [0.49176832, 1.        , 0.23079459, ..., 0.        , 0.16690895,\n",
       "        0.17175809],\n",
       "       [0.4693157 , 0.23079459, 1.        , ..., 0.13670472, 0.58723263,\n",
       "        0.16391615],\n",
       "       ...,\n",
       "       [0.        , 0.        , 0.13670472, ..., 1.        , 0.        ,\n",
       "        0.57973215],\n",
       "       [0.33940566, 0.16690895, 0.58723263, ..., 0.        , 1.        ,\n",
       "        0.11854295],\n",
       "       [0.34926628, 0.17175809, 0.16391615, ..., 0.57973215, 0.11854295,\n",
       "        1.        ]])"
      ]
     },
     "execution_count": 16,
     "metadata": {},
     "output_type": "execute_result"
    }
   ],
   "source": [
    "genres_similarity_array = cosine_similarity(tfidf_genres_matrix)\n",
    "genres_similarity_array"
   ]
  },
  {
   "cell_type": "markdown",
   "id": "37296d02-e71d-41e6-8d6e-a176229dc6e9",
   "metadata": {},
   "source": [
    "* other tags"
   ]
  },
  {
   "cell_type": "code",
   "execution_count": 17,
   "id": "02043d31-3c6f-4631-8c80-f4d906a180a0",
   "metadata": {},
   "outputs": [],
   "source": [
    "movies['other_tags'] = movies['cast'] + \" \" + movies['director'] + \" \" + movies['production_companies']"
   ]
  },
  {
   "cell_type": "code",
   "execution_count": 18,
   "id": "c7eec811-02e4-43fa-b5c1-b68c4bb69bb9",
   "metadata": {},
   "outputs": [
    {
     "data": {
      "text/plain": [
       "<6141x21686 sparse matrix of type '<class 'numpy.float64'>'\n",
       "\twith 63656 stored elements in Compressed Sparse Row format>"
      ]
     },
     "execution_count": 18,
     "metadata": {},
     "output_type": "execute_result"
    }
   ],
   "source": [
    "tfidf_othertags_matrix = tfidf_tags.fit_transform(movies['other_tags'])  #tags -> tfidf vector\n",
    "tfidf_othertags_matrix"
   ]
  },
  {
   "cell_type": "code",
   "execution_count": 19,
   "id": "566869bb-de19-4e2d-9736-49b8f6ea029e",
   "metadata": {},
   "outputs": [
    {
     "data": {
      "text/plain": [
       "array([[1.        , 0.        , 0.        , ..., 0.        , 0.        ,\n",
       "        0.        ],\n",
       "       [0.        , 1.        , 0.03396061, ..., 0.        , 0.        ,\n",
       "        0.        ],\n",
       "       [0.        , 0.03396061, 1.        , ..., 0.        , 0.        ,\n",
       "        0.        ],\n",
       "       ...,\n",
       "       [0.        , 0.        , 0.        , ..., 1.        , 0.        ,\n",
       "        0.        ],\n",
       "       [0.        , 0.        , 0.        , ..., 0.        , 1.        ,\n",
       "        0.        ],\n",
       "       [0.        , 0.        , 0.        , ..., 0.        , 0.        ,\n",
       "        1.        ]])"
      ]
     },
     "execution_count": 19,
     "metadata": {},
     "output_type": "execute_result"
    }
   ],
   "source": [
    "othertags_similarity_array = cosine_similarity(tfidf_othertags_matrix)\n",
    "othertags_similarity_array"
   ]
  },
  {
   "cell_type": "markdown",
   "id": "f12002c9-ce48-424a-9dd0-da8c4eb75471",
   "metadata": {},
   "source": [
    "* building function"
   ]
  },
  {
   "cell_type": "code",
   "execution_count": 20,
   "id": "d03d9f80-415f-4a6a-8d3f-cb1584613a80",
   "metadata": {},
   "outputs": [],
   "source": [
    "def weighted_recommend(t):\n",
    "    \n",
    "    if t not in movies['title'].values:\n",
    "        print(\"The movie title you entered is not in our database. Please try entering a different title.\")\n",
    "        \n",
    "    else:\n",
    "    \n",
    "        if len(movies.loc[movies['title']==t]) > 1:\n",
    "        \n",
    "            #printing release year of movies with same name\n",
    "            print(movies.loc[movies['title']==t]['release_year'].values)\n",
    "            print('please provide release year...from above')\n",
    "        \n",
    "            r_year = int(input('Enter the release year :'))\n",
    "            \n",
    "            if r_year not in movies.loc[movies['title']==t]['release_year'].values:\n",
    "                print(\"Please try to select a valid release year for the movie from above\")\n",
    "                \n",
    "            else:\n",
    "                idx =  movies.loc[(movies['title'] == t) & (movies['release_year'] == r_year)].index[0]\n",
    "    \n",
    "        else:\n",
    "            idx =  movies.loc[movies['title']== t].index[0]\n",
    "        \n",
    "        \n",
    "        score_lst = (genres_similarity_array[idx] * 0.4 + othertags_similarity_array[idx] * 0.6)\n",
    "        score_lst = list(enumerate(score_lst))   #give index and score\n",
    "        score_lst = sorted(score_lst, key = lambda x:x[1] ,reverse=True)     #sorting descending\n",
    "        score_lst = score_lst[1:15] #excluding first item since it's the requested movie itself and giving top10\n",
    "    \n",
    "        rcmd_lst = []                                             \n",
    "        for i in range(len(score_lst)):\n",
    "            a = score_lst[i][0]\n",
    "            rcmd_lst.append(movies['title'][a]) \n",
    "        \n",
    "        \n",
    "        print('\\n Here are the recommendations for the movie: {}'.format(t))\n",
    "        \n",
    "        return rcmd_lst"
   ]
  },
  {
   "cell_type": "code",
   "execution_count": 21,
   "id": "5fc37cb4-26f7-4909-97a0-c1a9ae552639",
   "metadata": {},
   "outputs": [
    {
     "name": "stdout",
     "output_type": "stream",
     "text": [
      "\n",
      " Here are the recommendations for the movie: I, Robot\n"
     ]
    },
    {
     "data": {
      "text/plain": [
       "['Battle: Los Angeles',\n",
       " 'Terminator: Dark Fate',\n",
       " 'After Earth',\n",
       " 'Cyborg Cop',\n",
       " 'Monolith',\n",
       " 'Cyborg Cop II',\n",
       " 'Black Scorpion',\n",
       " 'Barb Wire',\n",
       " 'Space Marines',\n",
       " 'Toad Warrior',\n",
       " 'Double Team',\n",
       " 'Soldier',\n",
       " 'The Matrix',\n",
       " 'Universal Soldier: The Return']"
      ]
     },
     "execution_count": 21,
     "metadata": {},
     "output_type": "execute_result"
    }
   ],
   "source": [
    "weighted_recommend('I, Robot')"
   ]
  },
  {
   "cell_type": "code",
   "execution_count": 22,
   "id": "0a401c46-79ef-4b08-ada8-3e110141525c",
   "metadata": {},
   "outputs": [
    {
     "name": "stdout",
     "output_type": "stream",
     "text": [
      "\n",
      " Here are the recommendations for the movie: I, Robot\n"
     ]
    },
    {
     "data": {
      "text/plain": [
       "['Welcome to Mooseport',\n",
       " 'Bright',\n",
       " 'Seven Pounds',\n",
       " 'Hitch',\n",
       " 'After Earth',\n",
       " 'The Pursuit of Happyness',\n",
       " 'Bad Boys for Life',\n",
       " 'Collateral Beauty',\n",
       " 'Ali',\n",
       " '28 Days',\n",
       " 'King Richard',\n",
       " 'Hancock',\n",
       " 'I Am Legend',\n",
       " 'This Means War']"
      ]
     },
     "execution_count": 22,
     "metadata": {},
     "output_type": "execute_result"
    }
   ],
   "source": [
    "recommend('I, Robot')"
   ]
  },
  {
   "cell_type": "code",
   "execution_count": 23,
   "id": "e199e920-5add-4409-afc4-44ff7efa80d4",
   "metadata": {},
   "outputs": [],
   "source": [
    "def recommend(t):\n",
    "    \n",
    "    if t not in movies['title'].values:\n",
    "        print(\"The movie title you entered is not in our database. Please try entering a different title.\")\n",
    "        \n",
    "    else:\n",
    "    \n",
    "        if len(movies.loc[movies['title']==t]) > 1:\n",
    "        \n",
    "            #printing release year of movies with same name\n",
    "            print(movies.loc[movies['title']==t]['release_year'].values)\n",
    "            print('please provide release year...from above')\n",
    "        \n",
    "            r_year = int(input('Enter the release year :'))\n",
    "        \n",
    "            if r_year not in movies.loc[movies['title']==t]['release_year'].values:\n",
    "                print(\"\\n The release year {} you entered is not correct. We have taken the movie that was released first.\".format(r_year))\n",
    "                \n",
    "                idx =  movies.loc[movies['title']== t].index[0]\n",
    "                \n",
    "            else:\n",
    "                idx =  movies.loc[(movies['title'] == t) & (movies['release_year'] == r_year)].index[0]\n",
    "    \n",
    "    \n",
    "        else:\n",
    "            idx =  movies.loc[movies['title']== t].index[0]\n",
    "        \n",
    "        \n",
    "        score_lst = list(enumerate(tags_similarity_array[idx]))   #give index and score\n",
    "        score_lst = sorted(score_lst, key = lambda x:x[1] ,reverse=True)     #sorting descending\n",
    "        score_lst = score_lst[1:15] #excluding first item since it's the requested movie itself and giving top10\n",
    "    \n",
    "        rcmd_lst = []                                             \n",
    "        for i in range(len(score_lst)):\n",
    "            a = score_lst[i][0]\n",
    "            rcmd_lst.append(movies['title'][a]) \n",
    "        \n",
    "        \n",
    "        print('\\n Here are the recommendations for the movie: {}'.format(t))\n",
    "        \n",
    "        return rcmd_lst"
   ]
  },
  {
   "cell_type": "code",
   "execution_count": 24,
   "id": "92e84135-9577-47c8-bca8-9563e62803c6",
   "metadata": {},
   "outputs": [
    {
     "name": "stdout",
     "output_type": "stream",
     "text": [
      "[1998 2012]\n",
      "please provide release year...from above\n"
     ]
    },
    {
     "name": "stdout",
     "output_type": "stream",
     "text": [
      "Enter the release year : 2012\n"
     ]
    },
    {
     "name": "stdout",
     "output_type": "stream",
     "text": [
      "\n",
      " Here are the recommendations for the movie: The Avengers\n"
     ]
    },
    {
     "data": {
      "text/plain": [
       "['Avengers: Age of Ultron',\n",
       " 'Avengers: Endgame',\n",
       " 'Avengers: Infinity War',\n",
       " 'Captain America: Civil War',\n",
       " 'Iron Man',\n",
       " 'Captain America: The Winter Soldier',\n",
       " 'Ant-Man',\n",
       " 'Iron Man 2',\n",
       " 'Guardians of the Galaxy',\n",
       " 'Serenity',\n",
       " 'The Incredible Hulk',\n",
       " 'Zodiac',\n",
       " 'Eternals',\n",
       " 'The Perfect Score']"
      ]
     },
     "execution_count": 24,
     "metadata": {},
     "output_type": "execute_result"
    }
   ],
   "source": [
    "recommend(\"The Avengers\")"
   ]
  },
  {
   "cell_type": "markdown",
   "id": "fff8205c",
   "metadata": {},
   "source": [
    "recommendation engine for user's profile"
   ]
  },
  {
   "cell_type": "code",
   "execution_count": 162,
   "id": "d3c77674",
   "metadata": {},
   "outputs": [],
   "source": [
    "movies=pd.read_csv(r'C:\\Users\\P PAVAN REDDY\\Documents\\My Files\\Projects\\Recommendation System - Movies\\movies_data.csv')"
   ]
  },
  {
   "cell_type": "code",
   "execution_count": 163,
   "id": "f3e2d653",
   "metadata": {},
   "outputs": [],
   "source": [
    "cast = input(\"enter your favourite actors: \")\n",
    "director = input(\"enter your favourite director: \")\n",
    "genres = input(\"enter your favourite genres: \")"
   ]
  },
  {
   "cell_type": "code",
   "execution_count": 164,
   "id": "6936fd55",
   "metadata": {},
   "outputs": [
    {
     "data": {
      "text/plain": [
       "('', 'h', '1')"
      ]
     },
     "execution_count": 164,
     "metadata": {},
     "output_type": "execute_result"
    }
   ],
   "source": [
    "cast, director, genres"
   ]
  },
  {
   "cell_type": "code",
   "execution_count": 165,
   "id": "82ddbef6",
   "metadata": {},
   "outputs": [
    {
     "data": {
      "text/plain": [
       "''"
      ]
     },
     "execution_count": 165,
     "metadata": {},
     "output_type": "execute_result"
    }
   ],
   "source": [
    "cast = cast.replace(' ', '')\n",
    "cast"
   ]
  },
  {
   "cell_type": "code",
   "execution_count": 166,
   "id": "47c2306d",
   "metadata": {},
   "outputs": [
    {
     "data": {
      "text/plain": [
       "'h'"
      ]
     },
     "execution_count": 166,
     "metadata": {},
     "output_type": "execute_result"
    }
   ],
   "source": [
    "director = director.replace(' ', '')\n",
    "director"
   ]
  },
  {
   "cell_type": "code",
   "execution_count": null,
   "id": "0fb3585b",
   "metadata": {},
   "outputs": [],
   "source": []
  },
  {
   "cell_type": "code",
   "execution_count": 167,
   "id": "a9244082",
   "metadata": {},
   "outputs": [
    {
     "data": {
      "text/plain": [
       "'h'"
      ]
     },
     "execution_count": 167,
     "metadata": {},
     "output_type": "execute_result"
    }
   ],
   "source": [
    "director = director.replace(' ', '')\n",
    "director"
   ]
  },
  {
   "cell_type": "code",
   "execution_count": 168,
   "id": "779e098c",
   "metadata": {},
   "outputs": [
    {
     "data": {
      "text/plain": [
       "'1'"
      ]
     },
     "execution_count": 168,
     "metadata": {},
     "output_type": "execute_result"
    }
   ],
   "source": [
    "genres"
   ]
  },
  {
   "cell_type": "code",
   "execution_count": 169,
   "id": "ac076402",
   "metadata": {},
   "outputs": [
    {
     "data": {
      "text/plain": [
       "' h 1 JonFavreau'"
      ]
     },
     "execution_count": 169,
     "metadata": {},
     "output_type": "execute_result"
    }
   ],
   "source": [
    "document = cast + \" \" + director + \" \" + genres + \" \" + 'JonFavreau'\n",
    "document"
   ]
  },
  {
   "cell_type": "code",
   "execution_count": 170,
   "id": "f3399f1d",
   "metadata": {},
   "outputs": [
    {
     "data": {
      "text/html": [
       "<div>\n",
       "<style scoped>\n",
       "    .dataframe tbody tr th:only-of-type {\n",
       "        vertical-align: middle;\n",
       "    }\n",
       "\n",
       "    .dataframe tbody tr th {\n",
       "        vertical-align: top;\n",
       "    }\n",
       "\n",
       "    .dataframe thead th {\n",
       "        text-align: right;\n",
       "    }\n",
       "</style>\n",
       "<table border=\"1\" class=\"dataframe\">\n",
       "  <thead>\n",
       "    <tr style=\"text-align: right;\">\n",
       "      <th></th>\n",
       "      <th>document</th>\n",
       "    </tr>\n",
       "  </thead>\n",
       "  <tbody>\n",
       "    <tr>\n",
       "      <th>0</th>\n",
       "      <td>h 1 JonFavreau</td>\n",
       "    </tr>\n",
       "  </tbody>\n",
       "</table>\n",
       "</div>"
      ],
      "text/plain": [
       "          document\n",
       "0   h 1 JonFavreau"
      ]
     },
     "execution_count": 170,
     "metadata": {},
     "output_type": "execute_result"
    }
   ],
   "source": [
    "pd.DataFrame([document], columns=['document'])"
   ]
  },
  {
   "cell_type": "code",
   "execution_count": 171,
   "id": "03fef8c1",
   "metadata": {},
   "outputs": [],
   "source": [
    "user_input_vector = tfidf_tags.transform([document])\n"
   ]
  },
  {
   "cell_type": "code",
   "execution_count": 172,
   "id": "b6ae2b78",
   "metadata": {},
   "outputs": [],
   "source": [
    "# user_input_vector = tfidf_tags.transform(pd.DataFrame([document], columns=['document']))\n",
    "# user_input_vector.toarray()[0]"
   ]
  },
  {
   "cell_type": "code",
   "execution_count": 173,
   "id": "ebb69bc8",
   "metadata": {},
   "outputs": [
    {
     "data": {
      "text/plain": [
       "array([[0.],\n",
       "       [0.],\n",
       "       [0.],\n",
       "       ...,\n",
       "       [0.],\n",
       "       [0.],\n",
       "       [0.]])"
      ]
     },
     "execution_count": 173,
     "metadata": {},
     "output_type": "execute_result"
    }
   ],
   "source": [
    "user_input_similarity_matrix = cosine_similarity(tfidf_tags_matrix, user_input_vector)\n",
    "user_input_similarity_matrix"
   ]
  },
  {
   "cell_type": "code",
   "execution_count": 174,
   "id": "6622dd9f",
   "metadata": {},
   "outputs": [
    {
     "data": {
      "text/plain": [
       "array([0., 0., 0., ..., 0., 0., 0.])"
      ]
     },
     "execution_count": 174,
     "metadata": {},
     "output_type": "execute_result"
    }
   ],
   "source": [
    "user_input_similarity_matrix[:,0]"
   ]
  },
  {
   "cell_type": "code",
   "execution_count": 177,
   "id": "184d3e4f",
   "metadata": {},
   "outputs": [
    {
     "ename": "ValueError",
     "evalue": "Length of values (6147) does not match length of index (9520)",
     "output_type": "error",
     "traceback": [
      "\u001b[1;31m---------------------------------------------------------------------------\u001b[0m",
      "\u001b[1;31mValueError\u001b[0m                                Traceback (most recent call last)",
      "Cell \u001b[1;32mIn[177], line 1\u001b[0m\n\u001b[1;32m----> 1\u001b[0m movies[\u001b[39m'\u001b[39m\u001b[39muser_recommendation_score\u001b[39m\u001b[39m'\u001b[39m] \u001b[39m=\u001b[39m user_input_similarity_matrix[:,\u001b[39m0\u001b[39m]\n",
      "File \u001b[1;32mc:\\Users\\P PAVAN REDDY\\anaconda3\\lib\\site-packages\\pandas\\core\\frame.py:3980\u001b[0m, in \u001b[0;36mDataFrame.__setitem__\u001b[1;34m(self, key, value)\u001b[0m\n\u001b[0;32m   3977\u001b[0m     \u001b[39mself\u001b[39m\u001b[39m.\u001b[39m_setitem_array([key], value)\n\u001b[0;32m   3978\u001b[0m \u001b[39melse\u001b[39;00m:\n\u001b[0;32m   3979\u001b[0m     \u001b[39m# set column\u001b[39;00m\n\u001b[1;32m-> 3980\u001b[0m     \u001b[39mself\u001b[39;49m\u001b[39m.\u001b[39;49m_set_item(key, value)\n",
      "File \u001b[1;32mc:\\Users\\P PAVAN REDDY\\anaconda3\\lib\\site-packages\\pandas\\core\\frame.py:4174\u001b[0m, in \u001b[0;36mDataFrame._set_item\u001b[1;34m(self, key, value)\u001b[0m\n\u001b[0;32m   4164\u001b[0m \u001b[39mdef\u001b[39;00m \u001b[39m_set_item\u001b[39m(\u001b[39mself\u001b[39m, key, value) \u001b[39m-\u001b[39m\u001b[39m>\u001b[39m \u001b[39mNone\u001b[39;00m:\n\u001b[0;32m   4165\u001b[0m     \u001b[39m\"\"\"\u001b[39;00m\n\u001b[0;32m   4166\u001b[0m \u001b[39m    Add series to DataFrame in specified column.\u001b[39;00m\n\u001b[0;32m   4167\u001b[0m \n\u001b[1;32m   (...)\u001b[0m\n\u001b[0;32m   4172\u001b[0m \u001b[39m    ensure homogeneity.\u001b[39;00m\n\u001b[0;32m   4173\u001b[0m \u001b[39m    \"\"\"\u001b[39;00m\n\u001b[1;32m-> 4174\u001b[0m     value \u001b[39m=\u001b[39m \u001b[39mself\u001b[39;49m\u001b[39m.\u001b[39;49m_sanitize_column(value)\n\u001b[0;32m   4176\u001b[0m     \u001b[39mif\u001b[39;00m (\n\u001b[0;32m   4177\u001b[0m         key \u001b[39min\u001b[39;00m \u001b[39mself\u001b[39m\u001b[39m.\u001b[39mcolumns\n\u001b[0;32m   4178\u001b[0m         \u001b[39mand\u001b[39;00m value\u001b[39m.\u001b[39mndim \u001b[39m==\u001b[39m \u001b[39m1\u001b[39m\n\u001b[0;32m   4179\u001b[0m         \u001b[39mand\u001b[39;00m \u001b[39mnot\u001b[39;00m is_extension_array_dtype(value)\n\u001b[0;32m   4180\u001b[0m     ):\n\u001b[0;32m   4181\u001b[0m         \u001b[39m# broadcast across multiple columns if necessary\u001b[39;00m\n\u001b[0;32m   4182\u001b[0m         \u001b[39mif\u001b[39;00m \u001b[39mnot\u001b[39;00m \u001b[39mself\u001b[39m\u001b[39m.\u001b[39mcolumns\u001b[39m.\u001b[39mis_unique \u001b[39mor\u001b[39;00m \u001b[39misinstance\u001b[39m(\u001b[39mself\u001b[39m\u001b[39m.\u001b[39mcolumns, MultiIndex):\n",
      "File \u001b[1;32mc:\\Users\\P PAVAN REDDY\\anaconda3\\lib\\site-packages\\pandas\\core\\frame.py:4915\u001b[0m, in \u001b[0;36mDataFrame._sanitize_column\u001b[1;34m(self, value)\u001b[0m\n\u001b[0;32m   4912\u001b[0m     \u001b[39mreturn\u001b[39;00m _reindex_for_setitem(Series(value), \u001b[39mself\u001b[39m\u001b[39m.\u001b[39mindex)\n\u001b[0;32m   4914\u001b[0m \u001b[39mif\u001b[39;00m is_list_like(value):\n\u001b[1;32m-> 4915\u001b[0m     com\u001b[39m.\u001b[39;49mrequire_length_match(value, \u001b[39mself\u001b[39;49m\u001b[39m.\u001b[39;49mindex)\n\u001b[0;32m   4916\u001b[0m \u001b[39mreturn\u001b[39;00m sanitize_array(value, \u001b[39mself\u001b[39m\u001b[39m.\u001b[39mindex, copy\u001b[39m=\u001b[39m\u001b[39mTrue\u001b[39;00m, allow_2d\u001b[39m=\u001b[39m\u001b[39mTrue\u001b[39;00m)\n",
      "File \u001b[1;32mc:\\Users\\P PAVAN REDDY\\anaconda3\\lib\\site-packages\\pandas\\core\\common.py:571\u001b[0m, in \u001b[0;36mrequire_length_match\u001b[1;34m(data, index)\u001b[0m\n\u001b[0;32m    567\u001b[0m \u001b[39m\"\"\"\u001b[39;00m\n\u001b[0;32m    568\u001b[0m \u001b[39mCheck the length of data matches the length of the index.\u001b[39;00m\n\u001b[0;32m    569\u001b[0m \u001b[39m\"\"\"\u001b[39;00m\n\u001b[0;32m    570\u001b[0m \u001b[39mif\u001b[39;00m \u001b[39mlen\u001b[39m(data) \u001b[39m!=\u001b[39m \u001b[39mlen\u001b[39m(index):\n\u001b[1;32m--> 571\u001b[0m     \u001b[39mraise\u001b[39;00m \u001b[39mValueError\u001b[39;00m(\n\u001b[0;32m    572\u001b[0m         \u001b[39m\"\u001b[39m\u001b[39mLength of values \u001b[39m\u001b[39m\"\u001b[39m\n\u001b[0;32m    573\u001b[0m         \u001b[39mf\u001b[39m\u001b[39m\"\u001b[39m\u001b[39m(\u001b[39m\u001b[39m{\u001b[39;00m\u001b[39mlen\u001b[39m(data)\u001b[39m}\u001b[39;00m\u001b[39m) \u001b[39m\u001b[39m\"\u001b[39m\n\u001b[0;32m    574\u001b[0m         \u001b[39m\"\u001b[39m\u001b[39mdoes not match length of index \u001b[39m\u001b[39m\"\u001b[39m\n\u001b[0;32m    575\u001b[0m         \u001b[39mf\u001b[39m\u001b[39m\"\u001b[39m\u001b[39m(\u001b[39m\u001b[39m{\u001b[39;00m\u001b[39mlen\u001b[39m(index)\u001b[39m}\u001b[39;00m\u001b[39m)\u001b[39m\u001b[39m\"\u001b[39m\n\u001b[0;32m    576\u001b[0m     )\n",
      "\u001b[1;31mValueError\u001b[0m: Length of values (6147) does not match length of index (9520)"
     ]
    }
   ],
   "source": [
    "movies['user_recommendation_score'] = user_input_similarity_matrix[:,0]"
   ]
  },
  {
   "cell_type": "code",
   "execution_count": 176,
   "id": "d38df8b6",
   "metadata": {},
   "outputs": [
    {
     "ename": "KeyError",
     "evalue": "'user_recommendation_score'",
     "output_type": "error",
     "traceback": [
      "\u001b[1;31m---------------------------------------------------------------------------\u001b[0m",
      "\u001b[1;31mKeyError\u001b[0m                                  Traceback (most recent call last)",
      "Cell \u001b[1;32mIn[176], line 1\u001b[0m\n\u001b[1;32m----> 1\u001b[0m movies\u001b[39m.\u001b[39;49msort_values(by\u001b[39m=\u001b[39;49m[\u001b[39m'\u001b[39;49m\u001b[39muser_recommendation_score\u001b[39;49m\u001b[39m'\u001b[39;49m], ascending\u001b[39m=\u001b[39;49m\u001b[39mFalse\u001b[39;49;00m)[:\u001b[39m20\u001b[39m]\n",
      "File \u001b[1;32mc:\\Users\\P PAVAN REDDY\\anaconda3\\lib\\site-packages\\pandas\\util\\_decorators.py:331\u001b[0m, in \u001b[0;36mdeprecate_nonkeyword_arguments.<locals>.decorate.<locals>.wrapper\u001b[1;34m(*args, **kwargs)\u001b[0m\n\u001b[0;32m    325\u001b[0m \u001b[39mif\u001b[39;00m \u001b[39mlen\u001b[39m(args) \u001b[39m>\u001b[39m num_allow_args:\n\u001b[0;32m    326\u001b[0m     warnings\u001b[39m.\u001b[39mwarn(\n\u001b[0;32m    327\u001b[0m         msg\u001b[39m.\u001b[39mformat(arguments\u001b[39m=\u001b[39m_format_argument_list(allow_args)),\n\u001b[0;32m    328\u001b[0m         \u001b[39mFutureWarning\u001b[39;00m,\n\u001b[0;32m    329\u001b[0m         stacklevel\u001b[39m=\u001b[39mfind_stack_level(),\n\u001b[0;32m    330\u001b[0m     )\n\u001b[1;32m--> 331\u001b[0m \u001b[39mreturn\u001b[39;00m func(\u001b[39m*\u001b[39margs, \u001b[39m*\u001b[39m\u001b[39m*\u001b[39mkwargs)\n",
      "File \u001b[1;32mc:\\Users\\P PAVAN REDDY\\anaconda3\\lib\\site-packages\\pandas\\core\\frame.py:6912\u001b[0m, in \u001b[0;36mDataFrame.sort_values\u001b[1;34m(self, by, axis, ascending, inplace, kind, na_position, ignore_index, key)\u001b[0m\n\u001b[0;32m   6908\u001b[0m \u001b[39melif\u001b[39;00m \u001b[39mlen\u001b[39m(by):\n\u001b[0;32m   6909\u001b[0m     \u001b[39m# len(by) == 1\u001b[39;00m\n\u001b[0;32m   6911\u001b[0m     by \u001b[39m=\u001b[39m by[\u001b[39m0\u001b[39m]\n\u001b[1;32m-> 6912\u001b[0m     k \u001b[39m=\u001b[39m \u001b[39mself\u001b[39;49m\u001b[39m.\u001b[39;49m_get_label_or_level_values(by, axis\u001b[39m=\u001b[39;49maxis)\n\u001b[0;32m   6914\u001b[0m     \u001b[39m# need to rewrap column in Series to apply key function\u001b[39;00m\n\u001b[0;32m   6915\u001b[0m     \u001b[39mif\u001b[39;00m key \u001b[39mis\u001b[39;00m \u001b[39mnot\u001b[39;00m \u001b[39mNone\u001b[39;00m:\n\u001b[0;32m   6916\u001b[0m         \u001b[39m# error: Incompatible types in assignment (expression has type\u001b[39;00m\n\u001b[0;32m   6917\u001b[0m         \u001b[39m# \"Series\", variable has type \"ndarray\")\u001b[39;00m\n",
      "File \u001b[1;32mc:\\Users\\P PAVAN REDDY\\anaconda3\\lib\\site-packages\\pandas\\core\\generic.py:1850\u001b[0m, in \u001b[0;36mNDFrame._get_label_or_level_values\u001b[1;34m(self, key, axis)\u001b[0m\n\u001b[0;32m   1844\u001b[0m     values \u001b[39m=\u001b[39m (\n\u001b[0;32m   1845\u001b[0m         \u001b[39mself\u001b[39m\u001b[39m.\u001b[39maxes[axis]\n\u001b[0;32m   1846\u001b[0m         \u001b[39m.\u001b[39mget_level_values(key)  \u001b[39m# type: ignore[assignment]\u001b[39;00m\n\u001b[0;32m   1847\u001b[0m         \u001b[39m.\u001b[39m_values\n\u001b[0;32m   1848\u001b[0m     )\n\u001b[0;32m   1849\u001b[0m \u001b[39melse\u001b[39;00m:\n\u001b[1;32m-> 1850\u001b[0m     \u001b[39mraise\u001b[39;00m \u001b[39mKeyError\u001b[39;00m(key)\n\u001b[0;32m   1852\u001b[0m \u001b[39m# Check for duplicates\u001b[39;00m\n\u001b[0;32m   1853\u001b[0m \u001b[39mif\u001b[39;00m values\u001b[39m.\u001b[39mndim \u001b[39m>\u001b[39m \u001b[39m1\u001b[39m:\n",
      "\u001b[1;31mKeyError\u001b[0m: 'user_recommendation_score'"
     ]
    }
   ],
   "source": [
    "movies.sort_values(by=['user_recommendation_score'], ascending=False)[:20]"
   ]
  },
  {
   "cell_type": "code",
   "execution_count": 103,
   "id": "fe9c378a",
   "metadata": {},
   "outputs": [
    {
     "data": {
      "text/plain": [
       "(6147,)"
      ]
     },
     "execution_count": 103,
     "metadata": {},
     "output_type": "execute_result"
    }
   ],
   "source": [
    "df_sorted = df.sort_values(by='user_similarity', ascending=False)"
   ]
  },
  {
   "cell_type": "code",
   "execution_count": 101,
   "id": "a5ed908d",
   "metadata": {},
   "outputs": [
    {
     "data": {
      "text/plain": [
       "(1, 6147)"
      ]
     },
     "execution_count": 101,
     "metadata": {},
     "output_type": "execute_result"
    }
   ],
   "source": [
    "user_input_similarity_matrix.shape"
   ]
  },
  {
   "cell_type": "code",
   "execution_count": 72,
   "id": "d841b2ce",
   "metadata": {},
   "outputs": [
    {
     "data": {
      "text/plain": [
       "6141"
      ]
     },
     "execution_count": 72,
     "metadata": {},
     "output_type": "execute_result"
    }
   ],
   "source": [
    "movies['cast'].nunique()"
   ]
  },
  {
   "cell_type": "code",
   "execution_count": 178,
   "id": "7111f937",
   "metadata": {},
   "outputs": [
    {
     "data": {
      "text/html": [
       "<style>#sk-container-id-3 {color: black;background-color: white;}#sk-container-id-3 pre{padding: 0;}#sk-container-id-3 div.sk-toggleable {background-color: white;}#sk-container-id-3 label.sk-toggleable__label {cursor: pointer;display: block;width: 100%;margin-bottom: 0;padding: 0.3em;box-sizing: border-box;text-align: center;}#sk-container-id-3 label.sk-toggleable__label-arrow:before {content: \"▸\";float: left;margin-right: 0.25em;color: #696969;}#sk-container-id-3 label.sk-toggleable__label-arrow:hover:before {color: black;}#sk-container-id-3 div.sk-estimator:hover label.sk-toggleable__label-arrow:before {color: black;}#sk-container-id-3 div.sk-toggleable__content {max-height: 0;max-width: 0;overflow: hidden;text-align: left;background-color: #f0f8ff;}#sk-container-id-3 div.sk-toggleable__content pre {margin: 0.2em;color: black;border-radius: 0.25em;background-color: #f0f8ff;}#sk-container-id-3 input.sk-toggleable__control:checked~div.sk-toggleable__content {max-height: 200px;max-width: 100%;overflow: auto;}#sk-container-id-3 input.sk-toggleable__control:checked~label.sk-toggleable__label-arrow:before {content: \"▾\";}#sk-container-id-3 div.sk-estimator input.sk-toggleable__control:checked~label.sk-toggleable__label {background-color: #d4ebff;}#sk-container-id-3 div.sk-label input.sk-toggleable__control:checked~label.sk-toggleable__label {background-color: #d4ebff;}#sk-container-id-3 input.sk-hidden--visually {border: 0;clip: rect(1px 1px 1px 1px);clip: rect(1px, 1px, 1px, 1px);height: 1px;margin: -1px;overflow: hidden;padding: 0;position: absolute;width: 1px;}#sk-container-id-3 div.sk-estimator {font-family: monospace;background-color: #f0f8ff;border: 1px dotted black;border-radius: 0.25em;box-sizing: border-box;margin-bottom: 0.5em;}#sk-container-id-3 div.sk-estimator:hover {background-color: #d4ebff;}#sk-container-id-3 div.sk-parallel-item::after {content: \"\";width: 100%;border-bottom: 1px solid gray;flex-grow: 1;}#sk-container-id-3 div.sk-label:hover label.sk-toggleable__label {background-color: #d4ebff;}#sk-container-id-3 div.sk-serial::before {content: \"\";position: absolute;border-left: 1px solid gray;box-sizing: border-box;top: 0;bottom: 0;left: 50%;z-index: 0;}#sk-container-id-3 div.sk-serial {display: flex;flex-direction: column;align-items: center;background-color: white;padding-right: 0.2em;padding-left: 0.2em;position: relative;}#sk-container-id-3 div.sk-item {position: relative;z-index: 1;}#sk-container-id-3 div.sk-parallel {display: flex;align-items: stretch;justify-content: center;background-color: white;position: relative;}#sk-container-id-3 div.sk-item::before, #sk-container-id-3 div.sk-parallel-item::before {content: \"\";position: absolute;border-left: 1px solid gray;box-sizing: border-box;top: 0;bottom: 0;left: 50%;z-index: -1;}#sk-container-id-3 div.sk-parallel-item {display: flex;flex-direction: column;z-index: 1;position: relative;background-color: white;}#sk-container-id-3 div.sk-parallel-item:first-child::after {align-self: flex-end;width: 50%;}#sk-container-id-3 div.sk-parallel-item:last-child::after {align-self: flex-start;width: 50%;}#sk-container-id-3 div.sk-parallel-item:only-child::after {width: 0;}#sk-container-id-3 div.sk-dashed-wrapped {border: 1px dashed gray;margin: 0 0.4em 0.5em 0.4em;box-sizing: border-box;padding-bottom: 0.4em;background-color: white;}#sk-container-id-3 div.sk-label label {font-family: monospace;font-weight: bold;display: inline-block;line-height: 1.2em;}#sk-container-id-3 div.sk-label-container {text-align: center;}#sk-container-id-3 div.sk-container {/* jupyter's `normalize.less` sets `[hidden] { display: none; }` but bootstrap.min.css set `[hidden] { display: none !important; }` so we also need the `!important` here to be able to override the default hidden behavior on the sphinx rendered scikit-learn.org. See: https://github.com/scikit-learn/scikit-learn/issues/21755 */display: inline-block !important;position: relative;}#sk-container-id-3 div.sk-text-repr-fallback {display: none;}</style><div id=\"sk-container-id-3\" class=\"sk-top-container\"><div class=\"sk-text-repr-fallback\"><pre>TfidfVectorizer()</pre><b>In a Jupyter environment, please rerun this cell to show the HTML representation or trust the notebook. <br />On GitHub, the HTML representation is unable to render, please try loading this page with nbviewer.org.</b></div><div class=\"sk-container\" hidden><div class=\"sk-item\"><div class=\"sk-estimator sk-toggleable\"><input class=\"sk-toggleable__control sk-hidden--visually\" id=\"sk-estimator-id-3\" type=\"checkbox\" checked><label for=\"sk-estimator-id-3\" class=\"sk-toggleable__label sk-toggleable__label-arrow\">TfidfVectorizer</label><div class=\"sk-toggleable__content\"><pre>TfidfVectorizer()</pre></div></div></div></div></div>"
      ],
      "text/plain": [
       "TfidfVectorizer()"
      ]
     },
     "execution_count": 178,
     "metadata": {},
     "output_type": "execute_result"
    }
   ],
   "source": [
    "cast_tfidf_object = TfidfVectorizer()\n",
    "cast_tfidf_object"
   ]
  },
  {
   "cell_type": "code",
   "execution_count": 179,
   "id": "f282aa92",
   "metadata": {},
   "outputs": [
    {
     "data": {
      "text/plain": [
       "<9520x17334 sparse matrix of type '<class 'numpy.float64'>'\n",
       "\twith 54872 stored elements in Compressed Sparse Row format>"
      ]
     },
     "execution_count": 179,
     "metadata": {},
     "output_type": "execute_result"
    }
   ],
   "source": [
    "cast_tfidf_vector = cast_tfidf_object.fit_transform(movies['cast'])\n",
    "cast_tfidf_vector"
   ]
  },
  {
   "cell_type": "code",
   "execution_count": 180,
   "id": "2149f579",
   "metadata": {},
   "outputs": [
    {
     "data": {
      "text/plain": [
       "<9520x4601 sparse matrix of type '<class 'numpy.float64'>'\n",
       "\twith 9602 stored elements in Compressed Sparse Row format>"
      ]
     },
     "execution_count": 180,
     "metadata": {},
     "output_type": "execute_result"
    }
   ],
   "source": [
    "director_tfidf_object = TfidfVectorizer()\n",
    "director_tfidf_vector = director_tfidf_object.fit_transform(movies['director'])\n",
    "director_tfidf_vector"
   ]
  },
  {
   "cell_type": "code",
   "execution_count": 181,
   "id": "d70db58e",
   "metadata": {},
   "outputs": [
    {
     "data": {
      "text/plain": [
       "<9520x66 sparse matrix of type '<class 'numpy.float64'>'\n",
       "\twith 22221 stored elements in Compressed Sparse Row format>"
      ]
     },
     "execution_count": 181,
     "metadata": {},
     "output_type": "execute_result"
    }
   ],
   "source": [
    "genres_tfidf_object = TfidfVectorizer()\n",
    "genres_tfidf_vector = genres_tfidf_object.fit_transform(movies['genres'])\n",
    "genres_tfidf_vector"
   ]
  },
  {
   "cell_type": "code",
   "execution_count": 241,
   "id": "26ca498b",
   "metadata": {},
   "outputs": [
    {
     "data": {
      "text/plain": [
       "179     Terminator 2: Judgment Day\n",
       "6143      Avatar: The Way of Water\n",
       "3622                        Avatar\n",
       "3680                    Iron Man 2\n",
       "5134        Avengers: Infinity War\n",
       "4617       Avengers: Age of Ultron\n",
       "4035                  The Avengers\n",
       "5334             Avengers: Endgame\n",
       "8953           Duvvada Jagannadham\n",
       "4967        Spider-Man: Homecoming\n",
       "Name: title, dtype: object"
      ]
     },
     "execution_count": 241,
     "metadata": {},
     "output_type": "execute_result"
    }
   ],
   "source": [
    "def profile_recommendation(cast='', director='', genres=''):\n",
    "\n",
    "        cast = cast.replace(\" \", \"\").replace(',', ' ').lower()\n",
    "        director = director.replace(\" \", \"\").replace(',', ' ').lower()\n",
    "        genres = genres.replace(\" \", \"\").replace(',', ' ').lower()\n",
    "                                 \n",
    "        \n",
    "        cast_vector, director_vector, genres_vector = (cast_tfidf_object.transform([cast]), director_tfidf_object.transform([director]), \n",
    "                                                       genres_tfidf_object.transform([genres]))\n",
    "\n",
    "\n",
    "        cast_similarities, director_similarities, genres_similarities = (cosine_similarity(cast_tfidf_vector, cast_vector), \n",
    "                                                                        cosine_similarity(director_tfidf_vector, director_vector), \n",
    "                                                                        cosine_similarity(genres_tfidf_vector, genres_vector))\n",
    "\n",
    "        user_input_similarity_scores = (cast_similarities * 4) + (director_similarities) + (genres_similarities * 0.5)\n",
    "\n",
    "        movies['user_recommendation_score'] = user_input_similarity_scores[:,0]\n",
    "\n",
    "        recommendations = movies.sort_values(by=['user_recommendation_score'], ascending=False)#[:30]\n",
    "        \n",
    "        \n",
    "        return recommendations['title'].head(10)#.to_dict(orient='records')\n",
    "\n",
    "profile_recommendation(cast='Robert Downey Jr, johnny depp, allu arjun', director='james cameron', genres='ScienceFiction')"
   ]
  },
  {
   "cell_type": "code",
   "execution_count": null,
   "id": "b600cf2f",
   "metadata": {},
   "outputs": [],
   "source": []
  },
  {
   "cell_type": "code",
   "execution_count": 229,
   "id": "1d476505",
   "metadata": {},
   "outputs": [
    {
     "data": {
      "text/plain": [
       "3680                    Iron Man 2\n",
       "1745          The Astronaut's Wife\n",
       "5134        Avengers: Infinity War\n",
       "4617       Avengers: Age of Ultron\n",
       "4035                  The Avengers\n",
       "5334             Avengers: Endgame\n",
       "4775    Captain America: Civil War\n",
       "6142                    Iron Man 3\n",
       "3254                      Iron Man\n",
       "4967        Spider-Man: Homecoming\n",
       "Name: title, dtype: object"
      ]
     },
     "execution_count": 229,
     "metadata": {},
     "output_type": "execute_result"
    }
   ],
   "source": []
  },
  {
   "cell_type": "markdown",
   "id": "f3807fa7",
   "metadata": {},
   "source": [
    "2"
   ]
  },
  {
   "cell_type": "code",
   "execution_count": 192,
   "id": "f28524cb",
   "metadata": {},
   "outputs": [],
   "source": [
    "movies['tags'] = (movies['cast'] + \" \" + movies['director'] + \" \" \n",
    "                       + movies['genres']\n",
    "                      )"
   ]
  },
  {
   "cell_type": "code",
   "execution_count": 193,
   "id": "ec3f63a8",
   "metadata": {},
   "outputs": [
    {
     "data": {
      "text/html": [
       "<style>#sk-container-id-4 {color: black;background-color: white;}#sk-container-id-4 pre{padding: 0;}#sk-container-id-4 div.sk-toggleable {background-color: white;}#sk-container-id-4 label.sk-toggleable__label {cursor: pointer;display: block;width: 100%;margin-bottom: 0;padding: 0.3em;box-sizing: border-box;text-align: center;}#sk-container-id-4 label.sk-toggleable__label-arrow:before {content: \"▸\";float: left;margin-right: 0.25em;color: #696969;}#sk-container-id-4 label.sk-toggleable__label-arrow:hover:before {color: black;}#sk-container-id-4 div.sk-estimator:hover label.sk-toggleable__label-arrow:before {color: black;}#sk-container-id-4 div.sk-toggleable__content {max-height: 0;max-width: 0;overflow: hidden;text-align: left;background-color: #f0f8ff;}#sk-container-id-4 div.sk-toggleable__content pre {margin: 0.2em;color: black;border-radius: 0.25em;background-color: #f0f8ff;}#sk-container-id-4 input.sk-toggleable__control:checked~div.sk-toggleable__content {max-height: 200px;max-width: 100%;overflow: auto;}#sk-container-id-4 input.sk-toggleable__control:checked~label.sk-toggleable__label-arrow:before {content: \"▾\";}#sk-container-id-4 div.sk-estimator input.sk-toggleable__control:checked~label.sk-toggleable__label {background-color: #d4ebff;}#sk-container-id-4 div.sk-label input.sk-toggleable__control:checked~label.sk-toggleable__label {background-color: #d4ebff;}#sk-container-id-4 input.sk-hidden--visually {border: 0;clip: rect(1px 1px 1px 1px);clip: rect(1px, 1px, 1px, 1px);height: 1px;margin: -1px;overflow: hidden;padding: 0;position: absolute;width: 1px;}#sk-container-id-4 div.sk-estimator {font-family: monospace;background-color: #f0f8ff;border: 1px dotted black;border-radius: 0.25em;box-sizing: border-box;margin-bottom: 0.5em;}#sk-container-id-4 div.sk-estimator:hover {background-color: #d4ebff;}#sk-container-id-4 div.sk-parallel-item::after {content: \"\";width: 100%;border-bottom: 1px solid gray;flex-grow: 1;}#sk-container-id-4 div.sk-label:hover label.sk-toggleable__label {background-color: #d4ebff;}#sk-container-id-4 div.sk-serial::before {content: \"\";position: absolute;border-left: 1px solid gray;box-sizing: border-box;top: 0;bottom: 0;left: 50%;z-index: 0;}#sk-container-id-4 div.sk-serial {display: flex;flex-direction: column;align-items: center;background-color: white;padding-right: 0.2em;padding-left: 0.2em;position: relative;}#sk-container-id-4 div.sk-item {position: relative;z-index: 1;}#sk-container-id-4 div.sk-parallel {display: flex;align-items: stretch;justify-content: center;background-color: white;position: relative;}#sk-container-id-4 div.sk-item::before, #sk-container-id-4 div.sk-parallel-item::before {content: \"\";position: absolute;border-left: 1px solid gray;box-sizing: border-box;top: 0;bottom: 0;left: 50%;z-index: -1;}#sk-container-id-4 div.sk-parallel-item {display: flex;flex-direction: column;z-index: 1;position: relative;background-color: white;}#sk-container-id-4 div.sk-parallel-item:first-child::after {align-self: flex-end;width: 50%;}#sk-container-id-4 div.sk-parallel-item:last-child::after {align-self: flex-start;width: 50%;}#sk-container-id-4 div.sk-parallel-item:only-child::after {width: 0;}#sk-container-id-4 div.sk-dashed-wrapped {border: 1px dashed gray;margin: 0 0.4em 0.5em 0.4em;box-sizing: border-box;padding-bottom: 0.4em;background-color: white;}#sk-container-id-4 div.sk-label label {font-family: monospace;font-weight: bold;display: inline-block;line-height: 1.2em;}#sk-container-id-4 div.sk-label-container {text-align: center;}#sk-container-id-4 div.sk-container {/* jupyter's `normalize.less` sets `[hidden] { display: none; }` but bootstrap.min.css set `[hidden] { display: none !important; }` so we also need the `!important` here to be able to override the default hidden behavior on the sphinx rendered scikit-learn.org. See: https://github.com/scikit-learn/scikit-learn/issues/21755 */display: inline-block !important;position: relative;}#sk-container-id-4 div.sk-text-repr-fallback {display: none;}</style><div id=\"sk-container-id-4\" class=\"sk-top-container\"><div class=\"sk-text-repr-fallback\"><pre>TfidfVectorizer()</pre><b>In a Jupyter environment, please rerun this cell to show the HTML representation or trust the notebook. <br />On GitHub, the HTML representation is unable to render, please try loading this page with nbviewer.org.</b></div><div class=\"sk-container\" hidden><div class=\"sk-item\"><div class=\"sk-estimator sk-toggleable\"><input class=\"sk-toggleable__control sk-hidden--visually\" id=\"sk-estimator-id-4\" type=\"checkbox\" checked><label for=\"sk-estimator-id-4\" class=\"sk-toggleable__label sk-toggleable__label-arrow\">TfidfVectorizer</label><div class=\"sk-toggleable__content\"><pre>TfidfVectorizer()</pre></div></div></div></div></div>"
      ],
      "text/plain": [
       "TfidfVectorizer()"
      ]
     },
     "execution_count": 193,
     "metadata": {},
     "output_type": "execute_result"
    }
   ],
   "source": [
    "tfidf_tags = TfidfVectorizer()   #for tags\n",
    "tfidf_tags"
   ]
  },
  {
   "cell_type": "code",
   "execution_count": 194,
   "id": "1a4afe7b",
   "metadata": {},
   "outputs": [
    {
     "data": {
      "text/plain": [
       "<9520x21459 sparse matrix of type '<class 'numpy.float64'>'\n",
       "\twith 86160 stored elements in Compressed Sparse Row format>"
      ]
     },
     "execution_count": 194,
     "metadata": {},
     "output_type": "execute_result"
    }
   ],
   "source": [
    "tfidf_tags_matrix = tfidf_tags.fit_transform(movies['tags'])  #tags -> tfidf vector\n",
    "tfidf_tags_matrix"
   ]
  },
  {
   "cell_type": "code",
   "execution_count": 195,
   "id": "77751f96",
   "metadata": {},
   "outputs": [
    {
     "data": {
      "text/plain": [
       "array([[1.        , 0.00847728, 0.00824717, ..., 0.        , 0.00830682,\n",
       "        0.00878918],\n",
       "       [0.00847728, 1.        , 0.00841422, ..., 0.02824543, 0.00847507,\n",
       "        0.0089672 ],\n",
       "       [0.00824717, 0.00841422, 1.        , ..., 0.00611204, 0.00824502,\n",
       "        0.01535967],\n",
       "       ...,\n",
       "       [0.        , 0.02824543, 0.00611204, ..., 1.        , 0.03358161,\n",
       "        0.00651372],\n",
       "       [0.00830682, 0.00847507, 0.00824502, ..., 0.03358161, 1.        ,\n",
       "        0.00878688],\n",
       "       [0.00878918, 0.0089672 , 0.01535967, ..., 0.00651372, 0.00878688,\n",
       "        1.        ]])"
      ]
     },
     "execution_count": 195,
     "metadata": {},
     "output_type": "execute_result"
    }
   ],
   "source": [
    "tags_similarity_array = cosine_similarity(tfidf_tags_matrix)\n",
    "tags_similarity_array"
   ]
  },
  {
   "cell_type": "code",
   "execution_count": null,
   "id": "8645f79e",
   "metadata": {},
   "outputs": [],
   "source": []
  },
  {
   "cell_type": "code",
   "execution_count": 196,
   "id": "df882476",
   "metadata": {},
   "outputs": [],
   "source": [
    "def profile_recommendation2(cast='', director='', genres=''):\n",
    "\n",
    "        cast = cast.replace(\" \", \"\").replace(',', ' ').lower()\n",
    "        director = director.replace(\" \", \"\").replace(',', ' ').lower()\n",
    "        genres = genres.replace(\" \", \"\").replace(',', ' ').lower()\n",
    "\n",
    "        tags = cast + \" \" + director + \" \" + genres\n",
    "                                 \n",
    "        \n",
    "        # cast_vector, director_vector, genres_vector = (cast_tfidf_object.transform([cast]), director_tfidf_object.transform([director]), \n",
    "        #                                                genres_tfidf_object.transform([genres]))\n",
    "        tags_vector = tfidf_tags.transform([tags])\n",
    "\n",
    "\n",
    "        # cast_similarities, director_similarities, genres_similarities = (cosine_similarity(cast_tfidf_vector, cast_vector), \n",
    "        #                                                                 cosine_similarity(director_tfidf_vector, director_vector), \n",
    "        #                                                                 cosine_similarity(genres_tfidf_vector, genres_vector))\n",
    "\n",
    "        tagas_similarities = cosine_similarity(tfidf_tags_matrix, tags_vector)\n",
    "\n",
    "        #user_input_similarity_scores = (cast_similarities * 2) + (director_similarities) + (genres_similarities * 2)\n",
    "\n",
    "        user_input_similarity_scores = tagas_similarities\n",
    "\n",
    "        movies['user_recommendation_score'] = user_input_similarity_scores[:,0]\n",
    "\n",
    "        recommendations = movies.sort_values(by=['user_recommendation_score'], ascending=False)#[:30]\n",
    "        \n",
    "        \n",
    "        return recommendations['title']#.to_dict(orient='records')"
   ]
  },
  {
   "cell_type": "code",
   "execution_count": 204,
   "id": "451467a5",
   "metadata": {},
   "outputs": [
    {
     "data": {
      "text/plain": [
       "8530                   Sri Rama Rajyam\n",
       "0                          29th Street\n",
       "6341               Munna Bhai M.B.B.S.\n",
       "6343                                Om\n",
       "6344                             Oops!\n",
       "                     ...              \n",
       "3173       Love in the Time of Cholera\n",
       "3174             Margot at the Wedding\n",
       "3175    Mr. Magorium's Wonder Emporium\n",
       "3176                       August Rush\n",
       "9519                  Samajavaragamana\n",
       "Name: title, Length: 9520, dtype: object"
      ]
     },
     "execution_count": 204,
     "metadata": {},
     "output_type": "execute_result"
    }
   ],
   "source": [
    "profile_recommendation2(cast='', director='', genres='Science-Fiction')"
   ]
  },
  {
   "cell_type": "code",
   "execution_count": 200,
   "id": "6086823e",
   "metadata": {},
   "outputs": [
    {
     "data": {
      "text/plain": [
       "8530               Sri Rama Rajyam\n",
       "943                    Restoration\n",
       "3064                     Lucky You\n",
       "1500           Two Girls and a Guy\n",
       "702                       Only You\n",
       "                   ...            \n",
       "4139                        Pusher\n",
       "4138    Silent Hill: Revelation 3D\n",
       "4137                      Fun Size\n",
       "4136                   Cloud Atlas\n",
       "4760              God's Not Dead 2\n",
       "Name: title, Length: 9520, dtype: object"
      ]
     },
     "execution_count": 200,
     "metadata": {},
     "output_type": "execute_result"
    }
   ],
   "source": [
    "profile_recommendation(cast='Robert Downey Jr', director='', genres='Romance, Action, Science-Fiction')"
   ]
  },
  {
   "cell_type": "code",
   "execution_count": null,
   "id": "1c3caca9",
   "metadata": {},
   "outputs": [],
   "source": []
  },
  {
   "cell_type": "code",
   "execution_count": null,
   "id": "3e17e7a0",
   "metadata": {},
   "outputs": [],
   "source": []
  },
  {
   "cell_type": "code",
   "execution_count": null,
   "id": "0d0770ec",
   "metadata": {},
   "outputs": [],
   "source": []
  },
  {
   "cell_type": "code",
   "execution_count": null,
   "id": "326297f7",
   "metadata": {},
   "outputs": [],
   "source": []
  },
  {
   "cell_type": "code",
   "execution_count": null,
   "id": "b1ac7a4b",
   "metadata": {},
   "outputs": [],
   "source": []
  },
  {
   "cell_type": "code",
   "execution_count": null,
   "id": "08417168",
   "metadata": {},
   "outputs": [],
   "source": []
  },
  {
   "cell_type": "code",
   "execution_count": null,
   "id": "4112277d",
   "metadata": {},
   "outputs": [],
   "source": []
  },
  {
   "cell_type": "code",
   "execution_count": null,
   "id": "0a734d6f",
   "metadata": {},
   "outputs": [],
   "source": []
  },
  {
   "cell_type": "code",
   "execution_count": null,
   "id": "5a5ff076",
   "metadata": {},
   "outputs": [],
   "source": []
  },
  {
   "cell_type": "markdown",
   "id": "07620c73",
   "metadata": {},
   "source": [
    "combining all movies"
   ]
  },
  {
   "cell_type": "code",
   "execution_count": 121,
   "id": "3cd4aa31",
   "metadata": {},
   "outputs": [],
   "source": [
    "american_movies = pd.read_csv(r'C:\\Users\\P PAVAN REDDY\\Documents\\My Files\\Projects\\Recommendation System - Movies\\movies.csv')"
   ]
  },
  {
   "cell_type": "code",
   "execution_count": 122,
   "id": "d31243f1",
   "metadata": {},
   "outputs": [
    {
     "name": "stdout",
     "output_type": "stream",
     "text": [
      "<class 'pandas.core.frame.DataFrame'>\n",
      "RangeIndex: 6147 entries, 0 to 6146\n",
      "Data columns (total 15 columns):\n",
      " #   Column                        Non-Null Count  Dtype \n",
      "---  ------                        --------------  ----- \n",
      " 0   title                         6147 non-null   object\n",
      " 1   release_year                  6147 non-null   int64 \n",
      " 2   imdb_id                       6147 non-null   object\n",
      " 3   poster                        6147 non-null   object\n",
      " 4   tmdb_id                       6147 non-null   int64 \n",
      " 5   cast                          6147 non-null   object\n",
      " 6   director                      6147 non-null   object\n",
      " 7   genres                        6147 non-null   object\n",
      " 8   production_companies          6147 non-null   object\n",
      " 9   cast_display                  6147 non-null   object\n",
      " 10  director_display              6147 non-null   object\n",
      " 11  genres_display                6147 non-null   object\n",
      " 12  production_companies_display  6147 non-null   object\n",
      " 13  title_search                  6147 non-null   object\n",
      " 14  document                      6147 non-null   object\n",
      "dtypes: int64(2), object(13)\n",
      "memory usage: 720.5+ KB\n"
     ]
    }
   ],
   "source": [
    "american_movies.info()"
   ]
  },
  {
   "cell_type": "code",
   "execution_count": 123,
   "id": "b516f379",
   "metadata": {},
   "outputs": [
    {
     "data": {
      "text/plain": [
       "0                         29thstreet\n",
       "1                    theaddamsfamily\n",
       "2               alliwantforchristmas\n",
       "3                  americankickboxer\n",
       "4       anamericantailfievelgoeswest\n",
       "                    ...             \n",
       "6142                        ironman3\n",
       "6143             avatarthewayofwater\n",
       "6144         starwarstheforceawakens\n",
       "6145             starwarsthelastjedi\n",
       "6146                        furious7\n",
       "Name: title_search, Length: 6147, dtype: object"
      ]
     },
     "execution_count": 123,
     "metadata": {},
     "output_type": "execute_result"
    }
   ],
   "source": [
    "american_movies['title_search']"
   ]
  },
  {
   "cell_type": "code",
   "execution_count": 124,
   "id": "f7d023f6",
   "metadata": {},
   "outputs": [],
   "source": [
    "american_movies['language'] = 'English'"
   ]
  },
  {
   "cell_type": "code",
   "execution_count": 125,
   "id": "65558736",
   "metadata": {},
   "outputs": [],
   "source": [
    "indian_movies = pickle.load(open(r'C:\\Users\\P PAVAN REDDY\\Documents\\My Files\\Projects\\Recommendation System - Movies\\Data\\indian_movies.pkl', 'rb'))"
   ]
  },
  {
   "cell_type": "code",
   "execution_count": 126,
   "id": "d87442f9",
   "metadata": {},
   "outputs": [
    {
     "data": {
      "text/html": [
       "<div>\n",
       "<style scoped>\n",
       "    .dataframe tbody tr th:only-of-type {\n",
       "        vertical-align: middle;\n",
       "    }\n",
       "\n",
       "    .dataframe tbody tr th {\n",
       "        vertical-align: top;\n",
       "    }\n",
       "\n",
       "    .dataframe thead th {\n",
       "        text-align: right;\n",
       "    }\n",
       "</style>\n",
       "<table border=\"1\" class=\"dataframe\">\n",
       "  <thead>\n",
       "    <tr style=\"text-align: right;\">\n",
       "      <th></th>\n",
       "      <th>title</th>\n",
       "      <th>release_year</th>\n",
       "      <th>cast_tmdb</th>\n",
       "      <th>director_tmdb</th>\n",
       "      <th>tmdb_id</th>\n",
       "      <th>overview</th>\n",
       "      <th>rating</th>\n",
       "      <th>poster</th>\n",
       "      <th>genres_tmdb</th>\n",
       "      <th>production_companies</th>\n",
       "      <th>imdb_id</th>\n",
       "      <th>language</th>\n",
       "      <th>cast_display</th>\n",
       "      <th>genres_display</th>\n",
       "      <th>director_display</th>\n",
       "      <th>production_companies_display</th>\n",
       "      <th>cast</th>\n",
       "      <th>genres</th>\n",
       "      <th>director</th>\n",
       "    </tr>\n",
       "  </thead>\n",
       "  <tbody>\n",
       "    <tr>\n",
       "      <th>0</th>\n",
       "      <td>Abhay</td>\n",
       "      <td>2001</td>\n",
       "      <td>[Kamal Haasan, Manisha Koirala, Raveena Tandon...</td>\n",
       "      <td>Suresh Krishna</td>\n",
       "      <td>66346</td>\n",
       "      <td>Nandu and Vijay are brothers, who were abused ...</td>\n",
       "      <td>7.200</td>\n",
       "      <td>https://image.tmdb.org/t/p/original/5grbkwNnMy...</td>\n",
       "      <td>[Thriller]</td>\n",
       "      <td>[V Creations]</td>\n",
       "      <td>tt0294264</td>\n",
       "      <td>Hindi</td>\n",
       "      <td>Kamal Haasan, Manisha Koirala, Raveena Tandon,...</td>\n",
       "      <td>Thriller</td>\n",
       "      <td>Suresh Krishna</td>\n",
       "      <td>V Creations</td>\n",
       "      <td>kamalhaasan manishakoirala raveenatandon golla...</td>\n",
       "      <td>thriller</td>\n",
       "      <td>sureshkrishna</td>\n",
       "    </tr>\n",
       "    <tr>\n",
       "      <th>1</th>\n",
       "      <td>Aamdani Atthanni Kharcha Rupaiya</td>\n",
       "      <td>2001</td>\n",
       "      <td>[Govinda, Juhi Chawla, Johnny Lever, Tabu, Ket...</td>\n",
       "      <td>K Raghavendra Rao</td>\n",
       "      <td>25801</td>\n",
       "      <td>Jhoomri and her husband, Bhimsha, move into a ...</td>\n",
       "      <td>5.200</td>\n",
       "      <td>https://image.tmdb.org/t/p/original/9xl6TNdI2Q...</td>\n",
       "      <td>[Comedy]</td>\n",
       "      <td>no result</td>\n",
       "      <td>tt0305173</td>\n",
       "      <td>Hindi</td>\n",
       "      <td>Govinda, Juhi Chawla, Johnny Lever, Tabu, Ketk...</td>\n",
       "      <td>Comedy</td>\n",
       "      <td>K Raghavendra Rao</td>\n",
       "      <td>no result</td>\n",
       "      <td>govinda juhichawla johnnylever tabu ketkidave ...</td>\n",
       "      <td>comedy</td>\n",
       "      <td>kraghavendrarao</td>\n",
       "    </tr>\n",
       "    <tr>\n",
       "      <th>2</th>\n",
       "      <td>Aashiq</td>\n",
       "      <td>2001</td>\n",
       "      <td>[Bobby Deol, Karisma Kapoor, Ashok Saraf, Muke...</td>\n",
       "      <td>Indra Kumar</td>\n",
       "      <td>362100</td>\n",
       "      <td>Pooja and Chander Kapoor have a heart-to-heart...</td>\n",
       "      <td>6.000</td>\n",
       "      <td>https://image.tmdb.org/t/p/original/ebH0vv6e5C...</td>\n",
       "      <td>[Action, Romance]</td>\n",
       "      <td>no result</td>\n",
       "      <td>tt0273406</td>\n",
       "      <td>Hindi</td>\n",
       "      <td>Bobby Deol, Karisma Kapoor, Ashok Saraf, Mukes...</td>\n",
       "      <td>Action, Romance</td>\n",
       "      <td>Indra Kumar</td>\n",
       "      <td>no result</td>\n",
       "      <td>bobbydeol karismakapoor ashoksaraf mukeshrishi...</td>\n",
       "      <td>action romance</td>\n",
       "      <td>indrakumar</td>\n",
       "    </tr>\n",
       "    <tr>\n",
       "      <th>3</th>\n",
       "      <td>Ajnabee</td>\n",
       "      <td>2001</td>\n",
       "      <td>[Akshay Kumar, Bobby Deol, Kareena Kapoor Khan...</td>\n",
       "      <td>Mustan Alibhai Burmawalla</td>\n",
       "      <td>22316</td>\n",
       "      <td>Raj and Priya befriend their new neighbors Vic...</td>\n",
       "      <td>5.611</td>\n",
       "      <td>https://image.tmdb.org/t/p/original/rIscKIZxR4...</td>\n",
       "      <td>[Action, Crime, Drama, Thriller]</td>\n",
       "      <td>[Film Folks]</td>\n",
       "      <td>tt0278291</td>\n",
       "      <td>Hindi</td>\n",
       "      <td>Akshay Kumar, Bobby Deol, Kareena Kapoor Khan,...</td>\n",
       "      <td>Action, Crime, Drama, Thriller</td>\n",
       "      <td>Mustan Alibhai Burmawalla</td>\n",
       "      <td>Film Folks</td>\n",
       "      <td>akshaykumar bobbydeol kareenakapoorkhan bipash...</td>\n",
       "      <td>action crime drama thriller</td>\n",
       "      <td>mustanalibhaiburmawalla</td>\n",
       "    </tr>\n",
       "    <tr>\n",
       "      <th>4</th>\n",
       "      <td>Aks</td>\n",
       "      <td>2001</td>\n",
       "      <td>[Amitabh Bachchan, Manoj Bajpayee, Raveena Tan...</td>\n",
       "      <td>Rakeysh Omprakash Mehra</td>\n",
       "      <td>152035</td>\n",
       "      <td>On the trail of an underworld contract killer,...</td>\n",
       "      <td>5.100</td>\n",
       "      <td>https://image.tmdb.org/t/p/original/4vGi15Vx0K...</td>\n",
       "      <td>[Crime, Thriller]</td>\n",
       "      <td>no result</td>\n",
       "      <td>tt0289845</td>\n",
       "      <td>Hindi</td>\n",
       "      <td>Amitabh Bachchan, Manoj Bajpayee, Raveena Tand...</td>\n",
       "      <td>Crime, Thriller</td>\n",
       "      <td>Rakeysh Omprakash Mehra</td>\n",
       "      <td>no result</td>\n",
       "      <td>amitabhbachchan manojbajpayee raveenatandon na...</td>\n",
       "      <td>crime thriller</td>\n",
       "      <td>rakeyshomprakashmehra</td>\n",
       "    </tr>\n",
       "  </tbody>\n",
       "</table>\n",
       "</div>"
      ],
      "text/plain": [
       "                              title  release_year  \\\n",
       "0                             Abhay          2001   \n",
       "1  Aamdani Atthanni Kharcha Rupaiya          2001   \n",
       "2                            Aashiq          2001   \n",
       "3                           Ajnabee          2001   \n",
       "4                               Aks          2001   \n",
       "\n",
       "                                           cast_tmdb  \\\n",
       "0  [Kamal Haasan, Manisha Koirala, Raveena Tandon...   \n",
       "1  [Govinda, Juhi Chawla, Johnny Lever, Tabu, Ket...   \n",
       "2  [Bobby Deol, Karisma Kapoor, Ashok Saraf, Muke...   \n",
       "3  [Akshay Kumar, Bobby Deol, Kareena Kapoor Khan...   \n",
       "4  [Amitabh Bachchan, Manoj Bajpayee, Raveena Tan...   \n",
       "\n",
       "               director_tmdb  tmdb_id  \\\n",
       "0             Suresh Krishna    66346   \n",
       "1          K Raghavendra Rao    25801   \n",
       "2                Indra Kumar   362100   \n",
       "3  Mustan Alibhai Burmawalla    22316   \n",
       "4    Rakeysh Omprakash Mehra   152035   \n",
       "\n",
       "                                            overview  rating  \\\n",
       "0  Nandu and Vijay are brothers, who were abused ...   7.200   \n",
       "1  Jhoomri and her husband, Bhimsha, move into a ...   5.200   \n",
       "2  Pooja and Chander Kapoor have a heart-to-heart...   6.000   \n",
       "3  Raj and Priya befriend their new neighbors Vic...   5.611   \n",
       "4  On the trail of an underworld contract killer,...   5.100   \n",
       "\n",
       "                                              poster  \\\n",
       "0  https://image.tmdb.org/t/p/original/5grbkwNnMy...   \n",
       "1  https://image.tmdb.org/t/p/original/9xl6TNdI2Q...   \n",
       "2  https://image.tmdb.org/t/p/original/ebH0vv6e5C...   \n",
       "3  https://image.tmdb.org/t/p/original/rIscKIZxR4...   \n",
       "4  https://image.tmdb.org/t/p/original/4vGi15Vx0K...   \n",
       "\n",
       "                        genres_tmdb production_companies    imdb_id language  \\\n",
       "0                        [Thriller]        [V Creations]  tt0294264    Hindi   \n",
       "1                          [Comedy]            no result  tt0305173    Hindi   \n",
       "2                 [Action, Romance]            no result  tt0273406    Hindi   \n",
       "3  [Action, Crime, Drama, Thriller]         [Film Folks]  tt0278291    Hindi   \n",
       "4                 [Crime, Thriller]            no result  tt0289845    Hindi   \n",
       "\n",
       "                                        cast_display  \\\n",
       "0  Kamal Haasan, Manisha Koirala, Raveena Tandon,...   \n",
       "1  Govinda, Juhi Chawla, Johnny Lever, Tabu, Ketk...   \n",
       "2  Bobby Deol, Karisma Kapoor, Ashok Saraf, Mukes...   \n",
       "3  Akshay Kumar, Bobby Deol, Kareena Kapoor Khan,...   \n",
       "4  Amitabh Bachchan, Manoj Bajpayee, Raveena Tand...   \n",
       "\n",
       "                   genres_display           director_display  \\\n",
       "0                        Thriller             Suresh Krishna   \n",
       "1                          Comedy          K Raghavendra Rao   \n",
       "2                 Action, Romance                Indra Kumar   \n",
       "3  Action, Crime, Drama, Thriller  Mustan Alibhai Burmawalla   \n",
       "4                 Crime, Thriller    Rakeysh Omprakash Mehra   \n",
       "\n",
       "  production_companies_display  \\\n",
       "0                  V Creations   \n",
       "1                    no result   \n",
       "2                    no result   \n",
       "3                   Film Folks   \n",
       "4                    no result   \n",
       "\n",
       "                                                cast  \\\n",
       "0  kamalhaasan manishakoirala raveenatandon golla...   \n",
       "1  govinda juhichawla johnnylever tabu ketkidave ...   \n",
       "2  bobbydeol karismakapoor ashoksaraf mukeshrishi...   \n",
       "3  akshaykumar bobbydeol kareenakapoorkhan bipash...   \n",
       "4  amitabhbachchan manojbajpayee raveenatandon na...   \n",
       "\n",
       "                        genres                 director  \n",
       "0                     thriller            sureshkrishna  \n",
       "1                       comedy          kraghavendrarao  \n",
       "2               action romance               indrakumar  \n",
       "3  action crime drama thriller  mustanalibhaiburmawalla  \n",
       "4               crime thriller    rakeyshomprakashmehra  "
      ]
     },
     "execution_count": 126,
     "metadata": {},
     "output_type": "execute_result"
    }
   ],
   "source": [
    "indian_movies.head()"
   ]
  },
  {
   "cell_type": "code",
   "execution_count": 127,
   "id": "0544208f",
   "metadata": {},
   "outputs": [],
   "source": [
    "clean = lambda s : s.lower().translate({ord(i): '' for i in \" :-+;[].*#@$%^&()'\\\",\"})"
   ]
  },
  {
   "cell_type": "code",
   "execution_count": 128,
   "id": "1491f01e",
   "metadata": {},
   "outputs": [],
   "source": [
    "import re\n",
    "\n",
    "def extract_movie_title(title):\n",
    "    cleaned_title = re.sub(r'\\s*\\[[^\\]]*\\]\\s*|\\s*\\([^)]*\\)\\s*', '', title)\n",
    "    return cleaned_title.strip()"
   ]
  },
  {
   "cell_type": "code",
   "execution_count": 129,
   "id": "7967ea3f",
   "metadata": {},
   "outputs": [
    {
     "data": {
      "text/plain": [
       "'Adipurush'"
      ]
     },
     "execution_count": 129,
     "metadata": {},
     "output_type": "execute_result"
    }
   ],
   "source": [
    "extract_movie_title('Adipurush[b]')"
   ]
  },
  {
   "cell_type": "code",
   "execution_count": 130,
   "id": "c4d79800",
   "metadata": {},
   "outputs": [],
   "source": [
    "indian_movies['title']=indian_movies['title'].apply(extract_movie_title)"
   ]
  },
  {
   "cell_type": "code",
   "execution_count": 68,
   "id": "9dbd38d1",
   "metadata": {},
   "outputs": [],
   "source": [
    "indian_movies['title_search'] = indian_movies['title'].apply(clean)"
   ]
  },
  {
   "cell_type": "code",
   "execution_count": 69,
   "id": "3de5fca4",
   "metadata": {},
   "outputs": [
    {
     "name": "stdout",
     "output_type": "stream",
     "text": [
      "<class 'pandas.core.frame.DataFrame'>\n",
      "RangeIndex: 3373 entries, 0 to 3372\n",
      "Data columns (total 20 columns):\n",
      " #   Column                        Non-Null Count  Dtype  \n",
      "---  ------                        --------------  -----  \n",
      " 0   title                         3373 non-null   object \n",
      " 1   release_year                  3373 non-null   int64  \n",
      " 2   cast_tmdb                     3373 non-null   object \n",
      " 3   director_tmdb                 3373 non-null   object \n",
      " 4   tmdb_id                       3373 non-null   int64  \n",
      " 5   overview                      3373 non-null   object \n",
      " 6   rating                        3373 non-null   float64\n",
      " 7   poster                        3373 non-null   object \n",
      " 8   genres_tmdb                   3373 non-null   object \n",
      " 9   production_companies          3373 non-null   object \n",
      " 10  imdb_id                       3373 non-null   object \n",
      " 11  language                      3373 non-null   object \n",
      " 12  cast_display                  3373 non-null   object \n",
      " 13  genres_display                3373 non-null   object \n",
      " 14  director_display              3373 non-null   object \n",
      " 15  production_companies_display  3373 non-null   object \n",
      " 16  cast                          3373 non-null   object \n",
      " 17  genres                        3373 non-null   object \n",
      " 18  director                      3373 non-null   object \n",
      " 19  title_search                  3373 non-null   object \n",
      "dtypes: float64(1), int64(2), object(17)\n",
      "memory usage: 527.2+ KB\n"
     ]
    }
   ],
   "source": [
    "indian_movies.info()"
   ]
  },
  {
   "cell_type": "code",
   "execution_count": null,
   "id": "73d2ebf8",
   "metadata": {},
   "outputs": [],
   "source": []
  },
  {
   "cell_type": "code",
   "execution_count": 70,
   "id": "bf86c7d4",
   "metadata": {},
   "outputs": [],
   "source": [
    "indian_movies['document'] = (indian_movies['cast'] + \" \" + indian_movies['director'] + \" \" \n",
    "                       + indian_movies['genres'] + \" \" + indian_movies['language'])"
   ]
  },
  {
   "cell_type": "code",
   "execution_count": 71,
   "id": "2c70266f",
   "metadata": {},
   "outputs": [
    {
     "data": {
      "text/html": [
       "<div>\n",
       "<style scoped>\n",
       "    .dataframe tbody tr th:only-of-type {\n",
       "        vertical-align: middle;\n",
       "    }\n",
       "\n",
       "    .dataframe tbody tr th {\n",
       "        vertical-align: top;\n",
       "    }\n",
       "\n",
       "    .dataframe thead th {\n",
       "        text-align: right;\n",
       "    }\n",
       "</style>\n",
       "<table border=\"1\" class=\"dataframe\">\n",
       "  <thead>\n",
       "    <tr style=\"text-align: right;\">\n",
       "      <th></th>\n",
       "      <th>title</th>\n",
       "      <th>release_year</th>\n",
       "      <th>cast_tmdb</th>\n",
       "      <th>director_tmdb</th>\n",
       "      <th>tmdb_id</th>\n",
       "      <th>overview</th>\n",
       "      <th>rating</th>\n",
       "      <th>poster</th>\n",
       "      <th>genres_tmdb</th>\n",
       "      <th>production_companies</th>\n",
       "      <th>...</th>\n",
       "      <th>language</th>\n",
       "      <th>cast_display</th>\n",
       "      <th>genres_display</th>\n",
       "      <th>director_display</th>\n",
       "      <th>production_companies_display</th>\n",
       "      <th>cast</th>\n",
       "      <th>genres</th>\n",
       "      <th>director</th>\n",
       "      <th>title_search</th>\n",
       "      <th>document</th>\n",
       "    </tr>\n",
       "  </thead>\n",
       "  <tbody>\n",
       "    <tr>\n",
       "      <th>0</th>\n",
       "      <td>Abhay</td>\n",
       "      <td>2001</td>\n",
       "      <td>[Kamal Haasan, Manisha Koirala, Raveena Tandon...</td>\n",
       "      <td>Suresh Krishna</td>\n",
       "      <td>66346</td>\n",
       "      <td>Nandu and Vijay are brothers, who were abused ...</td>\n",
       "      <td>7.200</td>\n",
       "      <td>https://image.tmdb.org/t/p/original/5grbkwNnMy...</td>\n",
       "      <td>[Thriller]</td>\n",
       "      <td>[V Creations]</td>\n",
       "      <td>...</td>\n",
       "      <td>Hindi</td>\n",
       "      <td>Kamal Haasan, Manisha Koirala, Raveena Tandon,...</td>\n",
       "      <td>Thriller</td>\n",
       "      <td>Suresh Krishna</td>\n",
       "      <td>V Creations</td>\n",
       "      <td>kamalhaasan manishakoirala raveenatandon golla...</td>\n",
       "      <td>thriller</td>\n",
       "      <td>sureshkrishna</td>\n",
       "      <td>abhay</td>\n",
       "      <td>kamalhaasan manishakoirala raveenatandon golla...</td>\n",
       "    </tr>\n",
       "    <tr>\n",
       "      <th>1</th>\n",
       "      <td>Aamdani Atthanni Kharcha Rupaiya</td>\n",
       "      <td>2001</td>\n",
       "      <td>[Govinda, Juhi Chawla, Johnny Lever, Tabu, Ket...</td>\n",
       "      <td>K Raghavendra Rao</td>\n",
       "      <td>25801</td>\n",
       "      <td>Jhoomri and her husband, Bhimsha, move into a ...</td>\n",
       "      <td>5.200</td>\n",
       "      <td>https://image.tmdb.org/t/p/original/9xl6TNdI2Q...</td>\n",
       "      <td>[Comedy]</td>\n",
       "      <td>no result</td>\n",
       "      <td>...</td>\n",
       "      <td>Hindi</td>\n",
       "      <td>Govinda, Juhi Chawla, Johnny Lever, Tabu, Ketk...</td>\n",
       "      <td>Comedy</td>\n",
       "      <td>K Raghavendra Rao</td>\n",
       "      <td>no result</td>\n",
       "      <td>govinda juhichawla johnnylever tabu ketkidave ...</td>\n",
       "      <td>comedy</td>\n",
       "      <td>kraghavendrarao</td>\n",
       "      <td>aamdaniatthannikharcharupaiya</td>\n",
       "      <td>govinda juhichawla johnnylever tabu ketkidave ...</td>\n",
       "    </tr>\n",
       "    <tr>\n",
       "      <th>2</th>\n",
       "      <td>Aashiq</td>\n",
       "      <td>2001</td>\n",
       "      <td>[Bobby Deol, Karisma Kapoor, Ashok Saraf, Muke...</td>\n",
       "      <td>Indra Kumar</td>\n",
       "      <td>362100</td>\n",
       "      <td>Pooja and Chander Kapoor have a heart-to-heart...</td>\n",
       "      <td>6.000</td>\n",
       "      <td>https://image.tmdb.org/t/p/original/ebH0vv6e5C...</td>\n",
       "      <td>[Action, Romance]</td>\n",
       "      <td>no result</td>\n",
       "      <td>...</td>\n",
       "      <td>Hindi</td>\n",
       "      <td>Bobby Deol, Karisma Kapoor, Ashok Saraf, Mukes...</td>\n",
       "      <td>Action, Romance</td>\n",
       "      <td>Indra Kumar</td>\n",
       "      <td>no result</td>\n",
       "      <td>bobbydeol karismakapoor ashoksaraf mukeshrishi...</td>\n",
       "      <td>action romance</td>\n",
       "      <td>indrakumar</td>\n",
       "      <td>aashiq</td>\n",
       "      <td>bobbydeol karismakapoor ashoksaraf mukeshrishi...</td>\n",
       "    </tr>\n",
       "    <tr>\n",
       "      <th>3</th>\n",
       "      <td>Ajnabee</td>\n",
       "      <td>2001</td>\n",
       "      <td>[Akshay Kumar, Bobby Deol, Kareena Kapoor Khan...</td>\n",
       "      <td>Mustan Alibhai Burmawalla</td>\n",
       "      <td>22316</td>\n",
       "      <td>Raj and Priya befriend their new neighbors Vic...</td>\n",
       "      <td>5.611</td>\n",
       "      <td>https://image.tmdb.org/t/p/original/rIscKIZxR4...</td>\n",
       "      <td>[Action, Crime, Drama, Thriller]</td>\n",
       "      <td>[Film Folks]</td>\n",
       "      <td>...</td>\n",
       "      <td>Hindi</td>\n",
       "      <td>Akshay Kumar, Bobby Deol, Kareena Kapoor Khan,...</td>\n",
       "      <td>Action, Crime, Drama, Thriller</td>\n",
       "      <td>Mustan Alibhai Burmawalla</td>\n",
       "      <td>Film Folks</td>\n",
       "      <td>akshaykumar bobbydeol kareenakapoorkhan bipash...</td>\n",
       "      <td>action crime drama thriller</td>\n",
       "      <td>mustanalibhaiburmawalla</td>\n",
       "      <td>ajnabee</td>\n",
       "      <td>akshaykumar bobbydeol kareenakapoorkhan bipash...</td>\n",
       "    </tr>\n",
       "    <tr>\n",
       "      <th>4</th>\n",
       "      <td>Aks</td>\n",
       "      <td>2001</td>\n",
       "      <td>[Amitabh Bachchan, Manoj Bajpayee, Raveena Tan...</td>\n",
       "      <td>Rakeysh Omprakash Mehra</td>\n",
       "      <td>152035</td>\n",
       "      <td>On the trail of an underworld contract killer,...</td>\n",
       "      <td>5.100</td>\n",
       "      <td>https://image.tmdb.org/t/p/original/4vGi15Vx0K...</td>\n",
       "      <td>[Crime, Thriller]</td>\n",
       "      <td>no result</td>\n",
       "      <td>...</td>\n",
       "      <td>Hindi</td>\n",
       "      <td>Amitabh Bachchan, Manoj Bajpayee, Raveena Tand...</td>\n",
       "      <td>Crime, Thriller</td>\n",
       "      <td>Rakeysh Omprakash Mehra</td>\n",
       "      <td>no result</td>\n",
       "      <td>amitabhbachchan manojbajpayee raveenatandon na...</td>\n",
       "      <td>crime thriller</td>\n",
       "      <td>rakeyshomprakashmehra</td>\n",
       "      <td>aks</td>\n",
       "      <td>amitabhbachchan manojbajpayee raveenatandon na...</td>\n",
       "    </tr>\n",
       "  </tbody>\n",
       "</table>\n",
       "<p>5 rows × 21 columns</p>\n",
       "</div>"
      ],
      "text/plain": [
       "                              title  release_year  \\\n",
       "0                             Abhay          2001   \n",
       "1  Aamdani Atthanni Kharcha Rupaiya          2001   \n",
       "2                            Aashiq          2001   \n",
       "3                           Ajnabee          2001   \n",
       "4                               Aks          2001   \n",
       "\n",
       "                                           cast_tmdb  \\\n",
       "0  [Kamal Haasan, Manisha Koirala, Raveena Tandon...   \n",
       "1  [Govinda, Juhi Chawla, Johnny Lever, Tabu, Ket...   \n",
       "2  [Bobby Deol, Karisma Kapoor, Ashok Saraf, Muke...   \n",
       "3  [Akshay Kumar, Bobby Deol, Kareena Kapoor Khan...   \n",
       "4  [Amitabh Bachchan, Manoj Bajpayee, Raveena Tan...   \n",
       "\n",
       "               director_tmdb  tmdb_id  \\\n",
       "0             Suresh Krishna    66346   \n",
       "1          K Raghavendra Rao    25801   \n",
       "2                Indra Kumar   362100   \n",
       "3  Mustan Alibhai Burmawalla    22316   \n",
       "4    Rakeysh Omprakash Mehra   152035   \n",
       "\n",
       "                                            overview  rating  \\\n",
       "0  Nandu and Vijay are brothers, who were abused ...   7.200   \n",
       "1  Jhoomri and her husband, Bhimsha, move into a ...   5.200   \n",
       "2  Pooja and Chander Kapoor have a heart-to-heart...   6.000   \n",
       "3  Raj and Priya befriend their new neighbors Vic...   5.611   \n",
       "4  On the trail of an underworld contract killer,...   5.100   \n",
       "\n",
       "                                              poster  \\\n",
       "0  https://image.tmdb.org/t/p/original/5grbkwNnMy...   \n",
       "1  https://image.tmdb.org/t/p/original/9xl6TNdI2Q...   \n",
       "2  https://image.tmdb.org/t/p/original/ebH0vv6e5C...   \n",
       "3  https://image.tmdb.org/t/p/original/rIscKIZxR4...   \n",
       "4  https://image.tmdb.org/t/p/original/4vGi15Vx0K...   \n",
       "\n",
       "                        genres_tmdb production_companies  ... language  \\\n",
       "0                        [Thriller]        [V Creations]  ...    Hindi   \n",
       "1                          [Comedy]            no result  ...    Hindi   \n",
       "2                 [Action, Romance]            no result  ...    Hindi   \n",
       "3  [Action, Crime, Drama, Thriller]         [Film Folks]  ...    Hindi   \n",
       "4                 [Crime, Thriller]            no result  ...    Hindi   \n",
       "\n",
       "                                        cast_display  \\\n",
       "0  Kamal Haasan, Manisha Koirala, Raveena Tandon,...   \n",
       "1  Govinda, Juhi Chawla, Johnny Lever, Tabu, Ketk...   \n",
       "2  Bobby Deol, Karisma Kapoor, Ashok Saraf, Mukes...   \n",
       "3  Akshay Kumar, Bobby Deol, Kareena Kapoor Khan,...   \n",
       "4  Amitabh Bachchan, Manoj Bajpayee, Raveena Tand...   \n",
       "\n",
       "                   genres_display           director_display  \\\n",
       "0                        Thriller             Suresh Krishna   \n",
       "1                          Comedy          K Raghavendra Rao   \n",
       "2                 Action, Romance                Indra Kumar   \n",
       "3  Action, Crime, Drama, Thriller  Mustan Alibhai Burmawalla   \n",
       "4                 Crime, Thriller    Rakeysh Omprakash Mehra   \n",
       "\n",
       "  production_companies_display  \\\n",
       "0                  V Creations   \n",
       "1                    no result   \n",
       "2                    no result   \n",
       "3                   Film Folks   \n",
       "4                    no result   \n",
       "\n",
       "                                                cast  \\\n",
       "0  kamalhaasan manishakoirala raveenatandon golla...   \n",
       "1  govinda juhichawla johnnylever tabu ketkidave ...   \n",
       "2  bobbydeol karismakapoor ashoksaraf mukeshrishi...   \n",
       "3  akshaykumar bobbydeol kareenakapoorkhan bipash...   \n",
       "4  amitabhbachchan manojbajpayee raveenatandon na...   \n",
       "\n",
       "                        genres                 director  \\\n",
       "0                     thriller            sureshkrishna   \n",
       "1                       comedy          kraghavendrarao   \n",
       "2               action romance               indrakumar   \n",
       "3  action crime drama thriller  mustanalibhaiburmawalla   \n",
       "4               crime thriller    rakeyshomprakashmehra   \n",
       "\n",
       "                    title_search  \\\n",
       "0                          abhay   \n",
       "1  aamdaniatthannikharcharupaiya   \n",
       "2                         aashiq   \n",
       "3                        ajnabee   \n",
       "4                            aks   \n",
       "\n",
       "                                            document  \n",
       "0  kamalhaasan manishakoirala raveenatandon golla...  \n",
       "1  govinda juhichawla johnnylever tabu ketkidave ...  \n",
       "2  bobbydeol karismakapoor ashoksaraf mukeshrishi...  \n",
       "3  akshaykumar bobbydeol kareenakapoorkhan bipash...  \n",
       "4  amitabhbachchan manojbajpayee raveenatandon na...  \n",
       "\n",
       "[5 rows x 21 columns]"
      ]
     },
     "execution_count": 71,
     "metadata": {},
     "output_type": "execute_result"
    }
   ],
   "source": [
    "indian_movies.head()"
   ]
  },
  {
   "cell_type": "code",
   "execution_count": 72,
   "id": "62afb52f",
   "metadata": {},
   "outputs": [],
   "source": [
    "indian_movies = indian_movies[['title', 'release_year', 'imdb_id', 'poster', 'tmdb_id', 'cast',\n",
    "       'director', 'genres', 'production_companies', 'cast_display',\n",
    "       'director_display', 'genres_display', 'production_companies_display',\n",
    "       'title_search', 'document', 'language']]"
   ]
  },
  {
   "cell_type": "code",
   "execution_count": 73,
   "id": "4bcff869",
   "metadata": {},
   "outputs": [
    {
     "data": {
      "text/plain": [
       "Index(['title', 'release_year', 'imdb_id', 'poster', 'tmdb_id', 'cast',\n",
       "       'director', 'genres', 'production_companies', 'cast_display',\n",
       "       'director_display', 'genres_display', 'production_companies_display',\n",
       "       'title_search', 'document', 'language'],\n",
       "      dtype='object')"
      ]
     },
     "execution_count": 73,
     "metadata": {},
     "output_type": "execute_result"
    }
   ],
   "source": [
    "american_movies.columns"
   ]
  },
  {
   "cell_type": "code",
   "execution_count": 74,
   "id": "3cc76560",
   "metadata": {},
   "outputs": [
    {
     "data": {
      "text/plain": [
       "Index(['title', 'release_year', 'imdb_id', 'poster', 'tmdb_id', 'cast',\n",
       "       'director', 'genres', 'production_companies', 'cast_display',\n",
       "       'director_display', 'genres_display', 'production_companies_display',\n",
       "       'title_search', 'document', 'language'],\n",
       "      dtype='object')"
      ]
     },
     "execution_count": 74,
     "metadata": {},
     "output_type": "execute_result"
    }
   ],
   "source": [
    "indian_movies.columns"
   ]
  },
  {
   "cell_type": "code",
   "execution_count": 75,
   "id": "d1953929",
   "metadata": {},
   "outputs": [],
   "source": [
    "movies_data = pd.concat([american_movies, indian_movies], ignore_index=True)"
   ]
  },
  {
   "cell_type": "code",
   "execution_count": 76,
   "id": "5217f706",
   "metadata": {},
   "outputs": [
    {
     "name": "stdout",
     "output_type": "stream",
     "text": [
      "<class 'pandas.core.frame.DataFrame'>\n",
      "RangeIndex: 9520 entries, 0 to 9519\n",
      "Data columns (total 16 columns):\n",
      " #   Column                        Non-Null Count  Dtype \n",
      "---  ------                        --------------  ----- \n",
      " 0   title                         9520 non-null   object\n",
      " 1   release_year                  9520 non-null   int64 \n",
      " 2   imdb_id                       9520 non-null   object\n",
      " 3   poster                        9520 non-null   object\n",
      " 4   tmdb_id                       9520 non-null   int64 \n",
      " 5   cast                          9520 non-null   object\n",
      " 6   director                      9520 non-null   object\n",
      " 7   genres                        9520 non-null   object\n",
      " 8   production_companies          9520 non-null   object\n",
      " 9   cast_display                  9520 non-null   object\n",
      " 10  director_display              9520 non-null   object\n",
      " 11  genres_display                9520 non-null   object\n",
      " 12  production_companies_display  9520 non-null   object\n",
      " 13  title_search                  9520 non-null   object\n",
      " 14  document                      9520 non-null   object\n",
      " 15  language                      9520 non-null   object\n",
      "dtypes: int64(2), object(14)\n",
      "memory usage: 1.2+ MB\n"
     ]
    }
   ],
   "source": [
    "movies_data.info()"
   ]
  },
  {
   "cell_type": "code",
   "execution_count": 77,
   "id": "595d1cb2",
   "metadata": {},
   "outputs": [],
   "source": [
    "movies_data['title']=movies_data['title'].apply(extract_movie_title)"
   ]
  },
  {
   "cell_type": "code",
   "execution_count": 78,
   "id": "0850dfe7",
   "metadata": {},
   "outputs": [],
   "source": [
    "movies_data['title_search'] = movies_data['title'].apply(clean)"
   ]
  },
  {
   "cell_type": "code",
   "execution_count": 79,
   "id": "520eaa03",
   "metadata": {},
   "outputs": [
    {
     "data": {
      "text/html": [
       "<div>\n",
       "<style scoped>\n",
       "    .dataframe tbody tr th:only-of-type {\n",
       "        vertical-align: middle;\n",
       "    }\n",
       "\n",
       "    .dataframe tbody tr th {\n",
       "        vertical-align: top;\n",
       "    }\n",
       "\n",
       "    .dataframe thead th {\n",
       "        text-align: right;\n",
       "    }\n",
       "</style>\n",
       "<table border=\"1\" class=\"dataframe\">\n",
       "  <thead>\n",
       "    <tr style=\"text-align: right;\">\n",
       "      <th></th>\n",
       "      <th>title</th>\n",
       "      <th>release_year</th>\n",
       "      <th>imdb_id</th>\n",
       "      <th>poster</th>\n",
       "      <th>tmdb_id</th>\n",
       "      <th>cast</th>\n",
       "      <th>director</th>\n",
       "      <th>genres</th>\n",
       "      <th>production_companies</th>\n",
       "      <th>cast_display</th>\n",
       "      <th>director_display</th>\n",
       "      <th>genres_display</th>\n",
       "      <th>production_companies_display</th>\n",
       "      <th>title_search</th>\n",
       "      <th>document</th>\n",
       "      <th>language</th>\n",
       "    </tr>\n",
       "  </thead>\n",
       "  <tbody>\n",
       "    <tr>\n",
       "      <th>0</th>\n",
       "      <td>29th Street</td>\n",
       "      <td>1991</td>\n",
       "      <td>tt0101252</td>\n",
       "      <td>https://m.media-amazon.com/images/M/MV5BMWY2MT...</td>\n",
       "      <td>43267</td>\n",
       "      <td>AnthonyLaPaglia DannyAiello LainieKazan FrankP...</td>\n",
       "      <td>GeorgeGallo</td>\n",
       "      <td>Comedy</td>\n",
       "      <td>20thCenturyFox</td>\n",
       "      <td>Anthony La Paglia,  Danny Aiello,  Lainie Kaza...</td>\n",
       "      <td>George Gallo</td>\n",
       "      <td>Comedy</td>\n",
       "      <td>20th Century Fox</td>\n",
       "      <td>29thstreet</td>\n",
       "      <td>AnthonyLaPaglia DannyAiello LainieKazan FrankP...</td>\n",
       "      <td>English</td>\n",
       "    </tr>\n",
       "    <tr>\n",
       "      <th>1</th>\n",
       "      <td>The Addams Family</td>\n",
       "      <td>1991</td>\n",
       "      <td>tt0101272</td>\n",
       "      <td>https://m.media-amazon.com/images/M/MV5BODc1Nm...</td>\n",
       "      <td>2907</td>\n",
       "      <td>RaúlJuliá AnjelicaHuston ChristopherLloyd Chri...</td>\n",
       "      <td>BarrySonnenfeld</td>\n",
       "      <td>Comedy Fantasy</td>\n",
       "      <td>ScottRudinProductions OrionPictures Paramount</td>\n",
       "      <td>Raúl Juliá,  Anjelica Huston,  Christopher Llo...</td>\n",
       "      <td>Barry Sonnenfeld</td>\n",
       "      <td>Comedy,  Fantasy</td>\n",
       "      <td>Scott Rudin Productions,  Orion Pictures,  Par...</td>\n",
       "      <td>theaddamsfamily</td>\n",
       "      <td>RaúlJuliá AnjelicaHuston ChristopherLloyd Chri...</td>\n",
       "      <td>English</td>\n",
       "    </tr>\n",
       "    <tr>\n",
       "      <th>2</th>\n",
       "      <td>All I Want for Christmas</td>\n",
       "      <td>1991</td>\n",
       "      <td>tt0101301</td>\n",
       "      <td>https://m.media-amazon.com/images/M/MV5BMTk3Mj...</td>\n",
       "      <td>13644</td>\n",
       "      <td>HarleyJaneKozak JameySheridan ThoraBirch Ethan...</td>\n",
       "      <td>RobLieberman</td>\n",
       "      <td>Family Drama Comedy</td>\n",
       "      <td>Paramount</td>\n",
       "      <td>Harley Jane Kozak,  Jamey Sheridan,  Thora Bir...</td>\n",
       "      <td>Rob Lieberman</td>\n",
       "      <td>Family,  Drama,  Comedy</td>\n",
       "      <td>Paramount</td>\n",
       "      <td>alliwantforchristmas</td>\n",
       "      <td>HarleyJaneKozak JameySheridan ThoraBirch Ethan...</td>\n",
       "      <td>English</td>\n",
       "    </tr>\n",
       "    <tr>\n",
       "      <th>3</th>\n",
       "      <td>American Kickboxer</td>\n",
       "      <td>1991</td>\n",
       "      <td>tt0101325</td>\n",
       "      <td>https://m.media-amazon.com/images/M/MV5BM2E2Nm...</td>\n",
       "      <td>110830</td>\n",
       "      <td>JohnBarrett KeithVitali TerryNorton BradMorris...</td>\n",
       "      <td>FransNel</td>\n",
       "      <td>Action</td>\n",
       "      <td>GlobalPictures DistantHorizon CannonGroup</td>\n",
       "      <td>John Barrett,  Keith Vitali,  Terry Norton,  B...</td>\n",
       "      <td>Frans Nel</td>\n",
       "      <td>Action</td>\n",
       "      <td>Global Pictures,  Distant Horizon,  Cannon Group</td>\n",
       "      <td>americankickboxer</td>\n",
       "      <td>JohnBarrett KeithVitali TerryNorton BradMorris...</td>\n",
       "      <td>English</td>\n",
       "    </tr>\n",
       "    <tr>\n",
       "      <th>4</th>\n",
       "      <td>An American Tail: Fievel Goes West</td>\n",
       "      <td>1991</td>\n",
       "      <td>tt0101329</td>\n",
       "      <td>https://m.media-amazon.com/images/M/MV5BZmUyOT...</td>\n",
       "      <td>10380</td>\n",
       "      <td>PhillipGlasser JamesStewart EricaYohn CathyCav...</td>\n",
       "      <td>SimonWells</td>\n",
       "      <td>Adventure Animation Family Western</td>\n",
       "      <td>AmblinEntertainment UniversalPictures Amblimation</td>\n",
       "      <td>Phillip Glasser,  James Stewart,  Erica Yohn, ...</td>\n",
       "      <td>Simon Wells</td>\n",
       "      <td>Adventure,  Animation,  Family,  Western</td>\n",
       "      <td>Amblin Entertainment,  Universal Pictures,  Am...</td>\n",
       "      <td>anamericantailfievelgoeswest</td>\n",
       "      <td>PhillipGlasser JamesStewart EricaYohn CathyCav...</td>\n",
       "      <td>English</td>\n",
       "    </tr>\n",
       "    <tr>\n",
       "      <th>...</th>\n",
       "      <td>...</td>\n",
       "      <td>...</td>\n",
       "      <td>...</td>\n",
       "      <td>...</td>\n",
       "      <td>...</td>\n",
       "      <td>...</td>\n",
       "      <td>...</td>\n",
       "      <td>...</td>\n",
       "      <td>...</td>\n",
       "      <td>...</td>\n",
       "      <td>...</td>\n",
       "      <td>...</td>\n",
       "      <td>...</td>\n",
       "      <td>...</td>\n",
       "      <td>...</td>\n",
       "      <td>...</td>\n",
       "    </tr>\n",
       "    <tr>\n",
       "      <th>9515</th>\n",
       "      <td>Unstoppable</td>\n",
       "      <td>2023</td>\n",
       "      <td>tt22938854</td>\n",
       "      <td>https://image.tmdb.org/t/p/original/mHs0tRWxGC...</td>\n",
       "      <td>1154196</td>\n",
       "      <td>vjsunny saptagiri aksakhan nakshatra posanikri...</td>\n",
       "      <td>diamondratnababu</td>\n",
       "      <td>comedy</td>\n",
       "      <td>[AB2 Productions]</td>\n",
       "      <td>VJ Sunny, Saptagiri, Aksa Khan, Nakshatra, Pos...</td>\n",
       "      <td>Diamond Ratnababu</td>\n",
       "      <td>Comedy</td>\n",
       "      <td>AB2 Productions</td>\n",
       "      <td>unstoppable</td>\n",
       "      <td>vjsunny saptagiri aksakhan nakshatra posanikri...</td>\n",
       "      <td>Telugu</td>\n",
       "    </tr>\n",
       "    <tr>\n",
       "      <th>9516</th>\n",
       "      <td>Vimanam</td>\n",
       "      <td>2023</td>\n",
       "      <td>tt26743568</td>\n",
       "      <td>https://image.tmdb.org/t/p/original/d1FQfGMDGR...</td>\n",
       "      <td>1114702</td>\n",
       "      <td>samuthirakani anasuyabharadwaj meerajasmine ma...</td>\n",
       "      <td>sivaprasadyanala</td>\n",
       "      <td>drama family</td>\n",
       "      <td>[Zee Studios, Kiran Korrapati Creative Works]</td>\n",
       "      <td>Samuthirakani, Anasuya Bharadwaj, Meera Jasmin...</td>\n",
       "      <td>Siva Prasad Yanala</td>\n",
       "      <td>Drama, Family</td>\n",
       "      <td>Zee Studios, Kiran Korrapati Creative Works</td>\n",
       "      <td>vimanam</td>\n",
       "      <td>samuthirakani anasuyabharadwaj meerajasmine ma...</td>\n",
       "      <td>Telugu</td>\n",
       "    </tr>\n",
       "    <tr>\n",
       "      <th>9517</th>\n",
       "      <td>Adipurush</td>\n",
       "      <td>2023</td>\n",
       "      <td>tt12915716</td>\n",
       "      <td>https://image.tmdb.org/t/p/original/kpuOeWclbt...</td>\n",
       "      <td>734253</td>\n",
       "      <td>prabhas saifalikhan kritisanon sunnysinghnijja...</td>\n",
       "      <td>omraut</td>\n",
       "      <td>action adventure drama fantasy history</td>\n",
       "      <td>[Retrophiles, T-Series, AA Films, UV Creations...</td>\n",
       "      <td>Prabhas, Saif Ali Khan, Kriti Sanon, Sunny Sin...</td>\n",
       "      <td>Om Raut</td>\n",
       "      <td>Action, Adventure, Drama, Fantasy, History</td>\n",
       "      <td>Retrophiles, TSeries, AA Films, UV Creations, ...</td>\n",
       "      <td>adipurush</td>\n",
       "      <td>prabhas saifalikhan kritisanon sunnysinghnijja...</td>\n",
       "      <td>Telugu</td>\n",
       "    </tr>\n",
       "    <tr>\n",
       "      <th>9518</th>\n",
       "      <td>Spy</td>\n",
       "      <td>2023</td>\n",
       "      <td>tt26684398</td>\n",
       "      <td>https://image.tmdb.org/t/p/original/auN2sEpiwc...</td>\n",
       "      <td>1062807</td>\n",
       "      <td>takuyaeguchi atsumitanezaki saorihayami kenich...</td>\n",
       "      <td>takashikatagiri</td>\n",
       "      <td>animation comedy adventure action</td>\n",
       "      <td>[WIT STUDIO, CloverWorks, TOHO]</td>\n",
       "      <td>Takuya Eguchi, Atsumi Tanezaki, Saori Hayami, ...</td>\n",
       "      <td>Takashi Katagiri</td>\n",
       "      <td>Animation, Comedy, Adventure, Action</td>\n",
       "      <td>WIT STUDIO, CloverWorks, TOHO</td>\n",
       "      <td>spy</td>\n",
       "      <td>takuyaeguchi atsumitanezaki saorihayami kenich...</td>\n",
       "      <td>Telugu</td>\n",
       "    </tr>\n",
       "    <tr>\n",
       "      <th>9519</th>\n",
       "      <td>Samajavaragamana</td>\n",
       "      <td>2023</td>\n",
       "      <td>tt26699538</td>\n",
       "      <td>https://image.tmdb.org/t/p/original/nNE51nnaZi...</td>\n",
       "      <td>1031218</td>\n",
       "      <td>sreevishnu rebamonicajohn naresh srikanthiyeng...</td>\n",
       "      <td>ramabbaraju</td>\n",
       "      <td>comedy drama romance</td>\n",
       "      <td>[Hasya Movies, AK Entertainments]</td>\n",
       "      <td>Sree Vishnu, Reba Monica John, Naresh, Srikant...</td>\n",
       "      <td>Ram Abbaraju</td>\n",
       "      <td>Comedy, Drama, Romance</td>\n",
       "      <td>Hasya Movies, AK Entertainments</td>\n",
       "      <td>samajavaragamana</td>\n",
       "      <td>sreevishnu rebamonicajohn naresh srikanthiyeng...</td>\n",
       "      <td>Telugu</td>\n",
       "    </tr>\n",
       "  </tbody>\n",
       "</table>\n",
       "<p>9520 rows × 16 columns</p>\n",
       "</div>"
      ],
      "text/plain": [
       "                                   title  release_year     imdb_id  \\\n",
       "0                            29th Street          1991   tt0101252   \n",
       "1                      The Addams Family          1991   tt0101272   \n",
       "2               All I Want for Christmas          1991   tt0101301   \n",
       "3                     American Kickboxer          1991   tt0101325   \n",
       "4     An American Tail: Fievel Goes West          1991   tt0101329   \n",
       "...                                  ...           ...         ...   \n",
       "9515                         Unstoppable          2023  tt22938854   \n",
       "9516                             Vimanam          2023  tt26743568   \n",
       "9517                           Adipurush          2023  tt12915716   \n",
       "9518                                 Spy          2023  tt26684398   \n",
       "9519                    Samajavaragamana          2023  tt26699538   \n",
       "\n",
       "                                                 poster  tmdb_id  \\\n",
       "0     https://m.media-amazon.com/images/M/MV5BMWY2MT...    43267   \n",
       "1     https://m.media-amazon.com/images/M/MV5BODc1Nm...     2907   \n",
       "2     https://m.media-amazon.com/images/M/MV5BMTk3Mj...    13644   \n",
       "3     https://m.media-amazon.com/images/M/MV5BM2E2Nm...   110830   \n",
       "4     https://m.media-amazon.com/images/M/MV5BZmUyOT...    10380   \n",
       "...                                                 ...      ...   \n",
       "9515  https://image.tmdb.org/t/p/original/mHs0tRWxGC...  1154196   \n",
       "9516  https://image.tmdb.org/t/p/original/d1FQfGMDGR...  1114702   \n",
       "9517  https://image.tmdb.org/t/p/original/kpuOeWclbt...   734253   \n",
       "9518  https://image.tmdb.org/t/p/original/auN2sEpiwc...  1062807   \n",
       "9519  https://image.tmdb.org/t/p/original/nNE51nnaZi...  1031218   \n",
       "\n",
       "                                                   cast          director  \\\n",
       "0     AnthonyLaPaglia DannyAiello LainieKazan FrankP...       GeorgeGallo   \n",
       "1     RaúlJuliá AnjelicaHuston ChristopherLloyd Chri...   BarrySonnenfeld   \n",
       "2     HarleyJaneKozak JameySheridan ThoraBirch Ethan...      RobLieberman   \n",
       "3     JohnBarrett KeithVitali TerryNorton BradMorris...          FransNel   \n",
       "4     PhillipGlasser JamesStewart EricaYohn CathyCav...        SimonWells   \n",
       "...                                                 ...               ...   \n",
       "9515  vjsunny saptagiri aksakhan nakshatra posanikri...  diamondratnababu   \n",
       "9516  samuthirakani anasuyabharadwaj meerajasmine ma...  sivaprasadyanala   \n",
       "9517  prabhas saifalikhan kritisanon sunnysinghnijja...            omraut   \n",
       "9518  takuyaeguchi atsumitanezaki saorihayami kenich...   takashikatagiri   \n",
       "9519  sreevishnu rebamonicajohn naresh srikanthiyeng...       ramabbaraju   \n",
       "\n",
       "                                      genres  \\\n",
       "0                                     Comedy   \n",
       "1                             Comedy Fantasy   \n",
       "2                        Family Drama Comedy   \n",
       "3                                     Action   \n",
       "4         Adventure Animation Family Western   \n",
       "...                                      ...   \n",
       "9515                                  comedy   \n",
       "9516                            drama family   \n",
       "9517  action adventure drama fantasy history   \n",
       "9518       animation comedy adventure action   \n",
       "9519                    comedy drama romance   \n",
       "\n",
       "                                   production_companies  \\\n",
       "0                                        20thCenturyFox   \n",
       "1         ScottRudinProductions OrionPictures Paramount   \n",
       "2                                             Paramount   \n",
       "3             GlobalPictures DistantHorizon CannonGroup   \n",
       "4     AmblinEntertainment UniversalPictures Amblimation   \n",
       "...                                                 ...   \n",
       "9515                                  [AB2 Productions]   \n",
       "9516      [Zee Studios, Kiran Korrapati Creative Works]   \n",
       "9517  [Retrophiles, T-Series, AA Films, UV Creations...   \n",
       "9518                    [WIT STUDIO, CloverWorks, TOHO]   \n",
       "9519                  [Hasya Movies, AK Entertainments]   \n",
       "\n",
       "                                           cast_display    director_display  \\\n",
       "0     Anthony La Paglia,  Danny Aiello,  Lainie Kaza...        George Gallo   \n",
       "1     Raúl Juliá,  Anjelica Huston,  Christopher Llo...    Barry Sonnenfeld   \n",
       "2     Harley Jane Kozak,  Jamey Sheridan,  Thora Bir...       Rob Lieberman   \n",
       "3     John Barrett,  Keith Vitali,  Terry Norton,  B...           Frans Nel   \n",
       "4     Phillip Glasser,  James Stewart,  Erica Yohn, ...         Simon Wells   \n",
       "...                                                 ...                 ...   \n",
       "9515  VJ Sunny, Saptagiri, Aksa Khan, Nakshatra, Pos...   Diamond Ratnababu   \n",
       "9516  Samuthirakani, Anasuya Bharadwaj, Meera Jasmin...  Siva Prasad Yanala   \n",
       "9517  Prabhas, Saif Ali Khan, Kriti Sanon, Sunny Sin...             Om Raut   \n",
       "9518  Takuya Eguchi, Atsumi Tanezaki, Saori Hayami, ...    Takashi Katagiri   \n",
       "9519  Sree Vishnu, Reba Monica John, Naresh, Srikant...        Ram Abbaraju   \n",
       "\n",
       "                                  genres_display  \\\n",
       "0                                         Comedy   \n",
       "1                               Comedy,  Fantasy   \n",
       "2                        Family,  Drama,  Comedy   \n",
       "3                                         Action   \n",
       "4       Adventure,  Animation,  Family,  Western   \n",
       "...                                          ...   \n",
       "9515                                      Comedy   \n",
       "9516                               Drama, Family   \n",
       "9517  Action, Adventure, Drama, Fantasy, History   \n",
       "9518        Animation, Comedy, Adventure, Action   \n",
       "9519                      Comedy, Drama, Romance   \n",
       "\n",
       "                           production_companies_display  \\\n",
       "0                                      20th Century Fox   \n",
       "1     Scott Rudin Productions,  Orion Pictures,  Par...   \n",
       "2                                             Paramount   \n",
       "3      Global Pictures,  Distant Horizon,  Cannon Group   \n",
       "4     Amblin Entertainment,  Universal Pictures,  Am...   \n",
       "...                                                 ...   \n",
       "9515                                    AB2 Productions   \n",
       "9516        Zee Studios, Kiran Korrapati Creative Works   \n",
       "9517  Retrophiles, TSeries, AA Films, UV Creations, ...   \n",
       "9518                      WIT STUDIO, CloverWorks, TOHO   \n",
       "9519                    Hasya Movies, AK Entertainments   \n",
       "\n",
       "                      title_search  \\\n",
       "0                       29thstreet   \n",
       "1                  theaddamsfamily   \n",
       "2             alliwantforchristmas   \n",
       "3                americankickboxer   \n",
       "4     anamericantailfievelgoeswest   \n",
       "...                            ...   \n",
       "9515                   unstoppable   \n",
       "9516                       vimanam   \n",
       "9517                     adipurush   \n",
       "9518                           spy   \n",
       "9519              samajavaragamana   \n",
       "\n",
       "                                               document language  \n",
       "0     AnthonyLaPaglia DannyAiello LainieKazan FrankP...  English  \n",
       "1     RaúlJuliá AnjelicaHuston ChristopherLloyd Chri...  English  \n",
       "2     HarleyJaneKozak JameySheridan ThoraBirch Ethan...  English  \n",
       "3     JohnBarrett KeithVitali TerryNorton BradMorris...  English  \n",
       "4     PhillipGlasser JamesStewart EricaYohn CathyCav...  English  \n",
       "...                                                 ...      ...  \n",
       "9515  vjsunny saptagiri aksakhan nakshatra posanikri...   Telugu  \n",
       "9516  samuthirakani anasuyabharadwaj meerajasmine ma...   Telugu  \n",
       "9517  prabhas saifalikhan kritisanon sunnysinghnijja...   Telugu  \n",
       "9518  takuyaeguchi atsumitanezaki saorihayami kenich...   Telugu  \n",
       "9519  sreevishnu rebamonicajohn naresh srikanthiyeng...   Telugu  \n",
       "\n",
       "[9520 rows x 16 columns]"
      ]
     },
     "execution_count": 79,
     "metadata": {},
     "output_type": "execute_result"
    }
   ],
   "source": [
    "movies_data"
   ]
  },
  {
   "cell_type": "code",
   "execution_count": 88,
   "id": "7515fcd0",
   "metadata": {},
   "outputs": [],
   "source": []
  },
  {
   "cell_type": "code",
   "execution_count": 99,
   "id": "553d515d",
   "metadata": {},
   "outputs": [
    {
     "data": {
      "text/plain": [
       "'https://image.tmdb.org/t/p/original/eV90ODRvxea8b2xJS3qnHXqFxqu.jpg'"
      ]
     },
     "execution_count": 99,
     "metadata": {},
     "output_type": "execute_result"
    }
   ],
   "source": [
    "movies_data.iloc[8779]['poster']"
   ]
  },
  {
   "cell_type": "code",
   "execution_count": 90,
   "id": "5b0745f3",
   "metadata": {},
   "outputs": [],
   "source": [
    "movies_data['document'] = (movies_data['cast'] + \" \" + movies_data['director'] + \" \" \n",
    "                       + movies_data['genres'] + \" \" + movies_data['language'])"
   ]
  },
  {
   "cell_type": "code",
   "execution_count": 104,
   "id": "5ecc9670",
   "metadata": {},
   "outputs": [],
   "source": [
    "movies_data['document'] = movies_data['document'].str.lower()"
   ]
  },
  {
   "cell_type": "code",
   "execution_count": 105,
   "id": "b60eecc3",
   "metadata": {},
   "outputs": [
    {
     "data": {
      "text/plain": [
       "'rampothineni raashiikhanna sathyaraj raoramesh tulasi naresh santoshsrinivas romance action family telugu'"
      ]
     },
     "execution_count": 105,
     "metadata": {},
     "output_type": "execute_result"
    }
   ],
   "source": [
    "movies_data['document'][8888]"
   ]
  },
  {
   "cell_type": "code",
   "execution_count": 106,
   "id": "4810e17b",
   "metadata": {},
   "outputs": [],
   "source": [
    "#movies_data.to_csv('movies_data.csv', index=False)"
   ]
  },
  {
   "cell_type": "code",
   "execution_count": 113,
   "id": "49d22a58",
   "metadata": {},
   "outputs": [
    {
     "data": {
      "text/html": [
       "<div>\n",
       "<style scoped>\n",
       "    .dataframe tbody tr th:only-of-type {\n",
       "        vertical-align: middle;\n",
       "    }\n",
       "\n",
       "    .dataframe tbody tr th {\n",
       "        vertical-align: top;\n",
       "    }\n",
       "\n",
       "    .dataframe thead th {\n",
       "        text-align: right;\n",
       "    }\n",
       "</style>\n",
       "<table border=\"1\" class=\"dataframe\">\n",
       "  <thead>\n",
       "    <tr style=\"text-align: right;\">\n",
       "      <th></th>\n",
       "      <th>title</th>\n",
       "      <th>release_year</th>\n",
       "      <th>imdb_id</th>\n",
       "      <th>poster</th>\n",
       "      <th>tmdb_id</th>\n",
       "      <th>cast</th>\n",
       "      <th>director</th>\n",
       "      <th>genres</th>\n",
       "      <th>production_companies</th>\n",
       "      <th>cast_display</th>\n",
       "      <th>director_display</th>\n",
       "      <th>genres_display</th>\n",
       "      <th>production_companies_display</th>\n",
       "      <th>title_search</th>\n",
       "      <th>document</th>\n",
       "      <th>language</th>\n",
       "    </tr>\n",
       "  </thead>\n",
       "  <tbody>\n",
       "    <tr>\n",
       "      <th>9519</th>\n",
       "      <td>Samajavaragamana</td>\n",
       "      <td>2023</td>\n",
       "      <td>tt26699538</td>\n",
       "      <td>https://image.tmdb.org/t/p/original/nNE51nnaZi...</td>\n",
       "      <td>1031218</td>\n",
       "      <td>sreevishnu rebamonicajohn naresh srikanthiyeng...</td>\n",
       "      <td>ramabbaraju</td>\n",
       "      <td>comedy drama romance</td>\n",
       "      <td>[Hasya Movies, AK Entertainments]</td>\n",
       "      <td>Sree Vishnu, Reba Monica John, Naresh, Srikant...</td>\n",
       "      <td>Ram Abbaraju</td>\n",
       "      <td>Comedy, Drama, Romance</td>\n",
       "      <td>Hasya Movies, AK Entertainments</td>\n",
       "      <td>samajavaragamana</td>\n",
       "      <td>sreevishnu rebamonicajohn naresh srikanthiyeng...</td>\n",
       "      <td>Telugu</td>\n",
       "    </tr>\n",
       "    <tr>\n",
       "      <th>7970</th>\n",
       "      <td>Mrs Undercover</td>\n",
       "      <td>2023</td>\n",
       "      <td>tt14339846</td>\n",
       "      <td>https://image.tmdb.org/t/p/original/wEKwOfgo3I...</td>\n",
       "      <td>915865</td>\n",
       "      <td>radhikaapte sumeetvyas rajeshsharma sahebchatt...</td>\n",
       "      <td>anushreemehta</td>\n",
       "      <td>action comedy thriller</td>\n",
       "      <td>[B4U Motion Pictures]</td>\n",
       "      <td>Radhika Apte, Sumeet Vyas, Rajesh Sharma, Sahe...</td>\n",
       "      <td>Anushree Mehta</td>\n",
       "      <td>Action, Comedy, Thriller</td>\n",
       "      <td>B4U Motion Pictures</td>\n",
       "      <td>mrsundercover</td>\n",
       "      <td>radhikaapte sumeetvyas rajeshsharma sahebchatt...</td>\n",
       "      <td>Hindi</td>\n",
       "    </tr>\n",
       "    <tr>\n",
       "      <th>7968</th>\n",
       "      <td>Gaslight</td>\n",
       "      <td>2023</td>\n",
       "      <td>tt27012110</td>\n",
       "      <td>https://image.tmdb.org/t/p/original/8D3lObq5pv...</td>\n",
       "      <td>1092654</td>\n",
       "      <td>saraalikhan vikrantmassey chitrangdasingh rahu...</td>\n",
       "      <td>pavankirpalani</td>\n",
       "      <td>horror thriller</td>\n",
       "      <td>[Tips Industries, 12th Street Entertainment]</td>\n",
       "      <td>Sara Ali Khan, Vikrant Massey, Chitrangda Sing...</td>\n",
       "      <td>Pavan Kirpalani</td>\n",
       "      <td>Horror, Thriller</td>\n",
       "      <td>Tips Industries, 12th Street Entertainment</td>\n",
       "      <td>gaslight</td>\n",
       "      <td>saraalikhan vikrantmassey chitrangdasingh rahu...</td>\n",
       "      <td>Hindi</td>\n",
       "    </tr>\n",
       "    <tr>\n",
       "      <th>7967</th>\n",
       "      <td>Bholaa</td>\n",
       "      <td>2023</td>\n",
       "      <td>tt15302222</td>\n",
       "      <td>https://image.tmdb.org/t/p/original/xa2CfzV1xK...</td>\n",
       "      <td>965606</td>\n",
       "      <td>ajaydevgn tabu deepakdobriyal amalapaul sanjay...</td>\n",
       "      <td>ajaydevgn</td>\n",
       "      <td>action adventure crime</td>\n",
       "      <td>[Dream Warrior Pictures, T-Series, Ajay Devgn ...</td>\n",
       "      <td>Ajay Devgn, Tabu, Deepak Dobriyal, Amala Paul,...</td>\n",
       "      <td>Ajay Devgn</td>\n",
       "      <td>Action, Adventure, Crime</td>\n",
       "      <td>Dream Warrior Pictures, TSeries, Ajay Devgn FF...</td>\n",
       "      <td>bholaa</td>\n",
       "      <td>ajaydevgn tabu deepakdobriyal amalapaul sanjay...</td>\n",
       "      <td>Hindi</td>\n",
       "    </tr>\n",
       "    <tr>\n",
       "      <th>7966</th>\n",
       "      <td>Kanjoos Makhichoos</td>\n",
       "      <td>2023</td>\n",
       "      <td>tt15717242</td>\n",
       "      <td>https://image.tmdb.org/t/p/original/sT02AqTJjz...</td>\n",
       "      <td>1099677</td>\n",
       "      <td>kunalkhemu shwetatripathi piyushmishra alkaami...</td>\n",
       "      <td>vipulmehta</td>\n",
       "      <td>comedy drama</td>\n",
       "      <td>[Soham Rockstar Entertainment, Thundersky Ente...</td>\n",
       "      <td>Kunal Khemu, Shweta Tripathi, Piyush Mishra, A...</td>\n",
       "      <td>Vipul Mehta</td>\n",
       "      <td>Comedy, Drama</td>\n",
       "      <td>Soham Rockstar Entertainment, Thundersky Enter...</td>\n",
       "      <td>kanjoosmakhichoos</td>\n",
       "      <td>kunalkhemu shwetatripathi piyushmishra alkaami...</td>\n",
       "      <td>Hindi</td>\n",
       "    </tr>\n",
       "    <tr>\n",
       "      <th>...</th>\n",
       "      <td>...</td>\n",
       "      <td>...</td>\n",
       "      <td>...</td>\n",
       "      <td>...</td>\n",
       "      <td>...</td>\n",
       "      <td>...</td>\n",
       "      <td>...</td>\n",
       "      <td>...</td>\n",
       "      <td>...</td>\n",
       "      <td>...</td>\n",
       "      <td>...</td>\n",
       "      <td>...</td>\n",
       "      <td>...</td>\n",
       "      <td>...</td>\n",
       "      <td>...</td>\n",
       "      <td>...</td>\n",
       "    </tr>\n",
       "    <tr>\n",
       "      <th>317</th>\n",
       "      <td>Praying with Anger</td>\n",
       "      <td>1992</td>\n",
       "      <td>tt0105162</td>\n",
       "      <td>https://m.media-amazon.com/images/M/MV5BMDM3OD...</td>\n",
       "      <td>114284</td>\n",
       "      <td>MNightShyamalan MikeMuthu RichaAhujaBadami Sus...</td>\n",
       "      <td>MNightShyamalan</td>\n",
       "      <td>Comedy Drama</td>\n",
       "      <td>CrescentMoon</td>\n",
       "      <td>M Night Shyamalan,  Mike Muthu,  Richa Ahuja B...</td>\n",
       "      <td>M Night Shyamalan</td>\n",
       "      <td>Comedy,  Drama</td>\n",
       "      <td>Crescent Moon</td>\n",
       "      <td>prayingwithanger</td>\n",
       "      <td>mnightshyamalan mikemuthu richaahujabadami sus...</td>\n",
       "      <td>English</td>\n",
       "    </tr>\n",
       "    <tr>\n",
       "      <th>316</th>\n",
       "      <td>The Power of One</td>\n",
       "      <td>1992</td>\n",
       "      <td>tt0105159</td>\n",
       "      <td>https://m.media-amazon.com/images/M/MV5BMjQ1NT...</td>\n",
       "      <td>13823</td>\n",
       "      <td>MorganFreeman StephenDorff SimonFenton GuyWitc...</td>\n",
       "      <td>JohnGAvildsen</td>\n",
       "      <td>Drama</td>\n",
       "      <td>AlcorFilms Canal+ RegencyEnterprises VillageRo...</td>\n",
       "      <td>Morgan Freeman,  Stephen Dorff,  Simon Fenton,...</td>\n",
       "      <td>John G Avildsen</td>\n",
       "      <td>Drama</td>\n",
       "      <td>Alcor Films,  Canal+,  Regency Enterprises,  V...</td>\n",
       "      <td>thepowerofone</td>\n",
       "      <td>morganfreeman stephendorff simonfenton guywitc...</td>\n",
       "      <td>English</td>\n",
       "    </tr>\n",
       "    <tr>\n",
       "      <th>315</th>\n",
       "      <td>Poison Ivy</td>\n",
       "      <td>1992</td>\n",
       "      <td>tt0105156</td>\n",
       "      <td>https://m.media-amazon.com/images/M/MV5BZTgzNT...</td>\n",
       "      <td>9264</td>\n",
       "      <td>DrewBarrymore SaraGilbert TomSkerritt CherylLa...</td>\n",
       "      <td>KattShea</td>\n",
       "      <td>Thriller Drama</td>\n",
       "      <td>NewLineCinema</td>\n",
       "      <td>Drew Barrymore,  Sara Gilbert,  Tom Skerritt, ...</td>\n",
       "      <td>Katt Shea</td>\n",
       "      <td>Thriller,  Drama</td>\n",
       "      <td>New Line Cinema</td>\n",
       "      <td>poisonivy</td>\n",
       "      <td>drewbarrymore saragilbert tomskerritt cherylla...</td>\n",
       "      <td>English</td>\n",
       "    </tr>\n",
       "    <tr>\n",
       "      <th>314</th>\n",
       "      <td>The Player</td>\n",
       "      <td>1992</td>\n",
       "      <td>tt0105151</td>\n",
       "      <td>https://m.media-amazon.com/images/M/MV5BMjM5MD...</td>\n",
       "      <td>10403</td>\n",
       "      <td>TimRobbins GretaScacchi FredWard WhoopiGoldber...</td>\n",
       "      <td>RobertAltman</td>\n",
       "      <td>Comedy Crime Drama Mystery</td>\n",
       "      <td>FineLineFeatures AvenuePictures SpellingEntert...</td>\n",
       "      <td>Tim Robbins,  Greta Scacchi,  Fred Ward,  Whoo...</td>\n",
       "      <td>Robert Altman</td>\n",
       "      <td>Comedy,  Crime,  Drama,  Mystery</td>\n",
       "      <td>Fine Line Features,  Avenue Pictures,  Spellin...</td>\n",
       "      <td>theplayer</td>\n",
       "      <td>timrobbins gretascacchi fredward whoopigoldber...</td>\n",
       "      <td>English</td>\n",
       "    </tr>\n",
       "    <tr>\n",
       "      <th>194</th>\n",
       "      <td>1492: Conquest of Paradise</td>\n",
       "      <td>1992</td>\n",
       "      <td>tt0103594</td>\n",
       "      <td>https://m.media-amazon.com/images/M/MV5BZDViYz...</td>\n",
       "      <td>1492</td>\n",
       "      <td>GérardDepardieu ArmandAssante SigourneyWeaver ...</td>\n",
       "      <td>RidleyScott</td>\n",
       "      <td>Action Adventure Drama History</td>\n",
       "      <td>Paramount Gaumont France3Cinéma ABCPictures Du...</td>\n",
       "      <td>Gérard Depardieu,  Armand Assante,  Sigourney ...</td>\n",
       "      <td>Ridley Scott</td>\n",
       "      <td>Action,  Adventure,  Drama,  History</td>\n",
       "      <td>Paramount,  Gaumont,  France3 Cinéma,  A B C P...</td>\n",
       "      <td>1492conquestofparadise</td>\n",
       "      <td>gérarddepardieu armandassante sigourneyweaver ...</td>\n",
       "      <td>English</td>\n",
       "    </tr>\n",
       "  </tbody>\n",
       "</table>\n",
       "<p>9326 rows × 16 columns</p>\n",
       "</div>"
      ],
      "text/plain": [
       "                           title  release_year     imdb_id  \\\n",
       "9519            Samajavaragamana          2023  tt26699538   \n",
       "7970              Mrs Undercover          2023  tt14339846   \n",
       "7968                    Gaslight          2023  tt27012110   \n",
       "7967                      Bholaa          2023  tt15302222   \n",
       "7966          Kanjoos Makhichoos          2023  tt15717242   \n",
       "...                          ...           ...         ...   \n",
       "317           Praying with Anger          1992   tt0105162   \n",
       "316             The Power of One          1992   tt0105159   \n",
       "315                   Poison Ivy          1992   tt0105156   \n",
       "314                   The Player          1992   tt0105151   \n",
       "194   1492: Conquest of Paradise          1992   tt0103594   \n",
       "\n",
       "                                                 poster  tmdb_id  \\\n",
       "9519  https://image.tmdb.org/t/p/original/nNE51nnaZi...  1031218   \n",
       "7970  https://image.tmdb.org/t/p/original/wEKwOfgo3I...   915865   \n",
       "7968  https://image.tmdb.org/t/p/original/8D3lObq5pv...  1092654   \n",
       "7967  https://image.tmdb.org/t/p/original/xa2CfzV1xK...   965606   \n",
       "7966  https://image.tmdb.org/t/p/original/sT02AqTJjz...  1099677   \n",
       "...                                                 ...      ...   \n",
       "317   https://m.media-amazon.com/images/M/MV5BMDM3OD...   114284   \n",
       "316   https://m.media-amazon.com/images/M/MV5BMjQ1NT...    13823   \n",
       "315   https://m.media-amazon.com/images/M/MV5BZTgzNT...     9264   \n",
       "314   https://m.media-amazon.com/images/M/MV5BMjM5MD...    10403   \n",
       "194   https://m.media-amazon.com/images/M/MV5BZDViYz...     1492   \n",
       "\n",
       "                                                   cast         director  \\\n",
       "9519  sreevishnu rebamonicajohn naresh srikanthiyeng...      ramabbaraju   \n",
       "7970  radhikaapte sumeetvyas rajeshsharma sahebchatt...    anushreemehta   \n",
       "7968  saraalikhan vikrantmassey chitrangdasingh rahu...   pavankirpalani   \n",
       "7967  ajaydevgn tabu deepakdobriyal amalapaul sanjay...        ajaydevgn   \n",
       "7966  kunalkhemu shwetatripathi piyushmishra alkaami...       vipulmehta   \n",
       "...                                                 ...              ...   \n",
       "317   MNightShyamalan MikeMuthu RichaAhujaBadami Sus...  MNightShyamalan   \n",
       "316   MorganFreeman StephenDorff SimonFenton GuyWitc...    JohnGAvildsen   \n",
       "315   DrewBarrymore SaraGilbert TomSkerritt CherylLa...         KattShea   \n",
       "314   TimRobbins GretaScacchi FredWard WhoopiGoldber...     RobertAltman   \n",
       "194   GérardDepardieu ArmandAssante SigourneyWeaver ...      RidleyScott   \n",
       "\n",
       "                              genres  \\\n",
       "9519            comedy drama romance   \n",
       "7970          action comedy thriller   \n",
       "7968                 horror thriller   \n",
       "7967          action adventure crime   \n",
       "7966                    comedy drama   \n",
       "...                              ...   \n",
       "317                     Comedy Drama   \n",
       "316                            Drama   \n",
       "315                   Thriller Drama   \n",
       "314       Comedy Crime Drama Mystery   \n",
       "194   Action Adventure Drama History   \n",
       "\n",
       "                                   production_companies  \\\n",
       "9519                  [Hasya Movies, AK Entertainments]   \n",
       "7970                              [B4U Motion Pictures]   \n",
       "7968       [Tips Industries, 12th Street Entertainment]   \n",
       "7967  [Dream Warrior Pictures, T-Series, Ajay Devgn ...   \n",
       "7966  [Soham Rockstar Entertainment, Thundersky Ente...   \n",
       "...                                                 ...   \n",
       "317                                        CrescentMoon   \n",
       "316   AlcorFilms Canal+ RegencyEnterprises VillageRo...   \n",
       "315                                       NewLineCinema   \n",
       "314   FineLineFeatures AvenuePictures SpellingEntert...   \n",
       "194   Paramount Gaumont France3Cinéma ABCPictures Du...   \n",
       "\n",
       "                                           cast_display   director_display  \\\n",
       "9519  Sree Vishnu, Reba Monica John, Naresh, Srikant...       Ram Abbaraju   \n",
       "7970  Radhika Apte, Sumeet Vyas, Rajesh Sharma, Sahe...     Anushree Mehta   \n",
       "7968  Sara Ali Khan, Vikrant Massey, Chitrangda Sing...    Pavan Kirpalani   \n",
       "7967  Ajay Devgn, Tabu, Deepak Dobriyal, Amala Paul,...         Ajay Devgn   \n",
       "7966  Kunal Khemu, Shweta Tripathi, Piyush Mishra, A...        Vipul Mehta   \n",
       "...                                                 ...                ...   \n",
       "317   M Night Shyamalan,  Mike Muthu,  Richa Ahuja B...  M Night Shyamalan   \n",
       "316   Morgan Freeman,  Stephen Dorff,  Simon Fenton,...    John G Avildsen   \n",
       "315   Drew Barrymore,  Sara Gilbert,  Tom Skerritt, ...          Katt Shea   \n",
       "314   Tim Robbins,  Greta Scacchi,  Fred Ward,  Whoo...      Robert Altman   \n",
       "194   Gérard Depardieu,  Armand Assante,  Sigourney ...       Ridley Scott   \n",
       "\n",
       "                            genres_display  \\\n",
       "9519                Comedy, Drama, Romance   \n",
       "7970              Action, Comedy, Thriller   \n",
       "7968                      Horror, Thriller   \n",
       "7967              Action, Adventure, Crime   \n",
       "7966                         Comedy, Drama   \n",
       "...                                    ...   \n",
       "317                         Comedy,  Drama   \n",
       "316                                  Drama   \n",
       "315                       Thriller,  Drama   \n",
       "314       Comedy,  Crime,  Drama,  Mystery   \n",
       "194   Action,  Adventure,  Drama,  History   \n",
       "\n",
       "                           production_companies_display  \\\n",
       "9519                    Hasya Movies, AK Entertainments   \n",
       "7970                                B4U Motion Pictures   \n",
       "7968         Tips Industries, 12th Street Entertainment   \n",
       "7967  Dream Warrior Pictures, TSeries, Ajay Devgn FF...   \n",
       "7966  Soham Rockstar Entertainment, Thundersky Enter...   \n",
       "...                                                 ...   \n",
       "317                                       Crescent Moon   \n",
       "316   Alcor Films,  Canal+,  Regency Enterprises,  V...   \n",
       "315                                     New Line Cinema   \n",
       "314   Fine Line Features,  Avenue Pictures,  Spellin...   \n",
       "194   Paramount,  Gaumont,  France3 Cinéma,  A B C P...   \n",
       "\n",
       "                title_search  \\\n",
       "9519        samajavaragamana   \n",
       "7970           mrsundercover   \n",
       "7968                gaslight   \n",
       "7967                  bholaa   \n",
       "7966       kanjoosmakhichoos   \n",
       "...                      ...   \n",
       "317         prayingwithanger   \n",
       "316            thepowerofone   \n",
       "315                poisonivy   \n",
       "314                theplayer   \n",
       "194   1492conquestofparadise   \n",
       "\n",
       "                                               document language  \n",
       "9519  sreevishnu rebamonicajohn naresh srikanthiyeng...   Telugu  \n",
       "7970  radhikaapte sumeetvyas rajeshsharma sahebchatt...    Hindi  \n",
       "7968  saraalikhan vikrantmassey chitrangdasingh rahu...    Hindi  \n",
       "7967  ajaydevgn tabu deepakdobriyal amalapaul sanjay...    Hindi  \n",
       "7966  kunalkhemu shwetatripathi piyushmishra alkaami...    Hindi  \n",
       "...                                                 ...      ...  \n",
       "317   mnightshyamalan mikemuthu richaahujabadami sus...  English  \n",
       "316   morganfreeman stephendorff simonfenton guywitc...  English  \n",
       "315   drewbarrymore saragilbert tomskerritt cherylla...  English  \n",
       "314   timrobbins gretascacchi fredward whoopigoldber...  English  \n",
       "194   gérarddepardieu armandassante sigourneyweaver ...  English  \n",
       "\n",
       "[9326 rows x 16 columns]"
      ]
     },
     "execution_count": 113,
     "metadata": {},
     "output_type": "execute_result"
    }
   ],
   "source": [
    "movies_data[movies_data['release_year'] > 1991].sort_values(by=['release_year'], ascending=False)"
   ]
  }
 ],
 "metadata": {
  "kernelspec": {
   "display_name": "Python 3 (ipykernel)",
   "language": "python",
   "name": "python3"
  },
  "language_info": {
   "codemirror_mode": {
    "name": "ipython",
    "version": 3
   },
   "file_extension": ".py",
   "mimetype": "text/x-python",
   "name": "python",
   "nbconvert_exporter": "python",
   "pygments_lexer": "ipython3",
   "version": "3.9.16"
  },
  "toc-autonumbering": false,
  "toc-showmarkdowntxt": true
 },
 "nbformat": 4,
 "nbformat_minor": 5
}
