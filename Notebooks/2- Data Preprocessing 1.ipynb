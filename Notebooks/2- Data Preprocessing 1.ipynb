{
 "cells": [
  {
   "cell_type": "markdown",
   "id": "bdf6725b-fcb8-4e3f-82b0-ed1fc956a1c5",
   "metadata": {},
   "source": [
    "importing required packages"
   ]
  },
  {
   "cell_type": "code",
   "execution_count": 2,
   "id": "c8c2ce7e-2ae8-4c06-8e5a-d06734c03330",
   "metadata": {},
   "outputs": [],
   "source": [
    "import pandas as pd\n",
    "import numpy as np\n",
    "import time\n",
    "import os\n",
    "import pickle\n",
    "from imdb import Cinemagoer\n",
    "from sklearn.feature_extraction.text import TfidfVectorizer\n",
    "from sklearn.compose import ColumnTransformer\n",
    "from sklearn.metrics.pairwise import cosine_similarity"
   ]
  },
  {
   "cell_type": "code",
   "execution_count": 70,
   "id": "e051cca7-eadd-4a2c-9caa-7e355765bd22",
   "metadata": {},
   "outputs": [],
   "source": [
    "movies_df1 = pd.read_csv(r\"C:\\Users\\P PAVAN REDDY\\Documents\\My Files\\Projects\\Movie Recommendation system\\Data\\movies_df1.csv\")\n",
    "movies_df2 = pd.read_csv(r\"C:\\Users\\P PAVAN REDDY\\Documents\\My Files\\Projects\\Movie Recommendation system\\Data\\movies_df2.csv\")"
   ]
  },
  {
   "cell_type": "code",
   "execution_count": 71,
   "id": "3ed3bc84-a6a5-4ffa-9d48-88f91456a968",
   "metadata": {},
   "outputs": [
    {
     "name": "stdout",
     "output_type": "stream",
     "text": [
      "<class 'pandas.core.frame.DataFrame'>\n",
      "RangeIndex: 3631 entries, 0 to 3630\n",
      "Data columns (total 9 columns):\n",
      " #   Column                Non-Null Count  Dtype \n",
      "---  ------                --------------  ----- \n",
      " 0   Title                 3631 non-null   object\n",
      " 1   release_year          3631 non-null   int64 \n",
      " 2   imdb_id               3631 non-null   object\n",
      " 3   poster                3631 non-null   object\n",
      " 4   tmdb_id               3631 non-null   int64 \n",
      " 5   cast                  3631 non-null   object\n",
      " 6   director              3631 non-null   object\n",
      " 7   genres                3631 non-null   object\n",
      " 8   production_companies  3631 non-null   object\n",
      "dtypes: int64(2), object(7)\n",
      "memory usage: 255.4+ KB\n"
     ]
    }
   ],
   "source": [
    "movies_df1.info()#.head()"
   ]
  },
  {
   "cell_type": "code",
   "execution_count": 72,
   "id": "fde1bf76-1c4d-4b07-80c9-cfe7a842eca4",
   "metadata": {},
   "outputs": [
    {
     "name": "stdout",
     "output_type": "stream",
     "text": [
      "<class 'pandas.core.frame.DataFrame'>\n",
      "RangeIndex: 2515 entries, 0 to 2514\n",
      "Data columns (total 9 columns):\n",
      " #   Column                Non-Null Count  Dtype \n",
      "---  ------                --------------  ----- \n",
      " 0   Title                 2515 non-null   object\n",
      " 1   release_year          2515 non-null   int64 \n",
      " 2   imdb_id               2515 non-null   object\n",
      " 3   poster                2515 non-null   object\n",
      " 4   tmdb_id               2515 non-null   int64 \n",
      " 5   cast                  2515 non-null   object\n",
      " 6   director              2515 non-null   object\n",
      " 7   genres                2515 non-null   object\n",
      " 8   production_companies  2515 non-null   object\n",
      "dtypes: int64(2), object(7)\n",
      "memory usage: 177.0+ KB\n"
     ]
    }
   ],
   "source": [
    "movies_df2.info()"
   ]
  },
  {
   "cell_type": "code",
   "execution_count": 73,
   "id": "26c02ba1-756f-4419-b0bd-fdec38d317b9",
   "metadata": {},
   "outputs": [],
   "source": [
    "#let's concat these two dataframes\n",
    "movies = pd.concat([movies_df1, movies_df2], ignore_index=True)"
   ]
  },
  {
   "cell_type": "code",
   "execution_count": 74,
   "id": "78f2fdc4-8df7-4c76-8430-aafab9b0e2dd",
   "metadata": {},
   "outputs": [
    {
     "name": "stdout",
     "output_type": "stream",
     "text": [
      "<class 'pandas.core.frame.DataFrame'>\n",
      "RangeIndex: 6146 entries, 0 to 6145\n",
      "Data columns (total 9 columns):\n",
      " #   Column                Non-Null Count  Dtype \n",
      "---  ------                --------------  ----- \n",
      " 0   Title                 6146 non-null   object\n",
      " 1   release_year          6146 non-null   int64 \n",
      " 2   imdb_id               6146 non-null   object\n",
      " 3   poster                6146 non-null   object\n",
      " 4   tmdb_id               6146 non-null   int64 \n",
      " 5   cast                  6146 non-null   object\n",
      " 6   director              6146 non-null   object\n",
      " 7   genres                6146 non-null   object\n",
      " 8   production_companies  6146 non-null   object\n",
      "dtypes: int64(2), object(7)\n",
      "memory usage: 432.3+ KB\n"
     ]
    }
   ],
   "source": [
    "movies.info()"
   ]
  },
  {
   "cell_type": "code",
   "execution_count": 79,
   "id": "371c8aea-06f7-4f55-87e8-9fee981a3ce9",
   "metadata": {},
   "outputs": [],
   "source": [
    "#making columns names into lower case\n",
    "movies.columns = list(map(str.lower, movies.columns))"
   ]
  },
  {
   "cell_type": "code",
   "execution_count": 81,
   "id": "201793b4",
   "metadata": {},
   "outputs": [
    {
     "data": {
      "text/html": [
       "<div>\n",
       "<style scoped>\n",
       "    .dataframe tbody tr th:only-of-type {\n",
       "        vertical-align: middle;\n",
       "    }\n",
       "\n",
       "    .dataframe tbody tr th {\n",
       "        vertical-align: top;\n",
       "    }\n",
       "\n",
       "    .dataframe thead th {\n",
       "        text-align: right;\n",
       "    }\n",
       "</style>\n",
       "<table border=\"1\" class=\"dataframe\">\n",
       "  <thead>\n",
       "    <tr style=\"text-align: right;\">\n",
       "      <th></th>\n",
       "      <th>title</th>\n",
       "      <th>release_year</th>\n",
       "      <th>imdb_id</th>\n",
       "      <th>poster</th>\n",
       "      <th>tmdb_id</th>\n",
       "      <th>cast</th>\n",
       "      <th>director</th>\n",
       "      <th>genres</th>\n",
       "      <th>production_companies</th>\n",
       "    </tr>\n",
       "  </thead>\n",
       "  <tbody>\n",
       "    <tr>\n",
       "      <th>0</th>\n",
       "      <td>29th Street</td>\n",
       "      <td>1991</td>\n",
       "      <td>tt0101252</td>\n",
       "      <td>https://m.media-amazon.com/images/M/MV5BMWY2MT...</td>\n",
       "      <td>43267</td>\n",
       "      <td>['Anthony LaPaglia', 'Danny Aiello', 'Lainie K...</td>\n",
       "      <td>George Gallo</td>\n",
       "      <td>['Comedy']</td>\n",
       "      <td>['20th Century Fox']</td>\n",
       "    </tr>\n",
       "    <tr>\n",
       "      <th>1</th>\n",
       "      <td>The Addams Family</td>\n",
       "      <td>1991</td>\n",
       "      <td>tt0101272</td>\n",
       "      <td>https://m.media-amazon.com/images/M/MV5BODc1Nm...</td>\n",
       "      <td>2907</td>\n",
       "      <td>['Raúl Juliá', 'Anjelica Huston', 'Christopher...</td>\n",
       "      <td>Barry Sonnenfeld</td>\n",
       "      <td>['Comedy', 'Fantasy']</td>\n",
       "      <td>['Scott Rudin Productions', 'Orion Pictures', ...</td>\n",
       "    </tr>\n",
       "    <tr>\n",
       "      <th>2</th>\n",
       "      <td>All I Want for Christmas</td>\n",
       "      <td>1991</td>\n",
       "      <td>tt0101301</td>\n",
       "      <td>https://m.media-amazon.com/images/M/MV5BMTk3Mj...</td>\n",
       "      <td>13644</td>\n",
       "      <td>['Harley Jane Kozak', 'Jamey Sheridan', 'Thora...</td>\n",
       "      <td>Rob Lieberman</td>\n",
       "      <td>['Family', 'Drama', 'Comedy']</td>\n",
       "      <td>['Paramount']</td>\n",
       "    </tr>\n",
       "    <tr>\n",
       "      <th>3</th>\n",
       "      <td>American Kickboxer</td>\n",
       "      <td>1991</td>\n",
       "      <td>tt0101325</td>\n",
       "      <td>https://m.media-amazon.com/images/M/MV5BM2E2Nm...</td>\n",
       "      <td>110830</td>\n",
       "      <td>['John Barrett', 'Keith Vitali', 'Terry Norton...</td>\n",
       "      <td>Frans Nel</td>\n",
       "      <td>['Action']</td>\n",
       "      <td>['Global Pictures', 'Distant Horizon', 'Cannon...</td>\n",
       "    </tr>\n",
       "    <tr>\n",
       "      <th>4</th>\n",
       "      <td>An American Tail: Fievel Goes West</td>\n",
       "      <td>1991</td>\n",
       "      <td>tt0101329</td>\n",
       "      <td>https://m.media-amazon.com/images/M/MV5BZmUyOT...</td>\n",
       "      <td>10380</td>\n",
       "      <td>['Phillip Glasser', 'James Stewart', 'Erica Yo...</td>\n",
       "      <td>Simon Wells</td>\n",
       "      <td>['Adventure', 'Animation', 'Family', 'Western']</td>\n",
       "      <td>['Amblin Entertainment', 'Universal Pictures',...</td>\n",
       "    </tr>\n",
       "    <tr>\n",
       "      <th>...</th>\n",
       "      <td>...</td>\n",
       "      <td>...</td>\n",
       "      <td>...</td>\n",
       "      <td>...</td>\n",
       "      <td>...</td>\n",
       "      <td>...</td>\n",
       "      <td>...</td>\n",
       "      <td>...</td>\n",
       "      <td>...</td>\n",
       "    </tr>\n",
       "    <tr>\n",
       "      <th>6147</th>\n",
       "      <td>Iron Man 3</td>\n",
       "      <td>2013</td>\n",
       "      <td>tt1300854</td>\n",
       "      <td>https://m.media-amazon.com/images/M/MV5BMjE5Mz...</td>\n",
       "      <td>68721</td>\n",
       "      <td>['Robert Downey Jr.', 'Gwyneth Paltrow', 'Don ...</td>\n",
       "      <td>Shane Black</td>\n",
       "      <td>['Action', 'Adventure', 'Science Fiction']</td>\n",
       "      <td>['Marvel Studios']</td>\n",
       "    </tr>\n",
       "    <tr>\n",
       "      <th>6148</th>\n",
       "      <td>Avatar: The Way of Water</td>\n",
       "      <td>2022</td>\n",
       "      <td>tt1630029</td>\n",
       "      <td>https://m.media-amazon.com/images/M/MV5BYjhiNj...</td>\n",
       "      <td>76600</td>\n",
       "      <td>['Sam Worthington', 'Zoe Saldaña', 'Sigourney ...</td>\n",
       "      <td>James Cameron</td>\n",
       "      <td>['Science Fiction', 'Adventure', 'Action']</td>\n",
       "      <td>['20th Century Studios', 'Lightstorm Entertain...</td>\n",
       "    </tr>\n",
       "    <tr>\n",
       "      <th>6149</th>\n",
       "      <td>Star Wars: The Force Awakens</td>\n",
       "      <td>2015</td>\n",
       "      <td>tt2488496</td>\n",
       "      <td>https://m.media-amazon.com/images/M/MV5BOTAzOD...</td>\n",
       "      <td>140607</td>\n",
       "      <td>['Harrison Ford', 'Mark Hamill', 'Carrie Fishe...</td>\n",
       "      <td>J.J. Abrams</td>\n",
       "      <td>['Adventure', 'Action', 'Science Fiction']</td>\n",
       "      <td>['Lucasfilm Ltd.', 'Bad Robot']</td>\n",
       "    </tr>\n",
       "    <tr>\n",
       "      <th>6150</th>\n",
       "      <td>Star Wars: The Last Jedi</td>\n",
       "      <td>2017</td>\n",
       "      <td>tt2527336</td>\n",
       "      <td>https://m.media-amazon.com/images/M/MV5BMjQ1Mz...</td>\n",
       "      <td>181808</td>\n",
       "      <td>['Mark Hamill', 'Carrie Fisher', 'Adam Driver'...</td>\n",
       "      <td>Rian Johnson</td>\n",
       "      <td>['Adventure', 'Action', 'Science Fiction']</td>\n",
       "      <td>['Lucasfilm Ltd.']</td>\n",
       "    </tr>\n",
       "    <tr>\n",
       "      <th>6151</th>\n",
       "      <td>Furious 7</td>\n",
       "      <td>2015</td>\n",
       "      <td>tt2820852</td>\n",
       "      <td>https://m.media-amazon.com/images/M/MV5BMTQxOT...</td>\n",
       "      <td>168259</td>\n",
       "      <td>['Vin Diesel', 'Paul Walker', 'Jason Statham',...</td>\n",
       "      <td>James Wan</td>\n",
       "      <td>['Action', 'Thriller', 'Crime']</td>\n",
       "      <td>['Original Film', 'One Race', 'Universal Pictu...</td>\n",
       "    </tr>\n",
       "  </tbody>\n",
       "</table>\n",
       "<p>6152 rows × 9 columns</p>\n",
       "</div>"
      ],
      "text/plain": [
       "                                   title  release_year    imdb_id  \\\n",
       "0                            29th Street          1991  tt0101252   \n",
       "1                      The Addams Family          1991  tt0101272   \n",
       "2               All I Want for Christmas          1991  tt0101301   \n",
       "3                     American Kickboxer          1991  tt0101325   \n",
       "4     An American Tail: Fievel Goes West          1991  tt0101329   \n",
       "...                                  ...           ...        ...   \n",
       "6147                          Iron Man 3          2013  tt1300854   \n",
       "6148            Avatar: The Way of Water          2022  tt1630029   \n",
       "6149        Star Wars: The Force Awakens          2015  tt2488496   \n",
       "6150            Star Wars: The Last Jedi          2017  tt2527336   \n",
       "6151                           Furious 7          2015  tt2820852   \n",
       "\n",
       "                                                 poster  tmdb_id  \\\n",
       "0     https://m.media-amazon.com/images/M/MV5BMWY2MT...    43267   \n",
       "1     https://m.media-amazon.com/images/M/MV5BODc1Nm...     2907   \n",
       "2     https://m.media-amazon.com/images/M/MV5BMTk3Mj...    13644   \n",
       "3     https://m.media-amazon.com/images/M/MV5BM2E2Nm...   110830   \n",
       "4     https://m.media-amazon.com/images/M/MV5BZmUyOT...    10380   \n",
       "...                                                 ...      ...   \n",
       "6147  https://m.media-amazon.com/images/M/MV5BMjE5Mz...    68721   \n",
       "6148  https://m.media-amazon.com/images/M/MV5BYjhiNj...    76600   \n",
       "6149  https://m.media-amazon.com/images/M/MV5BOTAzOD...   140607   \n",
       "6150  https://m.media-amazon.com/images/M/MV5BMjQ1Mz...   181808   \n",
       "6151  https://m.media-amazon.com/images/M/MV5BMTQxOT...   168259   \n",
       "\n",
       "                                                   cast          director  \\\n",
       "0     ['Anthony LaPaglia', 'Danny Aiello', 'Lainie K...      George Gallo   \n",
       "1     ['Raúl Juliá', 'Anjelica Huston', 'Christopher...  Barry Sonnenfeld   \n",
       "2     ['Harley Jane Kozak', 'Jamey Sheridan', 'Thora...     Rob Lieberman   \n",
       "3     ['John Barrett', 'Keith Vitali', 'Terry Norton...         Frans Nel   \n",
       "4     ['Phillip Glasser', 'James Stewart', 'Erica Yo...       Simon Wells   \n",
       "...                                                 ...               ...   \n",
       "6147  ['Robert Downey Jr.', 'Gwyneth Paltrow', 'Don ...       Shane Black   \n",
       "6148  ['Sam Worthington', 'Zoe Saldaña', 'Sigourney ...     James Cameron   \n",
       "6149  ['Harrison Ford', 'Mark Hamill', 'Carrie Fishe...       J.J. Abrams   \n",
       "6150  ['Mark Hamill', 'Carrie Fisher', 'Adam Driver'...      Rian Johnson   \n",
       "6151  ['Vin Diesel', 'Paul Walker', 'Jason Statham',...         James Wan   \n",
       "\n",
       "                                               genres  \\\n",
       "0                                          ['Comedy']   \n",
       "1                               ['Comedy', 'Fantasy']   \n",
       "2                       ['Family', 'Drama', 'Comedy']   \n",
       "3                                          ['Action']   \n",
       "4     ['Adventure', 'Animation', 'Family', 'Western']   \n",
       "...                                               ...   \n",
       "6147       ['Action', 'Adventure', 'Science Fiction']   \n",
       "6148       ['Science Fiction', 'Adventure', 'Action']   \n",
       "6149       ['Adventure', 'Action', 'Science Fiction']   \n",
       "6150       ['Adventure', 'Action', 'Science Fiction']   \n",
       "6151                  ['Action', 'Thriller', 'Crime']   \n",
       "\n",
       "                                   production_companies  \n",
       "0                                  ['20th Century Fox']  \n",
       "1     ['Scott Rudin Productions', 'Orion Pictures', ...  \n",
       "2                                         ['Paramount']  \n",
       "3     ['Global Pictures', 'Distant Horizon', 'Cannon...  \n",
       "4     ['Amblin Entertainment', 'Universal Pictures',...  \n",
       "...                                                 ...  \n",
       "6147                                 ['Marvel Studios']  \n",
       "6148  ['20th Century Studios', 'Lightstorm Entertain...  \n",
       "6149                    ['Lucasfilm Ltd.', 'Bad Robot']  \n",
       "6150                                 ['Lucasfilm Ltd.']  \n",
       "6151  ['Original Film', 'One Race', 'Universal Pictu...  \n",
       "\n",
       "[6152 rows x 9 columns]"
      ]
     },
     "execution_count": 81,
     "metadata": {},
     "output_type": "execute_result"
    }
   ],
   "source": [
    "movies"
   ]
  },
  {
   "cell_type": "code",
   "execution_count": 82,
   "id": "8220f46e-f7de-4e43-89d0-0a7f6bd36f34",
   "metadata": {
    "tags": []
   },
   "outputs": [
    {
     "name": "stdout",
     "output_type": "stream",
     "text": [
      "title-> \n",
      " Payback                         3\n",
      "No Escape                       2\n",
      "Hope Springs                    2\n",
      "The Kid                         2\n",
      "Venom                           2\n",
      "                               ..\n",
      "Passion of Mind                 1\n",
      "Panic                           1\n",
      "Our Song                        1\n",
      "The Original Kings of Comedy    1\n",
      "Furious 7                       1\n",
      "Name: title, Length: 6060, dtype: int64 \n",
      "\n",
      "release_year-> \n",
      " 2021    278\n",
      "1996    259\n",
      "1997    259\n",
      "2009    237\n",
      "1995    228\n",
      "2020    222\n",
      "1998    214\n",
      "2019    207\n",
      "2001    207\n",
      "1999    204\n",
      "2018    199\n",
      "2022    197\n",
      "1994    197\n",
      "2014    196\n",
      "2000    195\n",
      "1993    195\n",
      "2010    195\n",
      "1991    194\n",
      "2008    193\n",
      "2003    193\n",
      "2013    188\n",
      "2007    187\n",
      "1992    186\n",
      "2017    186\n",
      "2012    185\n",
      "2011    165\n",
      "2006    164\n",
      "2004    161\n",
      "2016    156\n",
      "2005    148\n",
      "2015    147\n",
      "2002     10\n",
      "Name: release_year, dtype: int64 \n",
      "\n",
      "imdb_id-> \n",
      " tt0962736     2\n",
      "tt3155342     2\n",
      "tt10832274    2\n",
      "tt0101252     1\n",
      "tt0431021     1\n",
      "             ..\n",
      "tt0195945     1\n",
      "tt0156841     1\n",
      "tt0216930     1\n",
      "tt0156812     1\n",
      "tt2820852     1\n",
      "Name: imdb_id, Length: 6149, dtype: int64 \n",
      "\n",
      "poster-> \n",
      " poster not available                                                                                                             3\n",
      "https://m.media-amazon.com/images/M/MV5BMTM4MjExMDk3NV5BMl5BanBnXkFtZTcwMTU3OTMwMw@@._V1_.jpg                                    2\n",
      "https://m.media-amazon.com/images/M/MV5BZTM4OGY1NDctM2ZiMy00NWZhLThjODktODY1YTczOTdhYzgzXkEyXkFqcGdeQXVyNjEwNTM2Mzc@._V1_.jpg    2\n",
      "https://m.media-amazon.com/images/M/MV5BYTM4YmI5NzItNjViZS00MmE2LWE3ZWUtMTI0ZTg4ZWM2NWU4XkEyXkFqcGdeQXVyMTA2MDU0NjM5._V1_.jpg    2\n",
      "https://m.media-amazon.com/images/M/MV5BMWY2MTY1NWUtN2E1NC00MTg2LWFkOWQtNmE0ODJlMDZhYzUyXkEyXkFqcGdeQXVyNjMwMjk0MTQ@._V1_.jpg    1\n",
      "                                                                                                                                ..\n",
      "https://m.media-amazon.com/images/M/MV5BZTg4NTkzMDEtM2MzOS00MDE1LWJmYWItYzdiMGRiNTdmZmFkXkEyXkFqcGdeQXVyNjUwNzk3NDc@._V1_.jpg    1\n",
      "https://m.media-amazon.com/images/M/MV5BY2VhNzI1ZTYtZGEyYy00Y2QzLTliYzYtMGM0ZTc1OGUzYTRkXkEyXkFqcGdeQXVyMTMxMTY0OTQ@._V1_.jpg    1\n",
      "https://m.media-amazon.com/images/M/MV5BMTQ3NDgyNjE1MF5BMl5BanBnXkFtZTcwOTMwOTUxMQ@@._V1_.jpg                                    1\n",
      "https://m.media-amazon.com/images/M/MV5BMTc1NDgxMjg5MV5BMl5BanBnXkFtZTYwNTUxODc5._V1_.jpg                                        1\n",
      "https://m.media-amazon.com/images/M/MV5BMTQxOTA2NDUzOV5BMl5BanBnXkFtZTgwNzY2MTMxMzE@._V1_.jpg                                    1\n",
      "Name: poster, Length: 6147, dtype: int64 \n",
      "\n",
      "tmdb_id-> \n",
      " 18320     2\n",
      "615466    2\n",
      "794602    2\n",
      "43267     1\n",
      "77883     1\n",
      "         ..\n",
      "10471     1\n",
      "1831      1\n",
      "38132     1\n",
      "17908     1\n",
      "168259    1\n",
      "Name: tmdb_id, Length: 6149, dtype: int64 \n",
      "\n",
      "cast-> \n",
      " unknown                                                                                                             24\n",
      "['Josephine Langford', 'Hero Fiennes Tiffin', 'Louise Lombard', 'Chance Perdomo', 'Rob Estes', 'Arielle Kebbel']     2\n",
      "['Udo Kier', 'Jennifer Coolidge', 'Linda Evans', 'Michael Urie', 'Roshon Thomas', 'Ira Hawkins']                     2\n",
      "['Robert Downey Jr.', 'Chris Evans', 'Mark Ruffalo', 'Chris Hemsworth', 'Scarlett Johansson', 'Jeremy Renner']       2\n",
      "['Emily Blunt', 'Rupert Friend', 'Paul Bettany', 'Miranda Richardson', 'Jim Broadbent', 'Thomas Kretschmann']        2\n",
      "                                                                                                                    ..\n",
      "['Gary Sinise', 'Tim Robbins', 'Don Cheadle', 'Connie Nielsen', \"Jerry O'Connell\", 'Peter Outerbridge']              1\n",
      "['Sandra Bullock', 'Benjamin Bratt', 'Michael Caine', 'Candice Bergen', 'William Shatner', 'Ernie Hudson']           1\n",
      "['Mel Gibson', 'Milla Jovovich', 'Jeremy Davies', 'Amanda Plummer', 'Peter Stormare', 'Bud Cort']                    1\n",
      "['Eric Roberts', 'David A.R. White', 'Cynthia Watros', 'Lawrence Taylor', 'Stacy Keach', 'Brad Heller']              1\n",
      "['Vin Diesel', 'Paul Walker', 'Jason Statham', 'Michelle Rodriguez', 'Jordana Brewster', 'Tyrese Gibson']            1\n",
      "Name: cast, Length: 6120, dtype: int64 \n",
      "\n",
      "director-> \n",
      " Steven Soderbergh     26\n",
      "Woody Allen           23\n",
      "Clint Eastwood        23\n",
      "Ridley Scott          21\n",
      "Steven Spielberg      19\n",
      "                      ..\n",
      "S.R. Bindler           1\n",
      "Deb Hagan              1\n",
      "Jeffrey Nachmanoff     1\n",
      "Tia Lessin             1\n",
      "Oktober Layne          1\n",
      "Name: director, Length: 2928, dtype: int64 \n",
      "\n",
      "genres-> \n",
      " ['Drama']                                           426\n",
      "['Comedy']                                          354\n",
      "['Drama', 'Romance']                                221\n",
      "['Comedy', 'Romance']                               218\n",
      "['Comedy', 'Drama']                                 212\n",
      "                                                   ... \n",
      "['Drama', 'Comedy', 'Romance', 'Fantasy']             1\n",
      "['Romance', 'Fantasy', 'Animation']                   1\n",
      "['Comedy', 'Crime', 'Drama', 'Thriller']              1\n",
      "['Comedy', 'Drama', 'Crime', 'Romance', 'Music']      1\n",
      "['Comedy', 'Crime', 'Thriller', 'Mystery']            1\n",
      "Name: genres, Length: 1381, dtype: int64 \n",
      "\n",
      "production_companies-> \n",
      " []                                                                                                                                                 241\n",
      "['Paramount']                                                                                                                                       51\n",
      "['New Line Cinema']                                                                                                                                 41\n",
      "['Touchstone Pictures']                                                                                                                             33\n",
      "['Columbia Pictures']                                                                                                                               32\n",
      "                                                                                                                                                  ... \n",
      "['Mikona Productions GmbH & Co. KG', 'Universal Pictures', 'Intermedia Films', 'Saturn Films', 'Dirty Hands Productions']                            1\n",
      "['Type A Films', 'Marc Platt Productions', 'Metro-Goldwyn-Mayer']                                                                                    1\n",
      "['JD Productions', 'International Production Company', 'Angry Films', 'Mediastream Dritte Film GmbH & Co. Beteiligungs KG', '20th Century Fox']      1\n",
      "['Warner Bros. Pictures', 'Bedford Falls Productions', 'Radar Pictures', 'Cruise/Wagner Productions']                                                1\n",
      "['Lucasfilm Ltd.', 'Bad Robot']                                                                                                                      1\n",
      "Name: production_companies, Length: 5077, dtype: int64 \n",
      "\n"
     ]
    }
   ],
   "source": [
    "for feature in movies.columns:\n",
    "    print(\"{}-> \\n\".format(feature), movies[feature].value_counts(), \"\\n\")"
   ]
  },
  {
   "cell_type": "code",
   "execution_count": 46,
   "id": "068171ee-44d0-4d5c-b3ca-7b2490680584",
   "metadata": {},
   "outputs": [
    {
     "data": {
      "text/plain": [
       "24"
      ]
     },
     "execution_count": 46,
     "metadata": {},
     "output_type": "execute_result"
    }
   ],
   "source": [
    "#df[df['results'].map(len)\n",
    "sum(movies['cast'] == 'unknown')"
   ]
  },
  {
   "cell_type": "code",
   "execution_count": 47,
   "id": "57e35b7f-2928-4588-b286-a9270d5cfc2e",
   "metadata": {},
   "outputs": [
    {
     "data": {
      "text/plain": [
       "3"
      ]
     },
     "execution_count": 47,
     "metadata": {},
     "output_type": "execute_result"
    }
   ],
   "source": [
    "sum(movies['director'] == 'unknown')"
   ]
  },
  {
   "cell_type": "code",
   "execution_count": 48,
   "id": "b4eb649a-d056-41d5-8cae-767c1b63fe39",
   "metadata": {},
   "outputs": [
    {
     "data": {
      "text/plain": [
       "26"
      ]
     },
     "execution_count": 48,
     "metadata": {},
     "output_type": "execute_result"
    }
   ],
   "source": [
    "sum(movies['genres'] == 'unknown')"
   ]
  },
  {
   "cell_type": "code",
   "execution_count": 49,
   "id": "f54337ad-02b7-4275-b097-c4821f65f6fd",
   "metadata": {},
   "outputs": [
    {
     "data": {
      "text/plain": [
       "19"
      ]
     },
     "execution_count": 49,
     "metadata": {},
     "output_type": "execute_result"
    }
   ],
   "source": [
    "sum(movies['genres']=='[]')   #19 '[]'"
   ]
  },
  {
   "cell_type": "markdown",
   "id": "79b553ef-2070-475f-9e90-5999ac685418",
   "metadata": {},
   "source": [
    "<b>Issues in data\n",
    "* 'cast' -> where ever cast is missing we have 'unknown' string init\n",
    "* 'director' -> where ever director is missing we have 'unknown' string init\n",
    "* 'genres' -> where ever genres is missing we have empty list '[]' init or have string 'unknown'      \n",
    "* the datahave duplicate rows                                         \n",
    "* we need to remove all special characters in columns \n",
    "* 'production_company' -> has so many '[]' init where it is missing   \n",
    "* remove white spaces in between words of single name like 'Tony Stark' -> 'TonyStark'"
   ]
  },
  {
   "cell_type": "markdown",
   "id": "30aedfb4-acb4-4a55-8fde-1790ae8a6622",
   "metadata": {},
   "source": [
    "* Let's not drop the rows with missing value ('[]'), instead let's replace it with 'unknown'\n",
    "* and collect the missing data using imdb api"
   ]
  },
  {
   "cell_type": "code",
   "execution_count": 50,
   "id": "181d154c-3274-4383-a3c6-cf456eb9a851",
   "metadata": {},
   "outputs": [],
   "source": [
    "movies_copy = movies.copy()"
   ]
  },
  {
   "cell_type": "markdown",
   "id": "67f18ef3-dc48-466b-b765-10aa5966b3e6",
   "metadata": {},
   "source": [
    "genres"
   ]
  },
  {
   "cell_type": "code",
   "execution_count": 51,
   "id": "16acf139-b16f-4790-aa4d-2a58c29e0a9e",
   "metadata": {},
   "outputs": [
    {
     "data": {
      "text/plain": [
       "19"
      ]
     },
     "execution_count": 51,
     "metadata": {},
     "output_type": "execute_result"
    }
   ],
   "source": [
    "sum(movies_copy['genres']=='[]')   #19 '[]'"
   ]
  },
  {
   "cell_type": "code",
   "execution_count": 52,
   "id": "825271a6-8575-4e40-8bd8-5d5c345c20fb",
   "metadata": {},
   "outputs": [],
   "source": [
    "movies_copy['genres'].replace('[]', 'unknown', inplace=True)"
   ]
  },
  {
   "cell_type": "code",
   "execution_count": 53,
   "id": "fd7947d3-a363-4f64-8cd1-78c9e3b421f6",
   "metadata": {},
   "outputs": [
    {
     "data": {
      "text/plain": [
       "0"
      ]
     },
     "execution_count": 53,
     "metadata": {},
     "output_type": "execute_result"
    }
   ],
   "source": [
    "sum(movies_copy['genres']=='[]') #0"
   ]
  },
  {
   "cell_type": "markdown",
   "id": "9180d813-c5f1-4e8d-9bca-566c4a92c433",
   "metadata": {},
   "source": [
    "duplicate columns"
   ]
  },
  {
   "cell_type": "code",
   "execution_count": 54,
   "id": "9ab7c9cc-1a42-45d3-a3c2-92ff6c033f0d",
   "metadata": {},
   "outputs": [
    {
     "data": {
      "text/plain": [
       "3"
      ]
     },
     "execution_count": 54,
     "metadata": {},
     "output_type": "execute_result"
    }
   ],
   "source": [
    "#As we know id is the unique we can use it as reference\n",
    "sum(movies_copy['tmdb_id'].duplicated())"
   ]
  },
  {
   "cell_type": "code",
   "execution_count": 55,
   "id": "f56a0915-2027-4311-beba-a15ea167622e",
   "metadata": {},
   "outputs": [],
   "source": [
    "#dropping columns with duplicate ids\n",
    "ids_dup_index = movies_copy[movies_copy['tmdb_id'].duplicated()].index\n",
    "movies_copy.drop(ids_dup_index, inplace=True)\n",
    "\n",
    "movies_copy.reset_index( drop=True, inplace=True)"
   ]
  },
  {
   "cell_type": "code",
   "execution_count": 56,
   "id": "087c317d-56a9-4ab3-8399-422b61d5a676",
   "metadata": {},
   "outputs": [
    {
     "data": {
      "text/plain": [
       "0"
      ]
     },
     "execution_count": 56,
     "metadata": {},
     "output_type": "execute_result"
    }
   ],
   "source": [
    "sum(movies_copy['tmdb_id'].duplicated())  #we have dropped duplicated values"
   ]
  },
  {
   "cell_type": "code",
   "execution_count": 57,
   "id": "c6bd0b5b-82f4-4141-9026-a777d9a18379",
   "metadata": {},
   "outputs": [
    {
     "data": {
      "text/plain": [
       "0"
      ]
     },
     "execution_count": 57,
     "metadata": {},
     "output_type": "execute_result"
    }
   ],
   "source": [
    "sum(movies_copy['tmdb_id'].value_counts() > 1) "
   ]
  },
  {
   "cell_type": "markdown",
   "id": "f10cf77a-dba1-4c7f-abec-07217cbf8721",
   "metadata": {},
   "source": [
    "* But there may be diffrerent movies with same names, released in different years "
   ]
  },
  {
   "cell_type": "code",
   "execution_count": 58,
   "id": "83b3ec97-29e5-4db6-9d87-6e1237cf0fb2",
   "metadata": {},
   "outputs": [],
   "source": [
    "#movies_copy['release_year'] = movies_copy['release_year'].apply(lambda x : str(x)[:-2]  if (len(str(x))>4) else x)"
   ]
  },
  {
   "cell_type": "markdown",
   "id": "d4931841-322b-465f-94c7-14e8762d020f",
   "metadata": {},
   "source": [
    "production_companies"
   ]
  },
  {
   "cell_type": "code",
   "execution_count": 59,
   "id": "ceea7aad-e6fe-4814-af26-9b4224a207ba",
   "metadata": {},
   "outputs": [
    {
     "data": {
      "text/plain": [
       "'[]'"
      ]
     },
     "execution_count": 59,
     "metadata": {},
     "output_type": "execute_result"
    }
   ],
   "source": [
    "movies_copy['production_companies'].value_counts().index[0] #most frequent value"
   ]
  },
  {
   "cell_type": "code",
   "execution_count": 60,
   "id": "57047483-d797-40c7-b911-28c0ad67d445",
   "metadata": {},
   "outputs": [
    {
     "data": {
      "text/plain": [
       "241"
      ]
     },
     "execution_count": 60,
     "metadata": {},
     "output_type": "execute_result"
    }
   ],
   "source": [
    "movies_copy['production_companies'].value_counts()[0]   #we can see we have [] in 425 rows"
   ]
  },
  {
   "cell_type": "code",
   "execution_count": 61,
   "id": "735a1830-8af5-4bb8-9ba5-e256a8efa9a0",
   "metadata": {},
   "outputs": [],
   "source": [
    "#replacing '[]' with 'unknown'\n",
    "movies_copy['production_companies'].replace('[]', 'unknown', inplace=True)"
   ]
  },
  {
   "cell_type": "code",
   "execution_count": 62,
   "id": "bb29e2a7-ac8d-42fd-8652-284584d565cb",
   "metadata": {},
   "outputs": [
    {
     "data": {
      "text/plain": [
       "0"
      ]
     },
     "execution_count": 62,
     "metadata": {},
     "output_type": "execute_result"
    }
   ],
   "source": [
    "sum(movies_copy['production_companies'] == '[]')"
   ]
  },
  {
   "cell_type": "code",
   "execution_count": 63,
   "id": "6b1391b7-76ee-4b06-8d0f-b25dfa3ac11b",
   "metadata": {},
   "outputs": [
    {
     "data": {
      "text/plain": [
       "'unknown'"
      ]
     },
     "execution_count": 63,
     "metadata": {},
     "output_type": "execute_result"
    }
   ],
   "source": [
    "movies_copy['production_companies'].value_counts().index[0] #most frequent value"
   ]
  },
  {
   "cell_type": "markdown",
   "id": "64892490-cf93-463b-b0ba-e0d5d65b10dd",
   "metadata": {
    "tags": []
   },
   "source": [
    "# let's collect missing data using imdb api library"
   ]
  },
  {
   "cell_type": "code",
   "execution_count": 64,
   "id": "67b7f887-9f77-43a1-91e7-80688d1bea5e",
   "metadata": {},
   "outputs": [
    {
     "data": {
      "text/plain": [
       "24"
      ]
     },
     "execution_count": 64,
     "metadata": {},
     "output_type": "execute_result"
    }
   ],
   "source": [
    "cast_unknown = movies_copy[movies_copy['cast'] == 'unknown']['imdb_id'].to_dict()\n",
    "len(cast_unknown)"
   ]
  },
  {
   "cell_type": "code",
   "execution_count": 67,
   "id": "73acdcb3-01ca-4b4d-8613-5b4231d6f2bc",
   "metadata": {},
   "outputs": [
    {
     "data": {
      "text/plain": [
       "{550: 'tt0108323',\n",
       " 1088: 'tt0116310',\n",
       " 1619: 'tt0208261',\n",
       " 1674: 'tt0181786',\n",
       " 2027: 'tt0188028',\n",
       " 2081: 'tt0240885',\n",
       " 2094: 'tt0240912',\n",
       " 2300: 'tt0143861',\n",
       " 2333: 'tt0357309',\n",
       " 3034: 'tt0972541',\n",
       " 3344: 'tt1198405',\n",
       " 3419: 'tt1239427',\n",
       " 3698: 'tt1548865',\n",
       " 4031: 'tt1430625',\n",
       " 4102: 'tt2125490',\n",
       " 4119: 'tt1618399',\n",
       " 4473: 'tt3450654',\n",
       " 4538: 'tt3501904',\n",
       " 4680: 'tt2159988',\n",
       " 4722: 'tt3304610',\n",
       " 5140: 'tt8150132',\n",
       " 5433: 'tt9097270',\n",
       " 5719: 'tt12672720',\n",
       " 5813: 'tt9124868'}"
      ]
     },
     "execution_count": 67,
     "metadata": {},
     "output_type": "execute_result"
    }
   ],
   "source": [
    "cast_unknown"
   ]
  },
  {
   "cell_type": "markdown",
   "id": "4ddf83e9-c072-46f5-9496-6a7954a0c2fa",
   "metadata": {},
   "source": [
    "Updating cast"
   ]
  },
  {
   "cell_type": "code",
   "execution_count": null,
   "id": "6baf573b-3ca2-478b-a018-fe2eebac51f8",
   "metadata": {},
   "outputs": [
    {
     "ename": "KeyboardInterrupt",
     "evalue": "",
     "output_type": "error",
     "traceback": [
      "\u001b[1;31m---------------------------------------------------------------------------\u001b[0m",
      "\u001b[1;31mKeyboardInterrupt\u001b[0m                         Traceback (most recent call last)",
      "Cell \u001b[1;32mIn[66], line 6\u001b[0m\n\u001b[0;32m      4\u001b[0m cast_matrix \u001b[39m=\u001b[39m []\n\u001b[0;32m      5\u001b[0m \u001b[39mfor\u001b[39;00m ids \u001b[39min\u001b[39;00m cast_unknown\u001b[39m.\u001b[39mvalues():\n\u001b[1;32m----> 6\u001b[0m     the_matrix \u001b[39m=\u001b[39m ia\u001b[39m.\u001b[39;49mget_movie(ids[\u001b[39m2\u001b[39;49m:])\n\u001b[0;32m      7\u001b[0m     cast_matrix\u001b[39m.\u001b[39mappend(the_matrix)\n",
      "File \u001b[1;32mc:\\Users\\P PAVAN REDDY\\anaconda3\\lib\\site-packages\\imdb\\__init__.py:429\u001b[0m, in \u001b[0;36mIMDbBase.get_movie\u001b[1;34m(self, movieID, info, modFunct)\u001b[0m\n\u001b[0;32m    427\u001b[0m \u001b[39mif\u001b[39;00m modFunct \u001b[39mis\u001b[39;00m \u001b[39mnot\u001b[39;00m \u001b[39mNone\u001b[39;00m:\n\u001b[0;32m    428\u001b[0m     movie\u001b[39m.\u001b[39mset_mod_funct(modFunct)\n\u001b[1;32m--> 429\u001b[0m \u001b[39mself\u001b[39;49m\u001b[39m.\u001b[39;49mupdate(movie, info)\n\u001b[0;32m    430\u001b[0m \u001b[39mreturn\u001b[39;00m movie\n",
      "File \u001b[1;32mc:\\Users\\P PAVAN REDDY\\anaconda3\\lib\\site-packages\\imdb\\__init__.py:848\u001b[0m, in \u001b[0;36mIMDbBase.update\u001b[1;34m(self, mop, info, override)\u001b[0m\n\u001b[0;32m    846\u001b[0m     method \u001b[39m=\u001b[39m \u001b[39mlambda\u001b[39;00m \u001b[39m*\u001b[39mx: {}\n\u001b[0;32m    847\u001b[0m \u001b[39mtry\u001b[39;00m:\n\u001b[1;32m--> 848\u001b[0m     ret \u001b[39m=\u001b[39m method(mopID)\n\u001b[0;32m    849\u001b[0m \u001b[39mexcept\u001b[39;00m \u001b[39mException\u001b[39;00m:\n\u001b[0;32m    850\u001b[0m     _imdb_logger\u001b[39m.\u001b[39mcritical(\n\u001b[0;32m    851\u001b[0m         \u001b[39m'\u001b[39m\u001b[39mcaught an exception retrieving or parsing \u001b[39m\u001b[39m\"\u001b[39m\u001b[39m%s\u001b[39;00m\u001b[39m\"\u001b[39m\u001b[39m info set\u001b[39m\u001b[39m'\u001b[39m\n\u001b[0;32m    852\u001b[0m         \u001b[39m'\u001b[39m\u001b[39m for mopID \u001b[39m\u001b[39m\"\u001b[39m\u001b[39m%s\u001b[39;00m\u001b[39m\"\u001b[39m\u001b[39m (accessSystem: \u001b[39m\u001b[39m%s\u001b[39;00m\u001b[39m)\u001b[39m\u001b[39m'\u001b[39m,\n\u001b[0;32m    853\u001b[0m         i, mopID, mop\u001b[39m.\u001b[39maccessSystem, exc_info\u001b[39m=\u001b[39m\u001b[39mTrue\u001b[39;00m\n\u001b[0;32m    854\u001b[0m     )\n",
      "File \u001b[1;32mc:\\Users\\P PAVAN REDDY\\anaconda3\\lib\\site-packages\\imdb\\parser\\http\\__init__.py:498\u001b[0m, in \u001b[0;36mIMDbHTTPAccessSystem.get_movie_plot\u001b[1;34m(self, movieID)\u001b[0m\n\u001b[0;32m    497\u001b[0m \u001b[39mdef\u001b[39;00m \u001b[39mget_movie_plot\u001b[39m(\u001b[39mself\u001b[39m, movieID):\n\u001b[1;32m--> 498\u001b[0m     cont \u001b[39m=\u001b[39m \u001b[39mself\u001b[39;49m\u001b[39m.\u001b[39;49m_retrieve(\u001b[39mself\u001b[39;49m\u001b[39m.\u001b[39;49murls[\u001b[39m'\u001b[39;49m\u001b[39mmovie_main\u001b[39;49m\u001b[39m'\u001b[39;49m] \u001b[39m%\u001b[39;49m movieID \u001b[39m+\u001b[39;49m \u001b[39m'\u001b[39;49m\u001b[39mplotsummary\u001b[39;49m\u001b[39m'\u001b[39;49m)\n\u001b[0;32m    499\u001b[0m     ret \u001b[39m=\u001b[39m \u001b[39mself\u001b[39m\u001b[39m.\u001b[39mmProxy\u001b[39m.\u001b[39mplot_parser\u001b[39m.\u001b[39mparse(cont, getRefs\u001b[39m=\u001b[39m\u001b[39mself\u001b[39m\u001b[39m.\u001b[39m_getRefs)\n\u001b[0;32m    500\u001b[0m     ret[\u001b[39m'\u001b[39m\u001b[39minfo sets\u001b[39m\u001b[39m'\u001b[39m] \u001b[39m=\u001b[39m (\u001b[39m'\u001b[39m\u001b[39mplot\u001b[39m\u001b[39m'\u001b[39m, \u001b[39m'\u001b[39m\u001b[39msynopsis\u001b[39m\u001b[39m'\u001b[39m)\n",
      "File \u001b[1;32mc:\\Users\\P PAVAN REDDY\\anaconda3\\lib\\site-packages\\imdb\\parser\\http\\__init__.py:392\u001b[0m, in \u001b[0;36mIMDbHTTPAccessSystem._retrieve\u001b[1;34m(self, url, size, _noCookies)\u001b[0m\n\u001b[0;32m    390\u001b[0m \u001b[39m\"\"\"Retrieve the given URL.\"\"\"\u001b[39;00m\n\u001b[0;32m    391\u001b[0m \u001b[39mself\u001b[39m\u001b[39m.\u001b[39m_http_logger\u001b[39m.\u001b[39mdebug(\u001b[39m'\u001b[39m\u001b[39mfetching url \u001b[39m\u001b[39m%s\u001b[39;00m\u001b[39m (size: \u001b[39m\u001b[39m%d\u001b[39;00m\u001b[39m)\u001b[39m\u001b[39m'\u001b[39m, url, size)\n\u001b[1;32m--> 392\u001b[0m ret \u001b[39m=\u001b[39m \u001b[39mself\u001b[39;49m\u001b[39m.\u001b[39;49murlOpener\u001b[39m.\u001b[39;49mretrieve_unicode(url, size\u001b[39m=\u001b[39;49msize)\n\u001b[0;32m    393\u001b[0m \u001b[39mif\u001b[39;00m PY2 \u001b[39mand\u001b[39;00m \u001b[39misinstance\u001b[39m(ret, \u001b[39mstr\u001b[39m):\n\u001b[0;32m    394\u001b[0m     ret \u001b[39m=\u001b[39m ret\u001b[39m.\u001b[39mdecode(\u001b[39m'\u001b[39m\u001b[39mutf-8\u001b[39m\u001b[39m'\u001b[39m)\n",
      "File \u001b[1;32mc:\\Users\\P PAVAN REDDY\\anaconda3\\lib\\site-packages\\imdb\\parser\\http\\__init__.py:234\u001b[0m, in \u001b[0;36mIMDbURLopener.retrieve_unicode\u001b[1;34m(self, url, size)\u001b[0m\n\u001b[0;32m    232\u001b[0m uopener\u001b[39m.\u001b[39maddheaders \u001b[39m=\u001b[39m \u001b[39mlist\u001b[39m(\u001b[39mself\u001b[39m\u001b[39m.\u001b[39maddheaders)\n\u001b[0;32m    233\u001b[0m response \u001b[39m=\u001b[39m uopener\u001b[39m.\u001b[39mopen(url)\n\u001b[1;32m--> 234\u001b[0m content \u001b[39m=\u001b[39m response\u001b[39m.\u001b[39;49mread()\n\u001b[0;32m    235\u001b[0m \u001b[39mself\u001b[39m\u001b[39m.\u001b[39m_last_url \u001b[39m=\u001b[39m response\u001b[39m.\u001b[39murl\n\u001b[0;32m    236\u001b[0m \u001b[39m# Maybe the server is so nice to tell us the charset...\u001b[39;00m\n",
      "File \u001b[1;32mc:\\Users\\P PAVAN REDDY\\anaconda3\\lib\\http\\client.py:470\u001b[0m, in \u001b[0;36mHTTPResponse.read\u001b[1;34m(self, amt)\u001b[0m\n\u001b[0;32m    465\u001b[0m \u001b[39melse\u001b[39;00m:\n\u001b[0;32m    466\u001b[0m     \u001b[39m# Amount is not given (unbounded read) so we must check self.length\u001b[39;00m\n\u001b[0;32m    467\u001b[0m     \u001b[39m# and self.chunked\u001b[39;00m\n\u001b[0;32m    469\u001b[0m     \u001b[39mif\u001b[39;00m \u001b[39mself\u001b[39m\u001b[39m.\u001b[39mchunked:\n\u001b[1;32m--> 470\u001b[0m         \u001b[39mreturn\u001b[39;00m \u001b[39mself\u001b[39;49m\u001b[39m.\u001b[39;49m_readall_chunked()\n\u001b[0;32m    472\u001b[0m     \u001b[39mif\u001b[39;00m \u001b[39mself\u001b[39m\u001b[39m.\u001b[39mlength \u001b[39mis\u001b[39;00m \u001b[39mNone\u001b[39;00m:\n\u001b[0;32m    473\u001b[0m         s \u001b[39m=\u001b[39m \u001b[39mself\u001b[39m\u001b[39m.\u001b[39mfp\u001b[39m.\u001b[39mread()\n",
      "File \u001b[1;32mc:\\Users\\P PAVAN REDDY\\anaconda3\\lib\\http\\client.py:577\u001b[0m, in \u001b[0;36mHTTPResponse._readall_chunked\u001b[1;34m(self)\u001b[0m\n\u001b[0;32m    575\u001b[0m \u001b[39mtry\u001b[39;00m:\n\u001b[0;32m    576\u001b[0m     \u001b[39mwhile\u001b[39;00m \u001b[39mTrue\u001b[39;00m:\n\u001b[1;32m--> 577\u001b[0m         chunk_left \u001b[39m=\u001b[39m \u001b[39mself\u001b[39;49m\u001b[39m.\u001b[39;49m_get_chunk_left()\n\u001b[0;32m    578\u001b[0m         \u001b[39mif\u001b[39;00m chunk_left \u001b[39mis\u001b[39;00m \u001b[39mNone\u001b[39;00m:\n\u001b[0;32m    579\u001b[0m             \u001b[39mbreak\u001b[39;00m\n",
      "File \u001b[1;32mc:\\Users\\P PAVAN REDDY\\anaconda3\\lib\\http\\client.py:560\u001b[0m, in \u001b[0;36mHTTPResponse._get_chunk_left\u001b[1;34m(self)\u001b[0m\n\u001b[0;32m    558\u001b[0m     \u001b[39mself\u001b[39m\u001b[39m.\u001b[39m_safe_read(\u001b[39m2\u001b[39m)  \u001b[39m# toss the CRLF at the end of the chunk\u001b[39;00m\n\u001b[0;32m    559\u001b[0m \u001b[39mtry\u001b[39;00m:\n\u001b[1;32m--> 560\u001b[0m     chunk_left \u001b[39m=\u001b[39m \u001b[39mself\u001b[39;49m\u001b[39m.\u001b[39;49m_read_next_chunk_size()\n\u001b[0;32m    561\u001b[0m \u001b[39mexcept\u001b[39;00m \u001b[39mValueError\u001b[39;00m:\n\u001b[0;32m    562\u001b[0m     \u001b[39mraise\u001b[39;00m IncompleteRead(\u001b[39mb\u001b[39m\u001b[39m'\u001b[39m\u001b[39m'\u001b[39m)\n",
      "File \u001b[1;32mc:\\Users\\P PAVAN REDDY\\anaconda3\\lib\\http\\client.py:520\u001b[0m, in \u001b[0;36mHTTPResponse._read_next_chunk_size\u001b[1;34m(self)\u001b[0m\n\u001b[0;32m    518\u001b[0m \u001b[39mdef\u001b[39;00m \u001b[39m_read_next_chunk_size\u001b[39m(\u001b[39mself\u001b[39m):\n\u001b[0;32m    519\u001b[0m     \u001b[39m# Read the next chunk size from the file\u001b[39;00m\n\u001b[1;32m--> 520\u001b[0m     line \u001b[39m=\u001b[39m \u001b[39mself\u001b[39;49m\u001b[39m.\u001b[39;49mfp\u001b[39m.\u001b[39;49mreadline(_MAXLINE \u001b[39m+\u001b[39;49m \u001b[39m1\u001b[39;49m)\n\u001b[0;32m    521\u001b[0m     \u001b[39mif\u001b[39;00m \u001b[39mlen\u001b[39m(line) \u001b[39m>\u001b[39m _MAXLINE:\n\u001b[0;32m    522\u001b[0m         \u001b[39mraise\u001b[39;00m LineTooLong(\u001b[39m\"\u001b[39m\u001b[39mchunk size\u001b[39m\u001b[39m\"\u001b[39m)\n",
      "File \u001b[1;32mc:\\Users\\P PAVAN REDDY\\anaconda3\\lib\\socket.py:704\u001b[0m, in \u001b[0;36mSocketIO.readinto\u001b[1;34m(self, b)\u001b[0m\n\u001b[0;32m    702\u001b[0m \u001b[39mwhile\u001b[39;00m \u001b[39mTrue\u001b[39;00m:\n\u001b[0;32m    703\u001b[0m     \u001b[39mtry\u001b[39;00m:\n\u001b[1;32m--> 704\u001b[0m         \u001b[39mreturn\u001b[39;00m \u001b[39mself\u001b[39;49m\u001b[39m.\u001b[39;49m_sock\u001b[39m.\u001b[39;49mrecv_into(b)\n\u001b[0;32m    705\u001b[0m     \u001b[39mexcept\u001b[39;00m timeout:\n\u001b[0;32m    706\u001b[0m         \u001b[39mself\u001b[39m\u001b[39m.\u001b[39m_timeout_occurred \u001b[39m=\u001b[39m \u001b[39mTrue\u001b[39;00m\n",
      "File \u001b[1;32mc:\\Users\\P PAVAN REDDY\\anaconda3\\lib\\ssl.py:1242\u001b[0m, in \u001b[0;36mSSLSocket.recv_into\u001b[1;34m(self, buffer, nbytes, flags)\u001b[0m\n\u001b[0;32m   1238\u001b[0m     \u001b[39mif\u001b[39;00m flags \u001b[39m!=\u001b[39m \u001b[39m0\u001b[39m:\n\u001b[0;32m   1239\u001b[0m         \u001b[39mraise\u001b[39;00m \u001b[39mValueError\u001b[39;00m(\n\u001b[0;32m   1240\u001b[0m           \u001b[39m\"\u001b[39m\u001b[39mnon-zero flags not allowed in calls to recv_into() on \u001b[39m\u001b[39m%s\u001b[39;00m\u001b[39m\"\u001b[39m \u001b[39m%\u001b[39m\n\u001b[0;32m   1241\u001b[0m           \u001b[39mself\u001b[39m\u001b[39m.\u001b[39m\u001b[39m__class__\u001b[39m)\n\u001b[1;32m-> 1242\u001b[0m     \u001b[39mreturn\u001b[39;00m \u001b[39mself\u001b[39;49m\u001b[39m.\u001b[39;49mread(nbytes, buffer)\n\u001b[0;32m   1243\u001b[0m \u001b[39melse\u001b[39;00m:\n\u001b[0;32m   1244\u001b[0m     \u001b[39mreturn\u001b[39;00m \u001b[39msuper\u001b[39m()\u001b[39m.\u001b[39mrecv_into(buffer, nbytes, flags)\n",
      "File \u001b[1;32mc:\\Users\\P PAVAN REDDY\\anaconda3\\lib\\ssl.py:1100\u001b[0m, in \u001b[0;36mSSLSocket.read\u001b[1;34m(self, len, buffer)\u001b[0m\n\u001b[0;32m   1098\u001b[0m \u001b[39mtry\u001b[39;00m:\n\u001b[0;32m   1099\u001b[0m     \u001b[39mif\u001b[39;00m buffer \u001b[39mis\u001b[39;00m \u001b[39mnot\u001b[39;00m \u001b[39mNone\u001b[39;00m:\n\u001b[1;32m-> 1100\u001b[0m         \u001b[39mreturn\u001b[39;00m \u001b[39mself\u001b[39;49m\u001b[39m.\u001b[39;49m_sslobj\u001b[39m.\u001b[39;49mread(\u001b[39mlen\u001b[39;49m, buffer)\n\u001b[0;32m   1101\u001b[0m     \u001b[39melse\u001b[39;00m:\n\u001b[0;32m   1102\u001b[0m         \u001b[39mreturn\u001b[39;00m \u001b[39mself\u001b[39m\u001b[39m.\u001b[39m_sslobj\u001b[39m.\u001b[39mread(\u001b[39mlen\u001b[39m)\n",
      "\u001b[1;31mKeyboardInterrupt\u001b[0m: "
     ]
    }
   ],
   "source": [
    "# create an instance of the Cinemagoer class\n",
    "ia = Cinemagoer()\n",
    "\n",
    "cast_matrix = []\n",
    "for ids in cast_unknown.values():\n",
    "    the_matrix = ia.get_movie(ids[2:])\n",
    "    cast_matrix.append(the_matrix)"
   ]
  },
  {
   "cell_type": "code",
   "execution_count": 348,
   "id": "7fecb330-3df4-4616-a483-18c8d8230c11",
   "metadata": {},
   "outputs": [
    {
     "data": {
      "text/plain": [
       "24"
      ]
     },
     "execution_count": 348,
     "metadata": {},
     "output_type": "execute_result"
    }
   ],
   "source": [
    "len(cast_matrix)"
   ]
  },
  {
   "cell_type": "code",
   "execution_count": 349,
   "id": "1c27bc75-e86c-4bdd-8cf4-2427082233c4",
   "metadata": {},
   "outputs": [],
   "source": [
    "cast_fetched = []\n",
    "\n",
    "for record in range(len(cast_matrix)):\n",
    "    \n",
    "    if 'cast' in cast_matrix[record]:\n",
    "        if len(cast_matrix[record]['cast'])>=6:\n",
    "            cast_fetched.append([cast_matrix[record]['cast'][0]['name'],\n",
    "                         cast_matrix[record]['cast'][1]['name'],\n",
    "                         cast_matrix[record]['cast'][2]['name'],\n",
    "                         cast_matrix[record]['cast'][3]['name'],\n",
    "                         cast_matrix[record]['cast'][4]['name'],\n",
    "                         cast_matrix[record]['cast'][5]['name']])\n",
    "            \n",
    "        elif len(cast_matrix[record]['cast'])==5:\n",
    "            cast_fetched.append([cast_matrix[record]['cast'][0]['name'],\n",
    "                         cast_matrix[record]['cast'][1]['name'],\n",
    "                         cast_matrix[record]['cast'][2]['name'],\n",
    "                         cast_matrix[record]['cast'][3]['name'],\n",
    "                         cast_matrix[record]['cast'][4]['name']])\n",
    "            \n",
    "        elif len(cast_matrix[record]['cast'])==4:\n",
    "            cast_fetched.append([cast_matrix[record]['cast'][0]['name'],\n",
    "                         cast_matrix[record]['cast'][1]['name'],\n",
    "                         cast_matrix[record]['cast'][2]['name'],\n",
    "                         cast_matrix[record]['cast'][3]['name']])\n",
    "            \n",
    "        elif len(cast_matrix[record]['cast'])==3:\n",
    "            cast_fetched.append([cast_matrix[record]['cast'][0]['name'],\n",
    "                         cast_matrix[record]['cast'][1]['name'],\n",
    "                         cast_matrix[record]['cast'][2]['name']])\n",
    "            \n",
    "        elif len(cast_matrix[record]['cast'])==2:\n",
    "            cast_fetched.append([cast_matrix[record]['cast'][0]['name'],\n",
    "                         cast_matrix[record]['cast'][1]['name']])\n",
    "            \n",
    "        elif len(cast_matrix[record]['cast'])==1:\n",
    "            cast_fetched.append([cast_matrix[record]['cast'][0]['name']])\n",
    "            \n",
    "            \n",
    "        else:\n",
    "            cast_fetched.append('unknown')\n",
    "            \n",
    "    else:\n",
    "        cast_fetched.append('unknown')"
   ]
  },
  {
   "cell_type": "code",
   "execution_count": 350,
   "id": "5fedfc3c-d2e0-4b0a-b320-0adb5583888f",
   "metadata": {},
   "outputs": [
    {
     "data": {
      "text/plain": [
       "24"
      ]
     },
     "execution_count": 350,
     "metadata": {},
     "output_type": "execute_result"
    }
   ],
   "source": [
    "len(cast_fetched)"
   ]
  },
  {
   "cell_type": "code",
   "execution_count": 351,
   "id": "8ac0766d-b4b4-46a9-9aee-28fe65db49d1",
   "metadata": {},
   "outputs": [],
   "source": [
    "#updating cast_unknown dict with fetched values\n",
    "for key, value in cast_unknown.items():  \n",
    "    cast_unknown[key] = cast_fetched.pop(0)"
   ]
  },
  {
   "cell_type": "code",
   "execution_count": 353,
   "id": "f39e759c-7a88-4e8f-838a-a8cf0bdf65b5",
   "metadata": {},
   "outputs": [
    {
     "data": {
      "text/plain": [
       "24"
      ]
     },
     "execution_count": 353,
     "metadata": {},
     "output_type": "execute_result"
    }
   ],
   "source": [
    "len(cast_unknown)"
   ]
  },
  {
   "cell_type": "markdown",
   "id": "a802e2c7-7dd8-44b4-94d5-8e05bb53647f",
   "metadata": {},
   "source": [
    "* updating rows in cast column where it has 'unknown' value, with fetched values"
   ]
  },
  {
   "cell_type": "code",
   "execution_count": 354,
   "id": "7f195e0d-1951-44a6-a88c-16b32e80d412",
   "metadata": {},
   "outputs": [],
   "source": [
    "movies_copy[\"cast\"].update(cast_unknown)"
   ]
  },
  {
   "cell_type": "code",
   "execution_count": 357,
   "id": "d68acfdc-b12d-4faa-9d30-4847d097ff43",
   "metadata": {},
   "outputs": [
    {
     "data": {
      "text/html": [
       "<div>\n",
       "<style scoped>\n",
       "    .dataframe tbody tr th:only-of-type {\n",
       "        vertical-align: middle;\n",
       "    }\n",
       "\n",
       "    .dataframe tbody tr th {\n",
       "        vertical-align: top;\n",
       "    }\n",
       "\n",
       "    .dataframe thead th {\n",
       "        text-align: right;\n",
       "    }\n",
       "</style>\n",
       "<table border=\"1\" class=\"dataframe\">\n",
       "  <thead>\n",
       "    <tr style=\"text-align: right;\">\n",
       "      <th></th>\n",
       "      <th>title</th>\n",
       "      <th>release_year</th>\n",
       "      <th>imdb_id</th>\n",
       "      <th>poster</th>\n",
       "      <th>tmdb_id</th>\n",
       "      <th>cast</th>\n",
       "      <th>director</th>\n",
       "      <th>genres</th>\n",
       "      <th>production_companies</th>\n",
       "    </tr>\n",
       "  </thead>\n",
       "  <tbody>\n",
       "    <tr>\n",
       "      <th>3698</th>\n",
       "      <td>12th &amp; Delaware</td>\n",
       "      <td>2010</td>\n",
       "      <td>tt1548865</td>\n",
       "      <td>https://m.media-amazon.com/images/M/MV5BMTQwNj...</td>\n",
       "      <td>44806</td>\n",
       "      <td>unknown</td>\n",
       "      <td>Heidi Ewing</td>\n",
       "      <td>['Documentary']</td>\n",
       "      <td>['Loki Films']</td>\n",
       "    </tr>\n",
       "    <tr>\n",
       "      <th>5140</th>\n",
       "      <td>The Guardians</td>\n",
       "      <td>2018</td>\n",
       "      <td>tt8150132</td>\n",
       "      <td>https://m.media-amazon.com/images/M/MV5BNDllOG...</td>\n",
       "      <td>509910</td>\n",
       "      <td>unknown</td>\n",
       "      <td>Ben Crosbie</td>\n",
       "      <td>['Documentary']</td>\n",
       "      <td>['Eidolon Films']</td>\n",
       "    </tr>\n",
       "  </tbody>\n",
       "</table>\n",
       "</div>"
      ],
      "text/plain": [
       "                title  release_year    imdb_id  \\\n",
       "3698  12th & Delaware          2010  tt1548865   \n",
       "5140    The Guardians          2018  tt8150132   \n",
       "\n",
       "                                                 poster  tmdb_id     cast  \\\n",
       "3698  https://m.media-amazon.com/images/M/MV5BMTQwNj...    44806  unknown   \n",
       "5140  https://m.media-amazon.com/images/M/MV5BNDllOG...   509910  unknown   \n",
       "\n",
       "         director           genres production_companies  \n",
       "3698  Heidi Ewing  ['Documentary']       ['Loki Films']  \n",
       "5140  Ben Crosbie  ['Documentary']    ['Eidolon Films']  "
      ]
     },
     "execution_count": 357,
     "metadata": {},
     "output_type": "execute_result"
    }
   ],
   "source": [
    "movies_copy[movies_copy['cast'] == 'unknown']  #only two left, let's drop them"
   ]
  },
  {
   "cell_type": "code",
   "execution_count": 362,
   "id": "860f9544-59df-4a6e-9b8f-c0de6389bec8",
   "metadata": {},
   "outputs": [],
   "source": [
    "movies_copy.drop(movies_copy[movies_copy['cast'] == 'unknown'].index, inplace=True)\n",
    "movies_copy.reset_index(drop=True, inplace=True)"
   ]
  },
  {
   "cell_type": "markdown",
   "id": "fdbb363d-8266-438b-814c-4f852d52cd32",
   "metadata": {},
   "source": [
    "updating director"
   ]
  },
  {
   "cell_type": "code",
   "execution_count": 372,
   "id": "598453b4-49c8-43f2-bc23-a612872ccc29",
   "metadata": {},
   "outputs": [
    {
     "data": {
      "text/html": [
       "<div>\n",
       "<style scoped>\n",
       "    .dataframe tbody tr th:only-of-type {\n",
       "        vertical-align: middle;\n",
       "    }\n",
       "\n",
       "    .dataframe tbody tr th {\n",
       "        vertical-align: top;\n",
       "    }\n",
       "\n",
       "    .dataframe thead th {\n",
       "        text-align: right;\n",
       "    }\n",
       "</style>\n",
       "<table border=\"1\" class=\"dataframe\">\n",
       "  <thead>\n",
       "    <tr style=\"text-align: right;\">\n",
       "      <th></th>\n",
       "      <th>title</th>\n",
       "      <th>release_year</th>\n",
       "      <th>imdb_id</th>\n",
       "      <th>poster</th>\n",
       "      <th>tmdb_id</th>\n",
       "      <th>cast</th>\n",
       "      <th>director</th>\n",
       "      <th>genres</th>\n",
       "      <th>production_companies</th>\n",
       "    </tr>\n",
       "  </thead>\n",
       "  <tbody>\n",
       "    <tr>\n",
       "      <th>2593</th>\n",
       "      <td>Off the Lip</td>\n",
       "      <td>2004</td>\n",
       "      <td>tt0223828</td>\n",
       "      <td>https://m.media-amazon.com/images/M/MV5BMTQ0NT...</td>\n",
       "      <td>279709</td>\n",
       "      <td>['Marguerite Moreau', 'Adam Scott', 'Mackenzie...</td>\n",
       "      <td>unknown</td>\n",
       "      <td>['Adventure', 'Comedy']</td>\n",
       "      <td>unknown</td>\n",
       "    </tr>\n",
       "    <tr>\n",
       "      <th>3159</th>\n",
       "      <td>Sarah Landon and the Paranormal Hour</td>\n",
       "      <td>2007</td>\n",
       "      <td>tt0990376</td>\n",
       "      <td>https://m.media-amazon.com/images/M/MV5BMTkwNz...</td>\n",
       "      <td>23327</td>\n",
       "      <td>['Rissa Walters', 'Michael Silva', 'Jack Pine-...</td>\n",
       "      <td>unknown</td>\n",
       "      <td>['Family', 'Horror', 'Mystery', 'Thriller']</td>\n",
       "      <td>unknown</td>\n",
       "    </tr>\n",
       "    <tr>\n",
       "      <th>5811</th>\n",
       "      <td>Rollers</td>\n",
       "      <td>2021</td>\n",
       "      <td>tt9124868</td>\n",
       "      <td>https://m.media-amazon.com/images/M/MV5BMjg5MD...</td>\n",
       "      <td>842170</td>\n",
       "      <td>[Kevin Bigley, Vicky Jeudy, Meredith Thomas, K...</td>\n",
       "      <td>unknown</td>\n",
       "      <td>['Comedy']</td>\n",
       "      <td>unknown</td>\n",
       "    </tr>\n",
       "  </tbody>\n",
       "</table>\n",
       "</div>"
      ],
      "text/plain": [
       "                                     title  release_year    imdb_id  \\\n",
       "2593                           Off the Lip          2004  tt0223828   \n",
       "3159  Sarah Landon and the Paranormal Hour          2007  tt0990376   \n",
       "5811                               Rollers          2021  tt9124868   \n",
       "\n",
       "                                                 poster  tmdb_id  \\\n",
       "2593  https://m.media-amazon.com/images/M/MV5BMTQ0NT...   279709   \n",
       "3159  https://m.media-amazon.com/images/M/MV5BMTkwNz...    23327   \n",
       "5811  https://m.media-amazon.com/images/M/MV5BMjg5MD...   842170   \n",
       "\n",
       "                                                   cast director  \\\n",
       "2593  ['Marguerite Moreau', 'Adam Scott', 'Mackenzie...  unknown   \n",
       "3159  ['Rissa Walters', 'Michael Silva', 'Jack Pine-...  unknown   \n",
       "5811  [Kevin Bigley, Vicky Jeudy, Meredith Thomas, K...  unknown   \n",
       "\n",
       "                                           genres production_companies  \n",
       "2593                      ['Adventure', 'Comedy']              unknown  \n",
       "3159  ['Family', 'Horror', 'Mystery', 'Thriller']              unknown  \n",
       "5811                                   ['Comedy']              unknown  "
      ]
     },
     "execution_count": 372,
     "metadata": {},
     "output_type": "execute_result"
    }
   ],
   "source": [
    "movies_copy[movies_copy['director'] == 'unknown']"
   ]
  },
  {
   "cell_type": "code",
   "execution_count": 371,
   "id": "1884386b-d5fb-40b0-995e-55ba1d6079c7",
   "metadata": {},
   "outputs": [
    {
     "data": {
      "text/plain": [
       "{2593: 'tt0223828', 3159: 'tt0990376', 5811: 'tt9124868'}"
      ]
     },
     "execution_count": 371,
     "metadata": {},
     "output_type": "execute_result"
    }
   ],
   "source": [
    "director_unknown = movies_copy[movies_copy['director'] == 'unknown']['imdb_id'].to_dict()\n",
    "director_unknown"
   ]
  },
  {
   "cell_type": "code",
   "execution_count": null,
   "id": "016c9129-f5b0-424a-ae8e-0eb4cf09e0e2",
   "metadata": {},
   "outputs": [],
   "source": [
    "# create an instance of the Cinemagoer class\n",
    "ia = Cinemagoer()\n",
    "\n",
    "director_matrix = []\n",
    "for ids in director_unknown.values():\n",
    "    the_matrix1 = ia.get_movie(ids[2:])\n",
    "    director_matrix.append(the_matrix1)"
   ]
  },
  {
   "cell_type": "code",
   "execution_count": 395,
   "id": "e84d0783-6309-4090-ae79-0d90625f638b",
   "metadata": {},
   "outputs": [],
   "source": [
    "director_fetch = []\n",
    "\n",
    "for record in director_matrix:\n",
    "    director_fetch.append(record['directors'][0]['name'])"
   ]
  },
  {
   "cell_type": "code",
   "execution_count": 396,
   "id": "ca723da6-ac0a-48b9-9af2-d4c79408bc09",
   "metadata": {},
   "outputs": [
    {
     "data": {
      "text/plain": [
       "['Robert Mickelson', 'Lisa Comrie', 'Isaiah Smallman']"
      ]
     },
     "execution_count": 396,
     "metadata": {},
     "output_type": "execute_result"
    }
   ],
   "source": [
    "director_fetch"
   ]
  },
  {
   "cell_type": "code",
   "execution_count": 403,
   "id": "467e48e1-a003-4ffe-95ac-06151f2f4eb0",
   "metadata": {},
   "outputs": [],
   "source": [
    "#updating director_unknown dict with fetched values\n",
    "for key, value in director_unknown.items():  \n",
    "    director_unknown[key] = director_fetch.pop(0)"
   ]
  },
  {
   "cell_type": "code",
   "execution_count": 405,
   "id": "f5c7b708-424b-43fc-a984-b0bb5d566e24",
   "metadata": {},
   "outputs": [
    {
     "data": {
      "text/plain": [
       "{2593: 'Robert Mickelson', 3159: 'Lisa Comrie', 5811: 'Isaiah Smallman'}"
      ]
     },
     "execution_count": 405,
     "metadata": {},
     "output_type": "execute_result"
    }
   ],
   "source": [
    "director_unknown"
   ]
  },
  {
   "cell_type": "markdown",
   "id": "a2d4aa9d-c7c3-453b-bbcf-2b58637fd8e4",
   "metadata": {},
   "source": [
    "* updating rows in director column where it has 'unknown' value, with fetched values"
   ]
  },
  {
   "cell_type": "code",
   "execution_count": 406,
   "id": "e9614163-55a6-4957-901b-2af597ef018c",
   "metadata": {},
   "outputs": [],
   "source": [
    "movies_copy[\"director\"].update(director_unknown)"
   ]
  },
  {
   "cell_type": "code",
   "execution_count": 407,
   "id": "2fcd44e1-84c4-4c10-b326-f253dee5ea5c",
   "metadata": {},
   "outputs": [
    {
     "data": {
      "text/html": [
       "<div>\n",
       "<style scoped>\n",
       "    .dataframe tbody tr th:only-of-type {\n",
       "        vertical-align: middle;\n",
       "    }\n",
       "\n",
       "    .dataframe tbody tr th {\n",
       "        vertical-align: top;\n",
       "    }\n",
       "\n",
       "    .dataframe thead th {\n",
       "        text-align: right;\n",
       "    }\n",
       "</style>\n",
       "<table border=\"1\" class=\"dataframe\">\n",
       "  <thead>\n",
       "    <tr style=\"text-align: right;\">\n",
       "      <th></th>\n",
       "      <th>title</th>\n",
       "      <th>release_year</th>\n",
       "      <th>imdb_id</th>\n",
       "      <th>poster</th>\n",
       "      <th>tmdb_id</th>\n",
       "      <th>cast</th>\n",
       "      <th>director</th>\n",
       "      <th>genres</th>\n",
       "      <th>production_companies</th>\n",
       "    </tr>\n",
       "  </thead>\n",
       "  <tbody>\n",
       "  </tbody>\n",
       "</table>\n",
       "</div>"
      ],
      "text/plain": [
       "Empty DataFrame\n",
       "Columns: [title, release_year, imdb_id, poster, tmdb_id, cast, director, genres, production_companies]\n",
       "Index: []"
      ]
     },
     "execution_count": 407,
     "metadata": {},
     "output_type": "execute_result"
    }
   ],
   "source": [
    "movies_copy[movies_copy['director'] == 'unknown']"
   ]
  },
  {
   "cell_type": "markdown",
   "id": "f19c7e8f-d965-4c70-9903-0fb7f0eda4b5",
   "metadata": {},
   "source": [
    "updating genres "
   ]
  },
  {
   "cell_type": "code",
   "execution_count": 409,
   "id": "78daf3f1-019d-4a93-b77f-bfb94724417d",
   "metadata": {},
   "outputs": [
    {
     "data": {
      "text/plain": [
       "45"
      ]
     },
     "execution_count": 409,
     "metadata": {},
     "output_type": "execute_result"
    }
   ],
   "source": [
    "len(movies_copy[movies_copy['genres'] == 'unknown'])"
   ]
  },
  {
   "cell_type": "code",
   "execution_count": 416,
   "id": "6f54b4d5-e6be-4152-95be-73152787b020",
   "metadata": {},
   "outputs": [
    {
     "data": {
      "text/plain": [
       "{667: 'tt0497630',\n",
       " 1095: 'tt0119138',\n",
       " 1304: 'tt0237072',\n",
       " 1323: 'tt0119001',\n",
       " 1608: 'tt0199685',\n",
       " 1617: 'tt0165857',\n",
       " 1629: 'tt0127020',\n",
       " 1752: 'tt0159277',\n",
       " 1827: 'tt0140352',\n",
       " 1834: 'tt0160672',\n",
       " 1855: 'tt0130121',\n",
       " 2187: 'tt0264559',\n",
       " 2219: 'tt0174732',\n",
       " 2278: 'tt0250636',\n",
       " 2315: 'tt0234829',\n",
       " 2336: 'tt0281398',\n",
       " 2365: 'tt0357470',\n",
       " 2401: 'tt0309530',\n",
       " 2408: 'tt0368721',\n",
       " 2426: 'tt0338094',\n",
       " 2438: 'tt0286716',\n",
       " 2439: 'tt0308383',\n",
       " 2472: 'tt0242653',\n",
       " 2473: 'tt0288045',\n",
       " 2493: 'tt0316396',\n",
       " 2520: 'tt0314353',\n",
       " 2521: 'tt0181852',\n",
       " 2524: 'tt0328538',\n",
       " 2525: 'tt0343095',\n",
       " 2552: 'tt0343660',\n",
       " 2554: 'tt0398872',\n",
       " 2565: 'tt0360009',\n",
       " 2580: 'tt0327679',\n",
       " 2598: 'tt0298148',\n",
       " 2636: 'tt0366174',\n",
       " 2643: 'tt0324554',\n",
       " 2799: 'tt0412922',\n",
       " 3257: 'tt0893325',\n",
       " 3585: 'tt1172994',\n",
       " 3588: 'tt0829427',\n",
       " 3632: 'tt6622356',\n",
       " 4472: 'tt3450654',\n",
       " 5180: 'tt10806200',\n",
       " 5502: 'tt12838350',\n",
       " 5717: 'tt12672720'}"
      ]
     },
     "execution_count": 416,
     "metadata": {},
     "output_type": "execute_result"
    }
   ],
   "source": [
    "genres_unknown = movies_copy[movies_copy['genres'] == 'unknown']['imdb_id'].to_dict()\n",
    "genres_unknown"
   ]
  },
  {
   "cell_type": "code",
   "execution_count": null,
   "id": "26e0df8d-987c-46db-ba71-2246f719ed5f",
   "metadata": {
    "tags": []
   },
   "outputs": [],
   "source": [
    "ia = Cinemagoer()\n",
    "\n",
    "genres_matrix = []\n",
    "for ids in genres_unknown.values()[]:\n",
    "    the_matrix2 = ia.get_movie(ids[2:])\n",
    "    genres_matrix.append(the_matrix2)"
   ]
  },
  {
   "cell_type": "code",
   "execution_count": 423,
   "id": "60c51440-a297-4a49-a164-f936720ea8f5",
   "metadata": {},
   "outputs": [
    {
     "data": {
      "text/plain": [
       "45"
      ]
     },
     "execution_count": 423,
     "metadata": {},
     "output_type": "execute_result"
    }
   ],
   "source": [
    "len(genres_matrix)"
   ]
  },
  {
   "cell_type": "code",
   "execution_count": 428,
   "id": "b4f1a989-9e30-4e58-817a-b7e3bcf76037",
   "metadata": {},
   "outputs": [],
   "source": [
    "genres_fetch = []\n",
    "count=0\n",
    "\n",
    "for record in genres_matrix:\n",
    "    count+=1\n",
    "    genres_fetch.append(record['genres'])"
   ]
  },
  {
   "cell_type": "code",
   "execution_count": 429,
   "id": "4d071fac-5bc7-4ee7-99ae-1161ab0fcc25",
   "metadata": {},
   "outputs": [
    {
     "data": {
      "text/plain": [
       "[['Drama', 'Music'],\n",
       " ['Drama'],\n",
       " ['Comedy', 'Horror'],\n",
       " ['Drama', 'Romance'],\n",
       " ['Action', 'Adventure', 'Comedy', 'Crime', 'Thriller'],\n",
       " ['Drama'],\n",
       " ['Drama'],\n",
       " ['Drama'],\n",
       " ['Biography', 'Drama', 'Thriller'],\n",
       " ['Crime', 'Drama'],\n",
       " ['Comedy', 'Crime', 'Romance'],\n",
       " ['Adventure', 'Comedy', 'Mystery'],\n",
       " ['Comedy', 'Romance'],\n",
       " ['Drama', 'Mystery', 'Thriller'],\n",
       " ['Comedy', 'Drama', 'Romance', 'Sport'],\n",
       " ['Comedy', 'Drama', 'Sci-Fi'],\n",
       " ['Comedy', 'Drama', 'Romance'],\n",
       " ['Comedy', 'Romance'],\n",
       " ['Documentary'],\n",
       " ['Comedy', 'Family', 'Fantasy', 'Horror', 'Mystery'],\n",
       " ['Action', 'Sci-Fi'],\n",
       " ['Drama', 'Romance', 'Thriller'],\n",
       " ['Action', 'Sci-Fi'],\n",
       " ['Action', 'Comedy', 'Fantasy'],\n",
       " ['Adventure', 'Family', 'Fantasy', 'Romance'],\n",
       " ['Action', 'Drama', 'Thriller', 'War'],\n",
       " ['Action', 'Sci-Fi'],\n",
       " ['Drama'],\n",
       " ['Drama'],\n",
       " ['Comedy', 'Drama', 'Romance'],\n",
       " ['Animation', 'Adventure', 'Comedy', 'Family', 'Fantasy'],\n",
       " ['Action', 'Crime', 'Drama', 'Mystery', 'Thriller'],\n",
       " ['Comedy', 'Family', 'Fantasy', 'Romance'],\n",
       " ['Animation', 'Adventure', 'Comedy', 'Family', 'Fantasy', 'Romance'],\n",
       " ['Action', 'Adventure', 'Horror', 'Thriller'],\n",
       " ['Drama', 'Mystery', 'Romance', 'Thriller'],\n",
       " ['Comedy', 'Family', 'Romance'],\n",
       " ['Drama'],\n",
       " ['Horror', 'Mystery'],\n",
       " ['Comedy'],\n",
       " ['Drama', 'Fantasy'],\n",
       " ['Drama'],\n",
       " ['Thriller'],\n",
       " ['Thriller'],\n",
       " ['Drama']]"
      ]
     },
     "execution_count": 429,
     "metadata": {},
     "output_type": "execute_result"
    }
   ],
   "source": [
    "genres_fetch"
   ]
  },
  {
   "cell_type": "code",
   "execution_count": 431,
   "id": "021b9f91-1b12-4296-b5ca-91b68415029e",
   "metadata": {},
   "outputs": [],
   "source": [
    "#updating genres_unknown dict with fetched values\n",
    "for key, value in genres_unknown.items():  \n",
    "    genres_unknown[key] = genres_fetch.pop(0)"
   ]
  },
  {
   "cell_type": "code",
   "execution_count": 432,
   "id": "0e338e1c-a798-4ce6-9c2f-613ba6d3938e",
   "metadata": {},
   "outputs": [
    {
     "data": {
      "text/plain": [
       "{667: ['Drama', 'Music'],\n",
       " 1095: ['Drama'],\n",
       " 1304: ['Comedy', 'Horror'],\n",
       " 1323: ['Drama', 'Romance'],\n",
       " 1608: ['Action', 'Adventure', 'Comedy', 'Crime', 'Thriller'],\n",
       " 1617: ['Drama'],\n",
       " 1629: ['Drama'],\n",
       " 1752: ['Drama'],\n",
       " 1827: ['Biography', 'Drama', 'Thriller'],\n",
       " 1834: ['Crime', 'Drama'],\n",
       " 1855: ['Comedy', 'Crime', 'Romance'],\n",
       " 2187: ['Adventure', 'Comedy', 'Mystery'],\n",
       " 2219: ['Comedy', 'Romance'],\n",
       " 2278: ['Drama', 'Mystery', 'Thriller'],\n",
       " 2315: ['Comedy', 'Drama', 'Romance', 'Sport'],\n",
       " 2336: ['Comedy', 'Drama', 'Sci-Fi'],\n",
       " 2365: ['Comedy', 'Drama', 'Romance'],\n",
       " 2401: ['Comedy', 'Romance'],\n",
       " 2408: ['Documentary'],\n",
       " 2426: ['Comedy', 'Family', 'Fantasy', 'Horror', 'Mystery'],\n",
       " 2438: ['Action', 'Sci-Fi'],\n",
       " 2439: ['Drama', 'Romance', 'Thriller'],\n",
       " 2472: ['Action', 'Sci-Fi'],\n",
       " 2473: ['Action', 'Comedy', 'Fantasy'],\n",
       " 2493: ['Adventure', 'Family', 'Fantasy', 'Romance'],\n",
       " 2520: ['Action', 'Drama', 'Thriller', 'War'],\n",
       " 2521: ['Action', 'Sci-Fi'],\n",
       " 2524: ['Drama'],\n",
       " 2525: ['Drama'],\n",
       " 2552: ['Comedy', 'Drama', 'Romance'],\n",
       " 2554: ['Animation', 'Adventure', 'Comedy', 'Family', 'Fantasy'],\n",
       " 2565: ['Action', 'Crime', 'Drama', 'Mystery', 'Thriller'],\n",
       " 2580: ['Comedy', 'Family', 'Fantasy', 'Romance'],\n",
       " 2598: ['Animation', 'Adventure', 'Comedy', 'Family', 'Fantasy', 'Romance'],\n",
       " 2636: ['Action', 'Adventure', 'Horror', 'Thriller'],\n",
       " 2643: ['Drama', 'Mystery', 'Romance', 'Thriller'],\n",
       " 2799: ['Comedy', 'Family', 'Romance'],\n",
       " 3257: ['Drama'],\n",
       " 3585: ['Horror', 'Mystery'],\n",
       " 3588: ['Comedy'],\n",
       " 3632: ['Drama', 'Fantasy'],\n",
       " 4472: ['Drama'],\n",
       " 5180: ['Thriller'],\n",
       " 5502: ['Thriller'],\n",
       " 5717: ['Drama']}"
      ]
     },
     "execution_count": 432,
     "metadata": {},
     "output_type": "execute_result"
    }
   ],
   "source": [
    "genres_unknown"
   ]
  },
  {
   "cell_type": "markdown",
   "id": "b160e185-3bc2-4611-a319-663d0c9c271d",
   "metadata": {},
   "source": [
    "* updating rows in genres column where it has 'unknown' value, with fetched values"
   ]
  },
  {
   "cell_type": "code",
   "execution_count": null,
   "id": "0f3a7bb2-0495-4d2d-9598-51fe6d3f92e4",
   "metadata": {},
   "outputs": [],
   "source": [
    "movies_copy['genres'].update(genres_unknown)"
   ]
  },
  {
   "cell_type": "code",
   "execution_count": 440,
   "id": "6e4aa05f-48a2-4f4c-87ec-f0cd6ec633f1",
   "metadata": {},
   "outputs": [
    {
     "data": {
      "text/html": [
       "<div>\n",
       "<style scoped>\n",
       "    .dataframe tbody tr th:only-of-type {\n",
       "        vertical-align: middle;\n",
       "    }\n",
       "\n",
       "    .dataframe tbody tr th {\n",
       "        vertical-align: top;\n",
       "    }\n",
       "\n",
       "    .dataframe thead th {\n",
       "        text-align: right;\n",
       "    }\n",
       "</style>\n",
       "<table border=\"1\" class=\"dataframe\">\n",
       "  <thead>\n",
       "    <tr style=\"text-align: right;\">\n",
       "      <th></th>\n",
       "      <th>title</th>\n",
       "      <th>release_year</th>\n",
       "      <th>imdb_id</th>\n",
       "      <th>poster</th>\n",
       "      <th>tmdb_id</th>\n",
       "      <th>cast</th>\n",
       "      <th>director</th>\n",
       "      <th>genres</th>\n",
       "      <th>production_companies</th>\n",
       "    </tr>\n",
       "  </thead>\n",
       "  <tbody>\n",
       "  </tbody>\n",
       "</table>\n",
       "</div>"
      ],
      "text/plain": [
       "Empty DataFrame\n",
       "Columns: [title, release_year, imdb_id, poster, tmdb_id, cast, director, genres, production_companies]\n",
       "Index: []"
      ]
     },
     "execution_count": 440,
     "metadata": {},
     "output_type": "execute_result"
    }
   ],
   "source": [
    "movies_copy[movies_copy['genres'] == 'unknown']"
   ]
  },
  {
   "cell_type": "markdown",
   "id": "34ee1343-6898-4431-aea0-8ad524a59927",
   "metadata": {},
   "source": [
    "updating production_companies"
   ]
  },
  {
   "cell_type": "code",
   "execution_count": 171,
   "id": "5db7db53-eaee-4ee2-9b8f-fc7c4e827cff",
   "metadata": {},
   "outputs": [
    {
     "data": {
      "text/plain": [
       "267"
      ]
     },
     "execution_count": 171,
     "metadata": {},
     "output_type": "execute_result"
    }
   ],
   "source": [
    "len(movies_copy[movies_copy['production_companies'] == 'unknown'])"
   ]
  },
  {
   "cell_type": "code",
   "execution_count": 172,
   "id": "5ff6a016-3776-4b99-87a8-8360a6253b52",
   "metadata": {},
   "outputs": [
    {
     "data": {
      "text/plain": [
       "267"
      ]
     },
     "execution_count": 172,
     "metadata": {},
     "output_type": "execute_result"
    }
   ],
   "source": [
    "prdc_unknown = movies_copy[movies_copy['production_companies'] == 'unknown']['imdb_id'].to_dict()\n",
    "len(prdc_unknown)"
   ]
  },
  {
   "cell_type": "code",
   "execution_count": 35,
   "id": "b9748216-9dd6-42a8-a47c-e63913b7a78c",
   "metadata": {},
   "outputs": [],
   "source": [
    "prdc_matrix = []\n",
    "count=0"
   ]
  },
  {
   "cell_type": "code",
   "execution_count": null,
   "id": "b376926e-98d0-4559-8a5d-bf695e2fee1c",
   "metadata": {
    "tags": []
   },
   "outputs": [],
   "source": [
    "# imdb api library is taking too much time so let's use imdb api from rapid api website\n",
    "\n",
    "for i in list(prdc_unknown.values()):\n",
    "    \n",
    "    url = \"https://imdb8.p.rapidapi.com/title/get-company-credits\"\n",
    "\n",
    "    querystring = {\"tconst\":\"{}\".format(i)}\n",
    "\n",
    "    headers = {\n",
    "        \"X-RapidAPI-Key\": \"ef44d30bedmsh7d2930aa0e90321p11240djsnf550adfe0503\",\n",
    "        \"X-RapidAPI-Host\": \"imdb8.p.rapidapi.com\"\n",
    "    }\n",
    "\n",
    "    response = requests.get(url, headers=headers, params=querystring)\n",
    "\n",
    "    prdc_matrix.append(response.json())\n",
    "    count+=1"
   ]
  },
  {
   "cell_type": "markdown",
   "id": "562e7173-d343-4afb-abb9-001b01a8a1bb",
   "metadata": {},
   "source": [
    "* i converted prdc_matrix matrix into a dataframe called 'prdc' and named the column as 'jsons'"
   ]
  },
  {
   "cell_type": "code",
   "execution_count": 179,
   "id": "0bd064eb-a92c-4261-b437-34e9249a2b30",
   "metadata": {},
   "outputs": [],
   "source": [
    "pcs = [] #for collecting names\n",
    "for record in prdc['jsons']:\n",
    "    \n",
    "    if record != 'no result':\n",
    "        if record[0]['id'] == 'production':\n",
    "            \n",
    "            pc_temp = []\n",
    "            for i in range(len(record[0]['section']['items'])):\n",
    "                \n",
    "                pc_temp.append(record[0]['section']['items'][i]['rowTitle'])\n",
    "            \n",
    "            pcs.append(pc_temp)\n",
    "                \n",
    "                \n",
    "            \n",
    "        else:\n",
    "            pcs.append('unknown')\n",
    "    else:\n",
    "        pcs.append('unknown')"
   ]
  },
  {
   "cell_type": "code",
   "execution_count": 180,
   "id": "ecb492bc-301f-4711-8874-af158a92086c",
   "metadata": {},
   "outputs": [
    {
     "data": {
      "text/plain": [
       "267"
      ]
     },
     "execution_count": 180,
     "metadata": {},
     "output_type": "execute_result"
    }
   ],
   "source": [
    "len(pcs) #this contains extrcted production companies"
   ]
  },
  {
   "cell_type": "code",
   "execution_count": 181,
   "id": "ec0a87cc-58b9-4f11-90d2-3e202bc5ccad",
   "metadata": {},
   "outputs": [],
   "source": [
    "#updating in prdc_unknown\n",
    "for key, value in prdc_unknown.items():  \n",
    "    prdc_unknown[key] = pcs.pop(0)"
   ]
  },
  {
   "cell_type": "code",
   "execution_count": 182,
   "id": "14dbf341-45ce-490d-8430-033a4fddcb0c",
   "metadata": {},
   "outputs": [
    {
     "data": {
      "text/plain": [
       "267"
      ]
     },
     "execution_count": 182,
     "metadata": {},
     "output_type": "execute_result"
    }
   ],
   "source": [
    "len(prdc_unknown)"
   ]
  },
  {
   "cell_type": "markdown",
   "id": "7c732c3a-0246-4185-b3fa-b9aa465ef42a",
   "metadata": {},
   "source": [
    "* updating rows in production_companies column where it has 'unknown' value, with fetched values"
   ]
  },
  {
   "cell_type": "code",
   "execution_count": null,
   "id": "5e2f545f-aff4-4c4a-8a42-d80e0f5cfba2",
   "metadata": {
    "tags": []
   },
   "outputs": [],
   "source": [
    "movies_copy['production_companies'].update(prdc_unknown)"
   ]
  },
  {
   "cell_type": "code",
   "execution_count": 68,
   "id": "52d83883-ad57-410f-b50a-cd867e2be7df",
   "metadata": {},
   "outputs": [
    {
     "data": {
      "text/plain": [
       "267"
      ]
     },
     "execution_count": 68,
     "metadata": {},
     "output_type": "execute_result"
    }
   ],
   "source": [
    " # no we have only 23 rows unknown let's leave them\n",
    "len(movies_copy[movies_copy['production_companies'] == 'unknown']) "
   ]
  },
  {
   "cell_type": "markdown",
   "id": "8b13117d-745a-4796-a488-1c0670d01b7e",
   "metadata": {
    "tags": []
   },
   "source": [
    "# Text cleaning"
   ]
  },
  {
   "cell_type": "markdown",
   "id": "d759338c-926a-41a0-ade6-3d88f1b843d0",
   "metadata": {},
   "source": [
    "cleaning generes, cast, director, production_companies\n",
    "\n",
    "* removing special characters in between entities/names in columns genres, cast except ',' which we'll remove later"
   ]
  },
  {
   "cell_type": "code",
   "execution_count": 232,
   "id": "0d402bdd-f73f-4207-b13d-22b0915b9813",
   "metadata": {},
   "outputs": [
    {
     "name": "stdout",
     "output_type": "stream",
     "text": [
      "<class 'pandas.core.frame.DataFrame'>\n",
      "RangeIndex: 6141 entries, 0 to 6140\n",
      "Data columns (total 9 columns):\n",
      " #   Column                Non-Null Count  Dtype \n",
      "---  ------                --------------  ----- \n",
      " 0   title                 6141 non-null   object\n",
      " 1   release_year          6141 non-null   int64 \n",
      " 2   imdb_id               6141 non-null   object\n",
      " 3   poster                6141 non-null   object\n",
      " 4   tmdb_id               6141 non-null   int64 \n",
      " 5   cast                  6141 non-null   object\n",
      " 6   director              6141 non-null   object\n",
      " 7   genres                6141 non-null   object\n",
      " 8   production_companies  6141 non-null   object\n",
      "dtypes: int64(2), object(7)\n",
      "memory usage: 431.9+ KB\n"
     ]
    }
   ],
   "source": [
    "movies_copy = pd.read_csv(r\"C:\\Users\\P PAVAN REDDY\\Documents\\My Files\\Projects\\Movie Recommendation system\\movies_cleaned.csv\")\n",
    "movies_copy.info()"
   ]
  },
  {
   "cell_type": "code",
   "execution_count": 233,
   "id": "b9226b6b",
   "metadata": {},
   "outputs": [],
   "source": [
    "movies_copy = pd.concat([movies_copy, top_missing], ignore_index=True)"
   ]
  },
  {
   "cell_type": "code",
   "execution_count": 234,
   "id": "8a677d98-aa49-410d-a58d-a55994af485b",
   "metadata": {},
   "outputs": [],
   "source": [
    "#cast\n",
    "movies_copy['cast'] = movies_copy['cast'].apply(lambda s : s.translate({ord(i): '' for i in \".[]'\\\"\"}))"
   ]
  },
  {
   "cell_type": "code",
   "execution_count": 235,
   "id": "fd09cbea-f682-448e-a646-def5fc2d6afd",
   "metadata": {},
   "outputs": [
    {
     "data": {
      "text/plain": [
       "'AnthonyLaPaglia DannyAiello LainieKazan FrankPesce RobertForster RonKarabatsos'"
      ]
     },
     "execution_count": 235,
     "metadata": {},
     "output_type": "execute_result"
    }
   ],
   "source": [
    "movies_copy['cast'][0]"
   ]
  },
  {
   "cell_type": "code",
   "execution_count": 236,
   "id": "57222157-5489-4e38-bd11-d892b13219cc",
   "metadata": {},
   "outputs": [],
   "source": [
    "#genres\n",
    "movies_copy['genres'] = movies_copy['genres'].apply(lambda s : s.translate({ord(i): '' for i in \".[]'\\\"\"}))"
   ]
  },
  {
   "cell_type": "code",
   "execution_count": 237,
   "id": "aeae9dac-e3f9-40d0-b64f-49b58ed80389",
   "metadata": {},
   "outputs": [
    {
     "data": {
      "text/plain": [
       "3987    Thriller Crime Mystery\n",
       "2477     Drama History Romance\n",
       "591              Comedy Family\n",
       "5813       Crime Drama Mystery\n",
       "3118                     Drama\n",
       "Name: genres, dtype: object"
      ]
     },
     "execution_count": 237,
     "metadata": {},
     "output_type": "execute_result"
    }
   ],
   "source": [
    "movies_copy['genres'].sample(5)"
   ]
  },
  {
   "cell_type": "code",
   "execution_count": 238,
   "id": "76dc6756-18ca-4d64-ae2b-c168f7eb5ab4",
   "metadata": {},
   "outputs": [],
   "source": [
    "#director \n",
    "movies_copy['director'] = movies_copy['director'].apply(lambda s : s.translate({ord(i): '' for i in \".[]'\\\"\"}))"
   ]
  },
  {
   "cell_type": "code",
   "execution_count": 239,
   "id": "c3d6c08f-642f-441a-985e-3b3d8e15d7b5",
   "metadata": {},
   "outputs": [
    {
     "data": {
      "text/plain": [
       "'GeorgeGallo'"
      ]
     },
     "execution_count": 239,
     "metadata": {},
     "output_type": "execute_result"
    }
   ],
   "source": [
    "movies_copy.iloc[0]['director']"
   ]
  },
  {
   "cell_type": "code",
   "execution_count": 240,
   "id": "80efb3f1-5789-472a-8f73-2882c63d92e9",
   "metadata": {},
   "outputs": [],
   "source": [
    "#production_companies\n",
    "movies_copy['production_companies'] = movies_copy['production_companies'].apply(lambda s : s.translate({ord(i): '' for i in \".[]'\\\"\"}))"
   ]
  },
  {
   "cell_type": "markdown",
   "id": "369610a8-46b7-4ddc-b22c-17b54736e7b4",
   "metadata": {},
   "source": [
    "Now we got cleaned data which is suitable for displaying in the website so, let's export it into our database"
   ]
  },
  {
   "cell_type": "code",
   "execution_count": 241,
   "id": "848fbac0-88f2-42b7-a659-d175557f0bca",
   "metadata": {},
   "outputs": [
    {
     "data": {
      "text/html": [
       "<div>\n",
       "<style scoped>\n",
       "    .dataframe tbody tr th:only-of-type {\n",
       "        vertical-align: middle;\n",
       "    }\n",
       "\n",
       "    .dataframe tbody tr th {\n",
       "        vertical-align: top;\n",
       "    }\n",
       "\n",
       "    .dataframe thead th {\n",
       "        text-align: right;\n",
       "    }\n",
       "</style>\n",
       "<table border=\"1\" class=\"dataframe\">\n",
       "  <thead>\n",
       "    <tr style=\"text-align: right;\">\n",
       "      <th></th>\n",
       "      <th>genres</th>\n",
       "      <th>cast</th>\n",
       "      <th>director</th>\n",
       "      <th>production_companies</th>\n",
       "    </tr>\n",
       "  </thead>\n",
       "  <tbody>\n",
       "    <tr>\n",
       "      <th>6142</th>\n",
       "      <td>Action, Adventure, Science Fiction</td>\n",
       "      <td>Robert Downey Jr, Gwyneth Paltrow, Don Cheadle...</td>\n",
       "      <td>Shane Black</td>\n",
       "      <td>Marvel Studios</td>\n",
       "    </tr>\n",
       "    <tr>\n",
       "      <th>6143</th>\n",
       "      <td>Science Fiction, Adventure, Action</td>\n",
       "      <td>Sam Worthington, Zoe Saldaña, Sigourney Weaver...</td>\n",
       "      <td>James Cameron</td>\n",
       "      <td>20th Century Studios, Lightstorm Entertainment</td>\n",
       "    </tr>\n",
       "    <tr>\n",
       "      <th>6144</th>\n",
       "      <td>Adventure, Action, Science Fiction</td>\n",
       "      <td>Harrison Ford, Mark Hamill, Carrie Fisher, Ada...</td>\n",
       "      <td>JJ Abrams</td>\n",
       "      <td>Lucasfilm Ltd, Bad Robot</td>\n",
       "    </tr>\n",
       "    <tr>\n",
       "      <th>6145</th>\n",
       "      <td>Adventure, Action, Science Fiction</td>\n",
       "      <td>Mark Hamill, Carrie Fisher, Adam Driver, Daisy...</td>\n",
       "      <td>Rian Johnson</td>\n",
       "      <td>Lucasfilm Ltd</td>\n",
       "    </tr>\n",
       "    <tr>\n",
       "      <th>6146</th>\n",
       "      <td>Action, Thriller, Crime</td>\n",
       "      <td>Vin Diesel, Paul Walker, Jason Statham, Michel...</td>\n",
       "      <td>James Wan</td>\n",
       "      <td>Original Film, One Race, Universal Pictures</td>\n",
       "    </tr>\n",
       "  </tbody>\n",
       "</table>\n",
       "</div>"
      ],
      "text/plain": [
       "                                  genres  \\\n",
       "6142  Action, Adventure, Science Fiction   \n",
       "6143  Science Fiction, Adventure, Action   \n",
       "6144  Adventure, Action, Science Fiction   \n",
       "6145  Adventure, Action, Science Fiction   \n",
       "6146             Action, Thriller, Crime   \n",
       "\n",
       "                                                   cast       director  \\\n",
       "6142  Robert Downey Jr, Gwyneth Paltrow, Don Cheadle...    Shane Black   \n",
       "6143  Sam Worthington, Zoe Saldaña, Sigourney Weaver...  James Cameron   \n",
       "6144  Harrison Ford, Mark Hamill, Carrie Fisher, Ada...      JJ Abrams   \n",
       "6145  Mark Hamill, Carrie Fisher, Adam Driver, Daisy...   Rian Johnson   \n",
       "6146  Vin Diesel, Paul Walker, Jason Statham, Michel...      James Wan   \n",
       "\n",
       "                                production_companies  \n",
       "6142                                  Marvel Studios  \n",
       "6143  20th Century Studios, Lightstorm Entertainment  \n",
       "6144                        Lucasfilm Ltd, Bad Robot  \n",
       "6145                                   Lucasfilm Ltd  \n",
       "6146     Original Film, One Race, Universal Pictures  "
      ]
     },
     "execution_count": 241,
     "metadata": {},
     "output_type": "execute_result"
    }
   ],
   "source": [
    "#after removing special characters \n",
    "movies_copy[['genres', 'cast', 'director', 'production_companies']].tail()"
   ]
  },
  {
   "cell_type": "code",
   "execution_count": 242,
   "id": "4c4b3b8f",
   "metadata": {},
   "outputs": [],
   "source": [
    "#movies_copy.to_csv(\"movies_display.csv\", index=False)"
   ]
  },
  {
   "cell_type": "markdown",
   "id": "2336a10f-96e4-4105-b86c-1b0f5b1b3314",
   "metadata": {},
   "source": [
    "remove white spaces in between words of each entity/name"
   ]
  },
  {
   "cell_type": "code",
   "execution_count": null,
   "id": "19a24d08-7dd4-4962-9422-21f5db9e2b43",
   "metadata": {
    "vscode": {
     "languageId": "plaintext"
    }
   },
   "outputs": [],
   "source": [
    "#cast\n",
    "movies_copy['cast'] = movies_copy['cast'].apply(lambda x : x.replace(' ', ''))\n",
    "movies_copy['cast'] = movies_copy['cast'].apply(lambda x : x.replace(',', ' '))\n",
    "#genres\n",
    "movies_copy['genres'] = movies_copy['genres'].apply(lambda x : x.replace(' ', ''))\n",
    "movies_copy['genres'] = movies_copy['genres'].apply(lambda x : x.replace(',', ' '))\n",
    "#director\n",
    "movies_copy['director'] = movies_copy['director'].apply(lambda x : x.replace(' ', ''))\n",
    "movies_copy['director'] = movies_copy['director'].apply(lambda x : x.replace(',', ' '))\n",
    "#production_companies\n",
    "movies_copy['production_companies'] = movies_copy['production_companies'].apply(lambda x : x.replace(' ', ''))\n",
    "movies_copy['production_companies'] = movies_copy['production_companies'].apply(lambda x : x.replace(',', ' '))"
   ]
  },
  {
   "cell_type": "code",
   "execution_count": 244,
   "id": "95759004-f921-4686-908b-023ba54ceefe",
   "metadata": {},
   "outputs": [
    {
     "data": {
      "text/html": [
       "<div>\n",
       "<style scoped>\n",
       "    .dataframe tbody tr th:only-of-type {\n",
       "        vertical-align: middle;\n",
       "    }\n",
       "\n",
       "    .dataframe tbody tr th {\n",
       "        vertical-align: top;\n",
       "    }\n",
       "\n",
       "    .dataframe thead th {\n",
       "        text-align: right;\n",
       "    }\n",
       "</style>\n",
       "<table border=\"1\" class=\"dataframe\">\n",
       "  <thead>\n",
       "    <tr style=\"text-align: right;\">\n",
       "      <th></th>\n",
       "      <th>cast</th>\n",
       "      <th>genres</th>\n",
       "      <th>director</th>\n",
       "      <th>production_companies</th>\n",
       "    </tr>\n",
       "  </thead>\n",
       "  <tbody>\n",
       "    <tr>\n",
       "      <th>6142</th>\n",
       "      <td>RobertDowneyJr GwynethPaltrow DonCheadle GuyPe...</td>\n",
       "      <td>Action Adventure ScienceFiction</td>\n",
       "      <td>ShaneBlack</td>\n",
       "      <td>MarvelStudios</td>\n",
       "    </tr>\n",
       "    <tr>\n",
       "      <th>6143</th>\n",
       "      <td>SamWorthington ZoeSaldaña SigourneyWeaver Step...</td>\n",
       "      <td>ScienceFiction Adventure Action</td>\n",
       "      <td>JamesCameron</td>\n",
       "      <td>20thCenturyStudios LightstormEntertainment</td>\n",
       "    </tr>\n",
       "    <tr>\n",
       "      <th>6144</th>\n",
       "      <td>HarrisonFord MarkHamill CarrieFisher AdamDrive...</td>\n",
       "      <td>Adventure Action ScienceFiction</td>\n",
       "      <td>JJAbrams</td>\n",
       "      <td>LucasfilmLtd BadRobot</td>\n",
       "    </tr>\n",
       "    <tr>\n",
       "      <th>6145</th>\n",
       "      <td>MarkHamill CarrieFisher AdamDriver DaisyRidley...</td>\n",
       "      <td>Adventure Action ScienceFiction</td>\n",
       "      <td>RianJohnson</td>\n",
       "      <td>LucasfilmLtd</td>\n",
       "    </tr>\n",
       "    <tr>\n",
       "      <th>6146</th>\n",
       "      <td>VinDiesel PaulWalker JasonStatham MichelleRodr...</td>\n",
       "      <td>Action Thriller Crime</td>\n",
       "      <td>JamesWan</td>\n",
       "      <td>OriginalFilm OneRace UniversalPictures</td>\n",
       "    </tr>\n",
       "  </tbody>\n",
       "</table>\n",
       "</div>"
      ],
      "text/plain": [
       "                                                   cast  \\\n",
       "6142  RobertDowneyJr GwynethPaltrow DonCheadle GuyPe...   \n",
       "6143  SamWorthington ZoeSaldaña SigourneyWeaver Step...   \n",
       "6144  HarrisonFord MarkHamill CarrieFisher AdamDrive...   \n",
       "6145  MarkHamill CarrieFisher AdamDriver DaisyRidley...   \n",
       "6146  VinDiesel PaulWalker JasonStatham MichelleRodr...   \n",
       "\n",
       "                               genres      director  \\\n",
       "6142  Action Adventure ScienceFiction    ShaneBlack   \n",
       "6143  ScienceFiction Adventure Action  JamesCameron   \n",
       "6144  Adventure Action ScienceFiction      JJAbrams   \n",
       "6145  Adventure Action ScienceFiction   RianJohnson   \n",
       "6146            Action Thriller Crime      JamesWan   \n",
       "\n",
       "                            production_companies  \n",
       "6142                               MarvelStudios  \n",
       "6143  20thCenturyStudios LightstormEntertainment  \n",
       "6144                       LucasfilmLtd BadRobot  \n",
       "6145                                LucasfilmLtd  \n",
       "6146      OriginalFilm OneRace UniversalPictures  "
      ]
     },
     "execution_count": 244,
     "metadata": {},
     "output_type": "execute_result"
    }
   ],
   "source": [
    "movies_copy[['cast', 'genres', 'director', 'production_companies']].tail()  #no white spaces"
   ]
  },
  {
   "cell_type": "code",
   "execution_count": null,
   "id": "ca474ddd",
   "metadata": {},
   "outputs": [],
   "source": []
  }
 ],
 "metadata": {
  "kernelspec": {
   "display_name": "Python 3 (ipykernel)",
   "language": "python",
   "name": "python3"
  },
  "language_info": {
   "codemirror_mode": {
    "name": "ipython",
    "version": 3
   },
   "file_extension": ".py",
   "mimetype": "text/x-python",
   "name": "python",
   "nbconvert_exporter": "python",
   "pygments_lexer": "ipython3",
   "version": "3.9.16"
  },
  "toc-autonumbering": true,
  "toc-showmarkdowntxt": true
 },
 "nbformat": 4,
 "nbformat_minor": 5
}
