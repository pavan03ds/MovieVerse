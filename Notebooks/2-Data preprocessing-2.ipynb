{
 "cells": [
  {
   "cell_type": "code",
   "execution_count": 1,
   "id": "2b129b01-4f45-4de3-a071-b733b435145b",
   "metadata": {},
   "outputs": [],
   "source": [
    "import pandas as pd\n",
    "import numpy as np\n",
    "import time\n",
    "import os\n",
    "import pickle\n",
    "from sklearn.feature_extraction.text import TfidfVectorizer\n",
    "from sklearn.compose import ColumnTransformer\n",
    "from sklearn.metrics.pairwise import cosine_similarity"
   ]
  },
  {
   "cell_type": "code",
   "execution_count": 2,
   "id": "eb249943-18b4-49ab-891a-166ad6e7fa53",
   "metadata": {},
   "outputs": [],
   "source": [
    "hindi_movies = pickle.load(open(\"hindi_movies.pkl\", 'rb'))"
   ]
  },
  {
   "cell_type": "code",
   "execution_count": 3,
   "id": "8614725a-31b4-48b6-8b5f-3a96014bbb13",
   "metadata": {},
   "outputs": [
    {
     "name": "stdout",
     "output_type": "stream",
     "text": [
      "<class 'pandas.core.frame.DataFrame'>\n",
      "RangeIndex: 1851 entries, 0 to 1850\n",
      "Data columns (total 11 columns):\n",
      " #   Column                Non-Null Count  Dtype  \n",
      "---  ------                --------------  -----  \n",
      " 0   Title                 1851 non-null   object \n",
      " 1   release_year          1851 non-null   int32  \n",
      " 2   cast_tmdb             1851 non-null   object \n",
      " 3   director_tmdb         1851 non-null   object \n",
      " 4   tmdb_id               1851 non-null   int64  \n",
      " 5   overview              1851 non-null   object \n",
      " 6   rating                1851 non-null   float64\n",
      " 7   poster                1851 non-null   object \n",
      " 8   genres_tmdb           1851 non-null   object \n",
      " 9   production_companies  1851 non-null   object \n",
      " 10  imdb_id               1851 non-null   object \n",
      "dtypes: float64(1), int32(1), int64(1), object(8)\n",
      "memory usage: 152.0+ KB\n"
     ]
    }
   ],
   "source": [
    "hindi_movies.info()"
   ]
  },
  {
   "cell_type": "code",
   "execution_count": 4,
   "id": "469cf722-6341-45c8-8466-a5a8ffad8e59",
   "metadata": {},
   "outputs": [],
   "source": [
    "telugu_movies = pickle.load(open(\"telugu_movies_data.pkl\", 'rb'))"
   ]
  },
  {
   "cell_type": "code",
   "execution_count": 5,
   "id": "4c8752c4-30ba-4941-b72d-ccff79b72b3b",
   "metadata": {},
   "outputs": [
    {
     "name": "stdout",
     "output_type": "stream",
     "text": [
      "<class 'pandas.core.frame.DataFrame'>\n",
      "RangeIndex: 1522 entries, 0 to 1521\n",
      "Data columns (total 11 columns):\n",
      " #   Column                Non-Null Count  Dtype  \n",
      "---  ------                --------------  -----  \n",
      " 0   Title                 1522 non-null   object \n",
      " 1   release_year          1522 non-null   int64  \n",
      " 2   cast_tmdb             1522 non-null   object \n",
      " 3   director_tmdb         1522 non-null   object \n",
      " 4   tmdb_id               1522 non-null   int64  \n",
      " 5   overview              1522 non-null   object \n",
      " 6   rating                1522 non-null   float64\n",
      " 7   poster                1522 non-null   object \n",
      " 8   genres_tmdb           1522 non-null   object \n",
      " 9   production_companies  1522 non-null   object \n",
      " 10  imdb_id               1522 non-null   object \n",
      "dtypes: float64(1), int64(2), object(8)\n",
      "memory usage: 130.9+ KB\n"
     ]
    }
   ],
   "source": [
    "telugu_movies.info()"
   ]
  },
  {
   "cell_type": "code",
   "execution_count": 6,
   "id": "37aed68a-1fd6-4a15-a11a-1148a2122254",
   "metadata": {},
   "outputs": [],
   "source": [
    "indian_movies = pd.concat([hindi_movies, telugu_movies], ignore_index=True)"
   ]
  },
  {
   "cell_type": "code",
   "execution_count": 7,
   "id": "acdd5b81-a7b6-4d8e-aae4-575e7e0a9015",
   "metadata": {},
   "outputs": [
    {
     "name": "stdout",
     "output_type": "stream",
     "text": [
      "<class 'pandas.core.frame.DataFrame'>\n",
      "RangeIndex: 3373 entries, 0 to 3372\n",
      "Data columns (total 11 columns):\n",
      " #   Column                Non-Null Count  Dtype  \n",
      "---  ------                --------------  -----  \n",
      " 0   Title                 3373 non-null   object \n",
      " 1   release_year          3373 non-null   int64  \n",
      " 2   cast_tmdb             3373 non-null   object \n",
      " 3   director_tmdb         3373 non-null   object \n",
      " 4   tmdb_id               3373 non-null   int64  \n",
      " 5   overview              3373 non-null   object \n",
      " 6   rating                3373 non-null   float64\n",
      " 7   poster                3373 non-null   object \n",
      " 8   genres_tmdb           3373 non-null   object \n",
      " 9   production_companies  3373 non-null   object \n",
      " 10  imdb_id               3373 non-null   object \n",
      "dtypes: float64(1), int64(2), object(8)\n",
      "memory usage: 290.0+ KB\n"
     ]
    }
   ],
   "source": [
    "indian_movies.info()"
   ]
  },
  {
   "cell_type": "markdown",
   "id": "b770259d-dfbe-4dfb-ba4b-e8eb96560933",
   "metadata": {},
   "source": [
    "https://image.tmdb.org/t/p/original/oLhXBu8u2WUJkViIw5rl9Aq04W8.jpg"
   ]
  },
  {
   "cell_type": "markdown",
   "id": "eea1cc29-9c1d-4f72-b1a8-abe39f613116",
   "metadata": {},
   "source": [
    "https://image.tmdb.org/t/p/original/5grbkwNnMylKw9dGq0X6CGn7E4O.jpg"
   ]
  },
  {
   "cell_type": "markdown",
   "id": "17122088-1474-4900-aa3b-f4fc98dfdd24",
   "metadata": {},
   "source": [
    "poster"
   ]
  },
  {
   "cell_type": "code",
   "execution_count": 20,
   "id": "9261ed46-f6f4-4891-8baa-0ba570e0e288",
   "metadata": {},
   "outputs": [
    {
     "data": {
      "text/plain": [
       "'/9xl6TNdI2QM1kKBrsuNKJkWadu4.jpg'"
      ]
     },
     "execution_count": 20,
     "metadata": {},
     "output_type": "execute_result"
    }
   ],
   "source": [
    "indian_movies['poster'][1]"
   ]
  },
  {
   "cell_type": "code",
   "execution_count": 22,
   "id": "08ac7387-2278-4b0c-9a0c-b3c29820ddf6",
   "metadata": {},
   "outputs": [],
   "source": [
    "# concat 'https://image.tmdb.org/t/p/original' with strings present in poster column"
   ]
  },
  {
   "cell_type": "code",
   "execution_count": 23,
   "id": "19dff4bf-e6a0-4f2f-800e-c1d945b58139",
   "metadata": {},
   "outputs": [],
   "source": [
    "def get_poster(s):\n",
    "    \n",
    "    link='https://image.tmdb.org/t/p/original'+ s\n",
    "    return link"
   ]
  },
  {
   "cell_type": "code",
   "execution_count": 26,
   "id": "114d260b-c4b6-48b4-a2da-7c05d5b2c740",
   "metadata": {},
   "outputs": [
    {
     "data": {
      "text/plain": [
       "'https://image.tmdb.org/t/p/original/pV6xLQh54ga8oaQqJtUqLp12LwQ.jpg'"
      ]
     },
     "execution_count": 26,
     "metadata": {},
     "output_type": "execute_result"
    }
   ],
   "source": [
    "get_poster(indian_movies['poster'][3000])"
   ]
  },
  {
   "cell_type": "code",
   "execution_count": 31,
   "id": "895bc59e-27fb-4b55-b671-7fa86279a980",
   "metadata": {},
   "outputs": [],
   "source": [
    "indian_movies['poster'] = indian_movies['poster'].apply(get_poster)"
   ]
  },
  {
   "cell_type": "markdown",
   "id": "d2711965-b192-494f-b133-1fe50c2d806b",
   "metadata": {},
   "source": [
    "cast, director and genres for displaying"
   ]
  },
  {
   "cell_type": "code",
   "execution_count": 125,
   "id": "60fc69a8-76ca-492f-91e6-4b657fc1da00",
   "metadata": {
    "tags": []
   },
   "outputs": [],
   "source": [
    "#cast\n",
    "indian_movies['cast_display'] = indian_movies['cast_tmdb'].apply(lambda s : str(s).translate({ord(i): '' for i in \".[]-:;+|'\\\"\"}))"
   ]
  },
  {
   "cell_type": "code",
   "execution_count": 126,
   "id": "f91a16e6-d663-4883-9b20-b00adb1209f7",
   "metadata": {},
   "outputs": [
    {
     "data": {
      "text/plain": [
       "898    Nazia Hussain, Aasad Mirza, Salim Khan, Saira ...\n",
       "Name: cast_display, dtype: object"
      ]
     },
     "execution_count": 126,
     "metadata": {},
     "output_type": "execute_result"
    }
   ],
   "source": [
    "indian_movies['cast_display'].sample()"
   ]
  },
  {
   "cell_type": "code",
   "execution_count": 127,
   "id": "6cd1c043-5501-491d-9889-6886ed1be2a0",
   "metadata": {},
   "outputs": [],
   "source": [
    "# \" \".join([cast for cast in indian_movies['cast_tmdb'][0]])"
   ]
  },
  {
   "cell_type": "code",
   "execution_count": 128,
   "id": "6ede3231-655c-4d17-9fdf-90b1d2de2d30",
   "metadata": {},
   "outputs": [],
   "source": [
    "#genres\n",
    "indian_movies['genres_display'] = indian_movies['genres_tmdb'].apply(lambda s : str(s).translate({ord(i): '' for i in \".[]-:;+|'\\\"\"}))"
   ]
  },
  {
   "cell_type": "code",
   "execution_count": 129,
   "id": "eec5422e-2b2f-4a3d-a9c5-5b8572b4dbc9",
   "metadata": {},
   "outputs": [
    {
     "data": {
      "text/plain": [
       "1825       Crime, Drama\n",
       "2484            Romance\n",
       "1514    Romance, Comedy\n",
       "1464    Thriller, Drama\n",
       "174     Family, Fantasy\n",
       "Name: genres_display, dtype: object"
      ]
     },
     "execution_count": 129,
     "metadata": {},
     "output_type": "execute_result"
    }
   ],
   "source": [
    "indian_movies['genres_display'].sample(5)"
   ]
  },
  {
   "cell_type": "code",
   "execution_count": 130,
   "id": "471eecdd-3f5f-4d4e-87f3-ed95611f5cd3",
   "metadata": {},
   "outputs": [],
   "source": [
    "#director\n",
    "indian_movies['director_display'] = indian_movies['director_tmdb'].apply(lambda s : str(s).translate({ord(i): '' for i in \".[]-:;+|'\\\"\"}))"
   ]
  },
  {
   "cell_type": "code",
   "execution_count": 131,
   "id": "1d1db1b2-6120-40e3-9b0f-bf0164f840d8",
   "metadata": {},
   "outputs": [
    {
     "data": {
      "text/plain": [
       "235     Govind Nihalani\n",
       "1043            unknown\n",
       "2575            unknown\n",
       "1892            unknown\n",
       "3146            unknown\n",
       "Name: director_display, dtype: object"
      ]
     },
     "execution_count": 131,
     "metadata": {},
     "output_type": "execute_result"
    }
   ],
   "source": [
    "indian_movies['director_display'].sample(5)"
   ]
  },
  {
   "cell_type": "code",
   "execution_count": 132,
   "id": "8cf25b86-cf19-40c1-ac4c-5cd94144fc56",
   "metadata": {},
   "outputs": [],
   "source": [
    "#director\n",
    "indian_movies['production_companies_display'] = indian_movies['production_companies'].apply(lambda s : str(s).translate({ord(i): '' for i in \".[]-:;+|'\\\"\"}))"
   ]
  },
  {
   "cell_type": "code",
   "execution_count": 133,
   "id": "2bb0131d-4fe2-4744-b3be-78f316dab58a",
   "metadata": {},
   "outputs": [
    {
     "data": {
      "text/plain": [
       "1787                               Clean Slate Films\n",
       "1396     Saptrishi Cinevision, Storm Motion Pictures\n",
       "2808                            Daydream Productions\n",
       "1432    Balaji Motion Pictures, Pi Films Productions\n",
       "2878                                       no result\n",
       "Name: production_companies_display, dtype: object"
      ]
     },
     "execution_count": 133,
     "metadata": {},
     "output_type": "execute_result"
    }
   ],
   "source": [
    "indian_movies['production_companies_display'].sample(5)"
   ]
  },
  {
   "cell_type": "code",
   "execution_count": 134,
   "id": "f6ee436f-142b-4df8-9d20-5396010edfc4",
   "metadata": {},
   "outputs": [
    {
     "data": {
      "text/html": [
       "<div>\n",
       "<style scoped>\n",
       "    .dataframe tbody tr th:only-of-type {\n",
       "        vertical-align: middle;\n",
       "    }\n",
       "\n",
       "    .dataframe tbody tr th {\n",
       "        vertical-align: top;\n",
       "    }\n",
       "\n",
       "    .dataframe thead th {\n",
       "        text-align: right;\n",
       "    }\n",
       "</style>\n",
       "<table border=\"1\" class=\"dataframe\">\n",
       "  <thead>\n",
       "    <tr style=\"text-align: right;\">\n",
       "      <th></th>\n",
       "      <th>genres_display</th>\n",
       "      <th>cast_display</th>\n",
       "      <th>director_display</th>\n",
       "      <th>production_companies_display</th>\n",
       "    </tr>\n",
       "  </thead>\n",
       "  <tbody>\n",
       "    <tr>\n",
       "      <th>840</th>\n",
       "      <td>Drama, Thriller</td>\n",
       "      <td>Amitabh Bachchan, Saif Ali Khan, Deepika Paduk...</td>\n",
       "      <td>Prakash Jha</td>\n",
       "      <td>Base Industries Group, Prakash Jha Productions</td>\n",
       "    </tr>\n",
       "    <tr>\n",
       "      <th>1626</th>\n",
       "      <td>Comedy, Drama</td>\n",
       "      <td>Shardul Bhardwaj, Mahender Nath, Nutan Sinha, ...</td>\n",
       "      <td>Prateek Vats</td>\n",
       "      <td>Na Ma Productions</td>\n",
       "    </tr>\n",
       "    <tr>\n",
       "      <th>2436</th>\n",
       "      <td>Comedy, Drama</td>\n",
       "      <td>Hidetaka Yoshioka, Koyuki, Shinichi Tsutsumi, ...</td>\n",
       "      <td>Takashi Yamazaki</td>\n",
       "      <td>no result</td>\n",
       "    </tr>\n",
       "    <tr>\n",
       "      <th>1361</th>\n",
       "      <td>Drama, Comedy, Family</td>\n",
       "      <td>Saif Ali Khan, Svar Kamble, Padmapriya Janakir...</td>\n",
       "      <td>Raja Menon</td>\n",
       "      <td>Bandra West Pictures, TSeries, Abundantia Ente...</td>\n",
       "    </tr>\n",
       "    <tr>\n",
       "      <th>2395</th>\n",
       "      <td>Comedy, Drama</td>\n",
       "      <td>Krishnudu, M S Narayana, Krishna Bhagavan</td>\n",
       "      <td>Satish Vegesna</td>\n",
       "      <td>no result</td>\n",
       "    </tr>\n",
       "    <tr>\n",
       "      <th>2768</th>\n",
       "      <td>Drama, Family</td>\n",
       "      <td>Sharwanand, Anupama Parameswaran, Prakash Raj,...</td>\n",
       "      <td>Satish Vegesna</td>\n",
       "      <td>Sri Venkateswara Creations</td>\n",
       "    </tr>\n",
       "    <tr>\n",
       "      <th>2245</th>\n",
       "      <td>Thriller</td>\n",
       "      <td>Manjula Ghattamaneni, Charmy Kaur, Shashank, I...</td>\n",
       "      <td>V K Prakash</td>\n",
       "      <td>Indira Productions</td>\n",
       "    </tr>\n",
       "    <tr>\n",
       "      <th>2054</th>\n",
       "      <td>Action, Adventure, Drama, Romance</td>\n",
       "      <td>Steve Howey, Mike Vogel, Cameron Richardson, S...</td>\n",
       "      <td>Steve Boyum</td>\n",
       "      <td>Tag Entertainment, 20th Century Fox</td>\n",
       "    </tr>\n",
       "    <tr>\n",
       "      <th>2840</th>\n",
       "      <td>Comedy, Horror</td>\n",
       "      <td>Aadi Saikumar, Vaibhavi Shandilya, Brahmaji, R...</td>\n",
       "      <td>Prabhakar Podakandla</td>\n",
       "      <td>V4 Movies</td>\n",
       "    </tr>\n",
       "    <tr>\n",
       "      <th>2838</th>\n",
       "      <td>Romance, Drama</td>\n",
       "      <td>Ram Pothineni, Anupama Parameswaran, Lavanya T...</td>\n",
       "      <td>Kishore Tirumala</td>\n",
       "      <td>Sri Sravanthi Movies, PR Productions</td>\n",
       "    </tr>\n",
       "  </tbody>\n",
       "</table>\n",
       "</div>"
      ],
      "text/plain": [
       "                         genres_display  \\\n",
       "840                     Drama, Thriller   \n",
       "1626                      Comedy, Drama   \n",
       "2436                      Comedy, Drama   \n",
       "1361              Drama, Comedy, Family   \n",
       "2395                      Comedy, Drama   \n",
       "2768                      Drama, Family   \n",
       "2245                           Thriller   \n",
       "2054  Action, Adventure, Drama, Romance   \n",
       "2840                     Comedy, Horror   \n",
       "2838                     Romance, Drama   \n",
       "\n",
       "                                           cast_display      director_display  \\\n",
       "840   Amitabh Bachchan, Saif Ali Khan, Deepika Paduk...           Prakash Jha   \n",
       "1626  Shardul Bhardwaj, Mahender Nath, Nutan Sinha, ...          Prateek Vats   \n",
       "2436  Hidetaka Yoshioka, Koyuki, Shinichi Tsutsumi, ...      Takashi Yamazaki   \n",
       "1361  Saif Ali Khan, Svar Kamble, Padmapriya Janakir...            Raja Menon   \n",
       "2395          Krishnudu, M S Narayana, Krishna Bhagavan        Satish Vegesna   \n",
       "2768  Sharwanand, Anupama Parameswaran, Prakash Raj,...        Satish Vegesna   \n",
       "2245  Manjula Ghattamaneni, Charmy Kaur, Shashank, I...           V K Prakash   \n",
       "2054  Steve Howey, Mike Vogel, Cameron Richardson, S...           Steve Boyum   \n",
       "2840  Aadi Saikumar, Vaibhavi Shandilya, Brahmaji, R...  Prabhakar Podakandla   \n",
       "2838  Ram Pothineni, Anupama Parameswaran, Lavanya T...      Kishore Tirumala   \n",
       "\n",
       "                           production_companies_display  \n",
       "840      Base Industries Group, Prakash Jha Productions  \n",
       "1626                                  Na Ma Productions  \n",
       "2436                                          no result  \n",
       "1361  Bandra West Pictures, TSeries, Abundantia Ente...  \n",
       "2395                                          no result  \n",
       "2768                         Sri Venkateswara Creations  \n",
       "2245                                 Indira Productions  \n",
       "2054                Tag Entertainment, 20th Century Fox  \n",
       "2840                                          V4 Movies  \n",
       "2838               Sri Sravanthi Movies, PR Productions  "
      ]
     },
     "execution_count": 134,
     "metadata": {},
     "output_type": "execute_result"
    }
   ],
   "source": [
    "indian_movies[['genres_display', 'cast_display', 'director_display', 'production_companies_display']].sample(10)"
   ]
  },
  {
   "cell_type": "markdown",
   "id": "41793bc3-8b18-4ed9-b371-3bd5afcd503c",
   "metadata": {},
   "source": [
    "remove white spaces in between words of each entity/name"
   ]
  },
  {
   "cell_type": "code",
   "execution_count": 137,
   "id": "6d5f91fe-b40a-41d5-aa45-fc94605c46f1",
   "metadata": {},
   "outputs": [],
   "source": [
    "#cast\n",
    "indian_movies['cast'] = indian_movies['cast_display'].apply(lambda x : x.replace(' ', ''))\n",
    "indian_movies['cast'] = indian_movies['cast'].apply(lambda x : x.replace(',', ' ').lower())\n",
    "#genres\n",
    "indian_movies['genres'] = indian_movies['genres_display'].apply(lambda x : x.replace(' ', ''))\n",
    "indian_movies['genres'] = indian_movies['genres'].apply(lambda x : x.replace(',', ' ').lower())\n",
    "#director\n",
    "indian_movies['director'] = indian_movies['director_display'].apply(lambda x : x.replace(' ', ''))\n",
    "indian_movies['director'] = indian_movies['director'].apply(lambda x : x.replace(',', ' ').lower())\n",
    "#production_companies\n",
    "# indian_movies['production_companies'] = indian_movies['production_companies'].apply(lambda x : x.replace(' ', ''))\n",
    "# indian_movies['production_companies'] = indian_movies['production_companies'].apply(lambda x : x.replace(',', ' '))"
   ]
  },
  {
   "cell_type": "code",
   "execution_count": 139,
   "id": "946e5b7c-8949-4fac-9a10-f8a95c379d28",
   "metadata": {},
   "outputs": [
    {
     "data": {
      "text/html": [
       "<div>\n",
       "<style scoped>\n",
       "    .dataframe tbody tr th:only-of-type {\n",
       "        vertical-align: middle;\n",
       "    }\n",
       "\n",
       "    .dataframe tbody tr th {\n",
       "        vertical-align: top;\n",
       "    }\n",
       "\n",
       "    .dataframe thead th {\n",
       "        text-align: right;\n",
       "    }\n",
       "</style>\n",
       "<table border=\"1\" class=\"dataframe\">\n",
       "  <thead>\n",
       "    <tr style=\"text-align: right;\">\n",
       "      <th></th>\n",
       "      <th>genres</th>\n",
       "      <th>cast</th>\n",
       "      <th>director</th>\n",
       "    </tr>\n",
       "  </thead>\n",
       "  <tbody>\n",
       "    <tr>\n",
       "      <th>2180</th>\n",
       "      <td>drama</td>\n",
       "      <td>raja sneha kotasrinivasarao jdchakravarthi rag...</td>\n",
       "      <td>giribabu</td>\n",
       "    </tr>\n",
       "    <tr>\n",
       "      <th>1571</th>\n",
       "      <td>action history war romance</td>\n",
       "      <td>arjunkapoor kritisanon sanjaydutt mohnishbehl ...</td>\n",
       "      <td>ashutoshgowariker</td>\n",
       "    </tr>\n",
       "    <tr>\n",
       "      <th>1649</th>\n",
       "      <td>documentary</td>\n",
       "      <td>unknown</td>\n",
       "      <td>mehrsingh</td>\n",
       "    </tr>\n",
       "    <tr>\n",
       "      <th>3011</th>\n",
       "      <td>horror thriller</td>\n",
       "      <td>nanditaraj satyamrajesh vidyullekharaman prasa...</td>\n",
       "      <td>raajakiran</td>\n",
       "    </tr>\n",
       "    <tr>\n",
       "      <th>969</th>\n",
       "      <td>crime drama thriller</td>\n",
       "      <td>aamirkhan kareenakapoorkhan ranimukerji nawazu...</td>\n",
       "      <td>reemakagti</td>\n",
       "    </tr>\n",
       "    <tr>\n",
       "      <th>271</th>\n",
       "      <td>drama action thriller crime</td>\n",
       "      <td>anilkapoor sanjaydutt sameerareddy koenamitra ...</td>\n",
       "      <td>sanjaygupta</td>\n",
       "    </tr>\n",
       "    <tr>\n",
       "      <th>329</th>\n",
       "      <td>drama</td>\n",
       "      <td>payalrohatgi aryanvaid siddharthkoirala hinata...</td>\n",
       "      <td>unknown</td>\n",
       "    </tr>\n",
       "    <tr>\n",
       "      <th>2439</th>\n",
       "      <td>action drama fantasy</td>\n",
       "      <td>nagarjunaakkineni anushkashetty prakashraj gan...</td>\n",
       "      <td>srinivasreddy</td>\n",
       "    </tr>\n",
       "    <tr>\n",
       "      <th>1814</th>\n",
       "      <td>drama</td>\n",
       "      <td>kapilsharma shahanagoswami sayanigupta swanand...</td>\n",
       "      <td>nanditadas</td>\n",
       "    </tr>\n",
       "    <tr>\n",
       "      <th>296</th>\n",
       "      <td>thriller</td>\n",
       "      <td>arbaazkhan gracysingh shamitashetty satishkaus...</td>\n",
       "      <td>gautamadhikari</td>\n",
       "    </tr>\n",
       "  </tbody>\n",
       "</table>\n",
       "</div>"
      ],
      "text/plain": [
       "                           genres  \\\n",
       "2180                        drama   \n",
       "1571   action history war romance   \n",
       "1649                  documentary   \n",
       "3011              horror thriller   \n",
       "969          crime drama thriller   \n",
       "271   drama action thriller crime   \n",
       "329                         drama   \n",
       "2439         action drama fantasy   \n",
       "1814                        drama   \n",
       "296                      thriller   \n",
       "\n",
       "                                                   cast           director  \n",
       "2180  raja sneha kotasrinivasarao jdchakravarthi rag...           giribabu  \n",
       "1571  arjunkapoor kritisanon sanjaydutt mohnishbehl ...  ashutoshgowariker  \n",
       "1649                                            unknown          mehrsingh  \n",
       "3011  nanditaraj satyamrajesh vidyullekharaman prasa...         raajakiran  \n",
       "969   aamirkhan kareenakapoorkhan ranimukerji nawazu...         reemakagti  \n",
       "271   anilkapoor sanjaydutt sameerareddy koenamitra ...        sanjaygupta  \n",
       "329   payalrohatgi aryanvaid siddharthkoirala hinata...            unknown  \n",
       "2439  nagarjunaakkineni anushkashetty prakashraj gan...      srinivasreddy  \n",
       "1814  kapilsharma shahanagoswami sayanigupta swanand...         nanditadas  \n",
       "296   arbaazkhan gracysingh shamitashetty satishkaus...     gautamadhikari  "
      ]
     },
     "execution_count": 139,
     "metadata": {},
     "output_type": "execute_result"
    }
   ],
   "source": [
    "indian_movies[['genres', 'cast', 'director']].sample(10)"
   ]
  },
  {
   "cell_type": "code",
   "execution_count": 140,
   "id": "4038c387-36e7-4abb-a57d-d524b74340b5",
   "metadata": {},
   "outputs": [
    {
     "name": "stdout",
     "output_type": "stream",
     "text": [
      "<class 'pandas.core.frame.DataFrame'>\n",
      "RangeIndex: 3373 entries, 0 to 3372\n",
      "Data columns (total 18 columns):\n",
      " #   Column                        Non-Null Count  Dtype  \n",
      "---  ------                        --------------  -----  \n",
      " 0   Title                         3373 non-null   object \n",
      " 1   release_year                  3373 non-null   int64  \n",
      " 2   cast_tmdb                     3373 non-null   object \n",
      " 3   director_tmdb                 3373 non-null   object \n",
      " 4   tmdb_id                       3373 non-null   int64  \n",
      " 5   overview                      3373 non-null   object \n",
      " 6   rating                        3373 non-null   float64\n",
      " 7   poster                        3373 non-null   object \n",
      " 8   genres_tmdb                   3373 non-null   object \n",
      " 9   production_companies          3373 non-null   object \n",
      " 10  imdb_id                       3373 non-null   object \n",
      " 11  cast_display                  3373 non-null   object \n",
      " 12  genres_display                3373 non-null   object \n",
      " 13  director_display              3373 non-null   object \n",
      " 14  production_companies_display  3373 non-null   object \n",
      " 15  cast                          3373 non-null   object \n",
      " 16  genres                        3373 non-null   object \n",
      " 17  director                      3373 non-null   object \n",
      "dtypes: float64(1), int64(2), object(15)\n",
      "memory usage: 474.5+ KB\n"
     ]
    }
   ],
   "source": [
    "indian_movies.info()"
   ]
  },
  {
   "cell_type": "code",
   "execution_count": 141,
   "id": "fbd1863e-fa35-4fb9-be8b-01b6cd2c57db",
   "metadata": {},
   "outputs": [
    {
     "data": {
      "text/html": [
       "<div>\n",
       "<style scoped>\n",
       "    .dataframe tbody tr th:only-of-type {\n",
       "        vertical-align: middle;\n",
       "    }\n",
       "\n",
       "    .dataframe tbody tr th {\n",
       "        vertical-align: top;\n",
       "    }\n",
       "\n",
       "    .dataframe thead th {\n",
       "        text-align: right;\n",
       "    }\n",
       "</style>\n",
       "<table border=\"1\" class=\"dataframe\">\n",
       "  <thead>\n",
       "    <tr style=\"text-align: right;\">\n",
       "      <th></th>\n",
       "      <th>Title</th>\n",
       "      <th>release_year</th>\n",
       "      <th>cast_tmdb</th>\n",
       "      <th>director_tmdb</th>\n",
       "      <th>tmdb_id</th>\n",
       "      <th>overview</th>\n",
       "      <th>rating</th>\n",
       "      <th>poster</th>\n",
       "      <th>genres_tmdb</th>\n",
       "      <th>production_companies</th>\n",
       "      <th>imdb_id</th>\n",
       "      <th>cast_display</th>\n",
       "      <th>genres_display</th>\n",
       "      <th>director_display</th>\n",
       "      <th>production_companies_display</th>\n",
       "      <th>cast</th>\n",
       "      <th>genres</th>\n",
       "      <th>director</th>\n",
       "    </tr>\n",
       "  </thead>\n",
       "  <tbody>\n",
       "    <tr>\n",
       "      <th>0</th>\n",
       "      <td>Abhay</td>\n",
       "      <td>2001</td>\n",
       "      <td>[Kamal Haasan, Manisha Koirala, Raveena Tandon...</td>\n",
       "      <td>Suresh Krishna</td>\n",
       "      <td>66346</td>\n",
       "      <td>Nandu and Vijay are brothers, who were abused ...</td>\n",
       "      <td>7.200</td>\n",
       "      <td>https://image.tmdb.org/t/p/original/5grbkwNnMy...</td>\n",
       "      <td>[Thriller]</td>\n",
       "      <td>[V Creations]</td>\n",
       "      <td>tt0294264</td>\n",
       "      <td>Kamal Haasan, Manisha Koirala, Raveena Tandon,...</td>\n",
       "      <td>Thriller</td>\n",
       "      <td>Suresh Krishna</td>\n",
       "      <td>V Creations</td>\n",
       "      <td>kamalhaasan manishakoirala raveenatandon golla...</td>\n",
       "      <td>thriller</td>\n",
       "      <td>sureshkrishna</td>\n",
       "    </tr>\n",
       "    <tr>\n",
       "      <th>1</th>\n",
       "      <td>Aamdani Atthanni Kharcha Rupaiya</td>\n",
       "      <td>2001</td>\n",
       "      <td>[Govinda, Juhi Chawla, Johnny Lever, Tabu, Ket...</td>\n",
       "      <td>K Raghavendra Rao</td>\n",
       "      <td>25801</td>\n",
       "      <td>Jhoomri and her husband, Bhimsha, move into a ...</td>\n",
       "      <td>5.200</td>\n",
       "      <td>https://image.tmdb.org/t/p/original/9xl6TNdI2Q...</td>\n",
       "      <td>[Comedy]</td>\n",
       "      <td>no result</td>\n",
       "      <td>tt0305173</td>\n",
       "      <td>Govinda, Juhi Chawla, Johnny Lever, Tabu, Ketk...</td>\n",
       "      <td>Comedy</td>\n",
       "      <td>K Raghavendra Rao</td>\n",
       "      <td>no result</td>\n",
       "      <td>govinda juhichawla johnnylever tabu ketkidave ...</td>\n",
       "      <td>comedy</td>\n",
       "      <td>kraghavendrarao</td>\n",
       "    </tr>\n",
       "    <tr>\n",
       "      <th>2</th>\n",
       "      <td>Aashiq</td>\n",
       "      <td>2001</td>\n",
       "      <td>[Bobby Deol, Karisma Kapoor, Ashok Saraf, Muke...</td>\n",
       "      <td>Indra Kumar</td>\n",
       "      <td>362100</td>\n",
       "      <td>Pooja and Chander Kapoor have a heart-to-heart...</td>\n",
       "      <td>6.000</td>\n",
       "      <td>https://image.tmdb.org/t/p/original/ebH0vv6e5C...</td>\n",
       "      <td>[Action, Romance]</td>\n",
       "      <td>no result</td>\n",
       "      <td>tt0273406</td>\n",
       "      <td>Bobby Deol, Karisma Kapoor, Ashok Saraf, Mukes...</td>\n",
       "      <td>Action, Romance</td>\n",
       "      <td>Indra Kumar</td>\n",
       "      <td>no result</td>\n",
       "      <td>bobbydeol karismakapoor ashoksaraf mukeshrishi...</td>\n",
       "      <td>action romance</td>\n",
       "      <td>indrakumar</td>\n",
       "    </tr>\n",
       "    <tr>\n",
       "      <th>3</th>\n",
       "      <td>Ajnabee</td>\n",
       "      <td>2001</td>\n",
       "      <td>[Akshay Kumar, Bobby Deol, Kareena Kapoor Khan...</td>\n",
       "      <td>Mustan Alibhai Burmawalla</td>\n",
       "      <td>22316</td>\n",
       "      <td>Raj and Priya befriend their new neighbors Vic...</td>\n",
       "      <td>5.611</td>\n",
       "      <td>https://image.tmdb.org/t/p/original/rIscKIZxR4...</td>\n",
       "      <td>[Action, Crime, Drama, Thriller]</td>\n",
       "      <td>[Film Folks]</td>\n",
       "      <td>tt0278291</td>\n",
       "      <td>Akshay Kumar, Bobby Deol, Kareena Kapoor Khan,...</td>\n",
       "      <td>Action, Crime, Drama, Thriller</td>\n",
       "      <td>Mustan Alibhai Burmawalla</td>\n",
       "      <td>Film Folks</td>\n",
       "      <td>akshaykumar bobbydeol kareenakapoorkhan bipash...</td>\n",
       "      <td>action crime drama thriller</td>\n",
       "      <td>mustanalibhaiburmawalla</td>\n",
       "    </tr>\n",
       "    <tr>\n",
       "      <th>4</th>\n",
       "      <td>Aks</td>\n",
       "      <td>2001</td>\n",
       "      <td>[Amitabh Bachchan, Manoj Bajpayee, Raveena Tan...</td>\n",
       "      <td>Rakeysh Omprakash Mehra</td>\n",
       "      <td>152035</td>\n",
       "      <td>On the trail of an underworld contract killer,...</td>\n",
       "      <td>5.100</td>\n",
       "      <td>https://image.tmdb.org/t/p/original/4vGi15Vx0K...</td>\n",
       "      <td>[Crime, Thriller]</td>\n",
       "      <td>no result</td>\n",
       "      <td>tt0289845</td>\n",
       "      <td>Amitabh Bachchan, Manoj Bajpayee, Raveena Tand...</td>\n",
       "      <td>Crime, Thriller</td>\n",
       "      <td>Rakeysh Omprakash Mehra</td>\n",
       "      <td>no result</td>\n",
       "      <td>amitabhbachchan manojbajpayee raveenatandon na...</td>\n",
       "      <td>crime thriller</td>\n",
       "      <td>rakeyshomprakashmehra</td>\n",
       "    </tr>\n",
       "  </tbody>\n",
       "</table>\n",
       "</div>"
      ],
      "text/plain": [
       "                              Title  release_year  \\\n",
       "0                             Abhay          2001   \n",
       "1  Aamdani Atthanni Kharcha Rupaiya          2001   \n",
       "2                            Aashiq          2001   \n",
       "3                           Ajnabee          2001   \n",
       "4                               Aks          2001   \n",
       "\n",
       "                                           cast_tmdb  \\\n",
       "0  [Kamal Haasan, Manisha Koirala, Raveena Tandon...   \n",
       "1  [Govinda, Juhi Chawla, Johnny Lever, Tabu, Ket...   \n",
       "2  [Bobby Deol, Karisma Kapoor, Ashok Saraf, Muke...   \n",
       "3  [Akshay Kumar, Bobby Deol, Kareena Kapoor Khan...   \n",
       "4  [Amitabh Bachchan, Manoj Bajpayee, Raveena Tan...   \n",
       "\n",
       "               director_tmdb  tmdb_id  \\\n",
       "0             Suresh Krishna    66346   \n",
       "1          K Raghavendra Rao    25801   \n",
       "2                Indra Kumar   362100   \n",
       "3  Mustan Alibhai Burmawalla    22316   \n",
       "4    Rakeysh Omprakash Mehra   152035   \n",
       "\n",
       "                                            overview  rating  \\\n",
       "0  Nandu and Vijay are brothers, who were abused ...   7.200   \n",
       "1  Jhoomri and her husband, Bhimsha, move into a ...   5.200   \n",
       "2  Pooja and Chander Kapoor have a heart-to-heart...   6.000   \n",
       "3  Raj and Priya befriend their new neighbors Vic...   5.611   \n",
       "4  On the trail of an underworld contract killer,...   5.100   \n",
       "\n",
       "                                              poster  \\\n",
       "0  https://image.tmdb.org/t/p/original/5grbkwNnMy...   \n",
       "1  https://image.tmdb.org/t/p/original/9xl6TNdI2Q...   \n",
       "2  https://image.tmdb.org/t/p/original/ebH0vv6e5C...   \n",
       "3  https://image.tmdb.org/t/p/original/rIscKIZxR4...   \n",
       "4  https://image.tmdb.org/t/p/original/4vGi15Vx0K...   \n",
       "\n",
       "                        genres_tmdb production_companies    imdb_id  \\\n",
       "0                        [Thriller]        [V Creations]  tt0294264   \n",
       "1                          [Comedy]            no result  tt0305173   \n",
       "2                 [Action, Romance]            no result  tt0273406   \n",
       "3  [Action, Crime, Drama, Thriller]         [Film Folks]  tt0278291   \n",
       "4                 [Crime, Thriller]            no result  tt0289845   \n",
       "\n",
       "                                        cast_display  \\\n",
       "0  Kamal Haasan, Manisha Koirala, Raveena Tandon,...   \n",
       "1  Govinda, Juhi Chawla, Johnny Lever, Tabu, Ketk...   \n",
       "2  Bobby Deol, Karisma Kapoor, Ashok Saraf, Mukes...   \n",
       "3  Akshay Kumar, Bobby Deol, Kareena Kapoor Khan,...   \n",
       "4  Amitabh Bachchan, Manoj Bajpayee, Raveena Tand...   \n",
       "\n",
       "                   genres_display           director_display  \\\n",
       "0                        Thriller             Suresh Krishna   \n",
       "1                          Comedy          K Raghavendra Rao   \n",
       "2                 Action, Romance                Indra Kumar   \n",
       "3  Action, Crime, Drama, Thriller  Mustan Alibhai Burmawalla   \n",
       "4                 Crime, Thriller    Rakeysh Omprakash Mehra   \n",
       "\n",
       "  production_companies_display  \\\n",
       "0                  V Creations   \n",
       "1                    no result   \n",
       "2                    no result   \n",
       "3                   Film Folks   \n",
       "4                    no result   \n",
       "\n",
       "                                                cast  \\\n",
       "0  kamalhaasan manishakoirala raveenatandon golla...   \n",
       "1  govinda juhichawla johnnylever tabu ketkidave ...   \n",
       "2  bobbydeol karismakapoor ashoksaraf mukeshrishi...   \n",
       "3  akshaykumar bobbydeol kareenakapoorkhan bipash...   \n",
       "4  amitabhbachchan manojbajpayee raveenatandon na...   \n",
       "\n",
       "                        genres                 director  \n",
       "0                     thriller            sureshkrishna  \n",
       "1                       comedy          kraghavendrarao  \n",
       "2               action romance               indrakumar  \n",
       "3  action crime drama thriller  mustanalibhaiburmawalla  \n",
       "4               crime thriller    rakeyshomprakashmehra  "
      ]
     },
     "execution_count": 141,
     "metadata": {},
     "output_type": "execute_result"
    }
   ],
   "source": [
    "indian_movies.head()"
   ]
  },
  {
   "cell_type": "code",
   "execution_count": 142,
   "id": "2e412c00-f5b6-4e86-8f9e-3091845549fc",
   "metadata": {},
   "outputs": [
    {
     "data": {
      "text/plain": [
       "Index(['Title', 'release_year', 'cast_tmdb', 'director_tmdb', 'tmdb_id',\n",
       "       'overview', 'rating', 'poster', 'genres_tmdb', 'production_companies',\n",
       "       'imdb_id', 'cast_display', 'genres_display', 'director_display',\n",
       "       'production_companies_display', 'cast', 'genres', 'director'],\n",
       "      dtype='object')"
      ]
     },
     "execution_count": 142,
     "metadata": {},
     "output_type": "execute_result"
    }
   ],
   "source": [
    "indian_movies.columns"
   ]
  },
  {
   "cell_type": "code",
   "execution_count": 100,
   "id": "ec454c49-a422-4d0a-ae18-8b29577e418a",
   "metadata": {},
   "outputs": [
    {
     "data": {
      "text/plain": [
       "0                                             V Creations\n",
       "1                                               no result\n",
       "2                                               no result\n",
       "3                                              Film Folks\n",
       "4                                               no result\n",
       "                              ...                        \n",
       "3368                                      AB2 Productions\n",
       "3369          Zee Studios, Kiran Korrapati Creative Works\n",
       "3370    Retrophiles, T-Series, AA Films, UV Creations,...\n",
       "3371                        WIT STUDIO, CloverWorks, TOHO\n",
       "3372                      Hasya Movies, AK Entertainments\n",
       "Name: production_companies, Length: 3373, dtype: object"
      ]
     },
     "execution_count": 100,
     "metadata": {},
     "output_type": "execute_result"
    }
   ],
   "source": []
  },
  {
   "cell_type": "code",
   "execution_count": 118,
   "id": "3fa9ece7-605b-4236-9635-37e34dcd0b67",
   "metadata": {},
   "outputs": [
    {
     "data": {
      "text/plain": [
       "0       KamalHaasan,ManishaKoirala,RaveenaTandon,Golla...\n",
       "1       Govinda,JuhiChawla,JohnnyLever,Tabu,KetkiDave,...\n",
       "2       BobbyDeol,KarismaKapoor,AshokSaraf,MukeshRishi...\n",
       "3       AkshayKumar,BobbyDeol,KareenaKapoorKhan,Bipash...\n",
       "4       AmitabhBachchan,ManojBajpayee,RaveenaTandon,Na...\n",
       "                              ...                        \n",
       "3368    VJSunny,Saptagiri,AksaKhan,Nakshatra,PosaniKri...\n",
       "3369    Samuthirakani,AnasuyaBharadwaj,MeeraJasmine,Ma...\n",
       "3370    Prabhas,SaifAliKhan,KritiSanon,SunnySinghNijja...\n",
       "3371    TakuyaEguchi,AtsumiTanezaki,SaoriHayami,Kenich...\n",
       "3372    SreeVishnu,RebaMonicaJohn,Naresh,SrikanthIyeng...\n",
       "Name: cast_display, Length: 3373, dtype: object"
      ]
     },
     "execution_count": 118,
     "metadata": {},
     "output_type": "execute_result"
    }
   ],
   "source": [
    "indian_movies['cast_display'].apply(lambda x : x.replace(' ', ''))"
   ]
  },
  {
   "cell_type": "code",
   "execution_count": null,
   "id": "c8c27d05-a50b-4e25-9ad9-6afb7621b506",
   "metadata": {},
   "outputs": [],
   "source": []
  }
 ],
 "metadata": {
  "kernelspec": {
   "display_name": "Python 3 (ipykernel)",
   "language": "python",
   "name": "python3"
  },
  "language_info": {
   "codemirror_mode": {
    "name": "ipython",
    "version": 3
   },
   "file_extension": ".py",
   "mimetype": "text/x-python",
   "name": "python",
   "nbconvert_exporter": "python",
   "pygments_lexer": "ipython3",
   "version": "3.10.6"
  }
 },
 "nbformat": 4,
 "nbformat_minor": 5
}
